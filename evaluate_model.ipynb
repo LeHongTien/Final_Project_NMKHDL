{
 "cells": [
  {
   "cell_type": "code",
   "execution_count": 1,
   "metadata": {},
   "outputs": [
    {
     "name": "stderr",
     "output_type": "stream",
     "text": [
      "c:\\Users\\ADMIN\\AppData\\Local\\Programs\\Python\\Python312\\Lib\\site-packages\\tqdm\\auto.py:21: TqdmWarning: IProgress not found. Please update jupyter and ipywidgets. See https://ipywidgets.readthedocs.io/en/stable/user_install.html\n",
      "  from .autonotebook import tqdm as notebook_tqdm\n"
     ]
    }
   ],
   "source": [
    "import torch\n",
    "from transformers import AutoModelForSequenceClassification, AutoTokenizer\n",
    "# from datasets import load_dataset\n",
    "from sklearn.model_selection import train_test_split\n",
    "from sklearn.preprocessing import MultiLabelBinarizer\n",
    "from torch.utils.data import DataLoader\n",
    "from transformers import AdamW\n",
    "from tqdm import tqdm\n",
    "import pandas as pd\n",
    "import numpy as np"
   ]
  },
  {
   "cell_type": "code",
   "execution_count": 2,
   "metadata": {},
   "outputs": [],
   "source": [
    "# Tải mô hình và tokenizer đã lưu\n",
    "model = AutoModelForSequenceClassification.from_pretrained('./deberta_model')\n",
    "tokenizer = AutoTokenizer.from_pretrained('./deberta_model')"
   ]
  },
  {
   "cell_type": "code",
   "execution_count": 3,
   "metadata": {},
   "outputs": [],
   "source": [
    "file_name = 'cleaned_arxiv_cs_papers_all.csv'\n",
    "raw_df = pd.read_csv(file_name)"
   ]
  },
  {
   "cell_type": "code",
   "execution_count": 4,
   "metadata": {},
   "outputs": [],
   "source": [
    "# Tiền xử lý: Ghép tiêu đề và tóm tắt lại\n",
    "raw_df['text'] = raw_df['title'] + \" \" + raw_df['abstract']\n",
    "\n",
    "# Chuyển nhãn thành các giá trị nhị phân (ví dụ: cho nhiều nhãn)\n",
    "mlb = MultiLabelBinarizer()\n",
    "labels = mlb.fit_transform(raw_df['categories'].apply(lambda x: x.split(', ')))"
   ]
  },
  {
   "cell_type": "code",
   "execution_count": 5,
   "metadata": {},
   "outputs": [
    {
     "name": "stdout",
     "output_type": "stream",
     "text": [
      "Requirement already satisfied: nltk in c:\\users\\admin\\miniconda3\\lib\\site-packages (3.9.1)\n",
      "Requirement already satisfied: click in c:\\users\\admin\\miniconda3\\lib\\site-packages (from nltk) (8.1.7)\n",
      "Requirement already satisfied: joblib in c:\\users\\admin\\miniconda3\\lib\\site-packages (from nltk) (1.4.2)\n",
      "Requirement already satisfied: regex>=2021.8.3 in c:\\users\\admin\\miniconda3\\lib\\site-packages (from nltk) (2024.11.6)\n",
      "Requirement already satisfied: tqdm in c:\\users\\admin\\miniconda3\\lib\\site-packages (from nltk) (4.66.4)\n",
      "Requirement already satisfied: colorama in c:\\users\\admin\\miniconda3\\lib\\site-packages (from click->nltk) (0.4.6)\n"
     ]
    },
    {
     "name": "stderr",
     "output_type": "stream",
     "text": [
      "WARNING: Ignoring invalid distribution ~addleocr (C:\\Users\\ADMIN\\miniconda3\\Lib\\site-packages)\n",
      "WARNING: Ignoring invalid distribution ~addleocr (C:\\Users\\ADMIN\\miniconda3\\Lib\\site-packages)\n",
      "WARNING: Ignoring invalid distribution ~addleocr (C:\\Users\\ADMIN\\miniconda3\\Lib\\site-packages)\n"
     ]
    }
   ],
   "source": [
    "!pip install nltk"
   ]
  },
  {
   "cell_type": "code",
   "execution_count": 6,
   "metadata": {},
   "outputs": [
    {
     "name": "stderr",
     "output_type": "stream",
     "text": [
      "[nltk_data] Downloading package punkt to\n",
      "[nltk_data]     C:\\Users\\ADMIN\\AppData\\Roaming\\nltk_data...\n",
      "[nltk_data]   Package punkt is already up-to-date!\n",
      "[nltk_data] Downloading package stopwords to\n",
      "[nltk_data]     C:\\Users\\ADMIN\\AppData\\Roaming\\nltk_data...\n",
      "[nltk_data]   Package stopwords is already up-to-date!\n",
      "[nltk_data] Downloading package wordnet to\n",
      "[nltk_data]     C:\\Users\\ADMIN\\AppData\\Roaming\\nltk_data...\n",
      "[nltk_data]   Package wordnet is already up-to-date!\n"
     ]
    }
   ],
   "source": [
    "import re\n",
    "import nltk\n",
    "from nltk.corpus import stopwords\n",
    "from nltk.stem import WordNetLemmatizer\n",
    "from nltk.tokenize import word_tokenize\n",
    "\n",
    "# Tải các tài nguyên cần thiết từ NLTK\n",
    "nltk.download('punkt')  # Để sử dụng word_tokenize\n",
    "nltk.download('stopwords')  # Để sử dụng stopwords\n",
    "nltk.download('wordnet')  # Để sử dụng lemmatizer\n",
    "\n",
    "\n",
    "# Khởi tạo lemmatizer và stopwords\n",
    "lemmatizer = WordNetLemmatizer()\n",
    "stop_words = set(stopwords.words('english'))\n",
    "\n",
    "# Tiền xử lý dữ liệu\n",
    "raw_df['text'] = raw_df['text'].str.lower()  # Chuyển về chữ thường\n",
    "raw_df['text'] = raw_df['text'].apply(lambda x: re.sub(r'[^a-z\\s]', '', x))  # Loại bỏ ký tự đặc biệt\n",
    "raw_df['text'] = raw_df['text'].apply(lambda x: ' '.join([word for word in x.split() if word not in stop_words]))  # Loại bỏ stopwords\n",
    "raw_df['text'] = raw_df['text'].apply(lambda x: ' '.join([lemmatizer.lemmatize(word) for word in x.split()]))  # Lemmatization"
   ]
  },
  {
   "cell_type": "code",
   "execution_count": 7,
   "metadata": {},
   "outputs": [],
   "source": [
    "# Chia dữ liệu thành tập huấn luyện và tập kiểm tra\n",
    "train_texts, val_texts, train_labels, val_labels = train_test_split(raw_df['text'], labels, test_size=0.2)"
   ]
  },
  {
   "cell_type": "code",
   "execution_count": 8,
   "metadata": {},
   "outputs": [],
   "source": [
    "val_encodings = tokenizer(list(val_texts), padding=True, truncation=True, max_length=150)"
   ]
  },
  {
   "cell_type": "code",
   "execution_count": 9,
   "metadata": {},
   "outputs": [],
   "source": [
    "val_dataset = torch.utils.data.TensorDataset(torch.tensor(val_encodings['input_ids']), torch.tensor(val_labels))\n",
    "val_dataloader = DataLoader(val_dataset, batch_size=8)"
   ]
  },
  {
   "cell_type": "code",
   "execution_count": 10,
   "metadata": {},
   "outputs": [
    {
     "name": "stderr",
     "output_type": "stream",
     "text": [
      "We strongly recommend passing in an `attention_mask` since your input_ids may be padded. See https://huggingface.co/docs/transformers/troubleshooting#incorrect-output-when-padding-tokens-arent-masked.\n"
     ]
    },
    {
     "name": "stdout",
     "output_type": "stream",
     "text": [
      "Validation Accuracy: 0.5091\n",
      "Hamming Loss: 0.0373\n",
      "Validation F1-Score: 0.7533\n"
     ]
    }
   ],
   "source": [
    "from sklearn.metrics import accuracy_score, f1_score, hamming_loss\n",
    "\n",
    "# Huấn luyện mô hình\n",
    "device = torch.device('cuda') if torch.cuda.is_available() else torch.device('cpu')\n",
    "model.to(device)\n",
    "\n",
    "    # Đánh giá trên tập kiểm tra (validation)\n",
    "model.eval()\n",
    "correct_predictions = 0\n",
    "total_predictions = 0\n",
    "all_labels = []\n",
    "all_preds = []\n",
    "\n",
    "with torch.no_grad():\n",
    "    for batch in val_dataloader:\n",
    "        input_ids = batch[0].to(device)\n",
    "        labels = batch[1].to(device)\n",
    "\n",
    "        # Forward pass (Chạy mô hình)\n",
    "        outputs = model(input_ids)\n",
    "        logits = outputs.logits\n",
    "\n",
    "        # Tính dự đoán (điểm số > 0.5 cho mỗi lớp)\n",
    "        preds = torch.sigmoid(logits) > 0.5  # Các giá trị đầu ra >= 0.5 được coi là nhãn đúng\n",
    "\n",
    "        # Cộng dồn các kết quả\n",
    "        correct_predictions += (preds == labels).sum().item()\n",
    "        total_predictions += labels.numel()  # Tổng số nhãn\n",
    "\n",
    "        all_labels.append(labels.cpu().numpy())  # Chuyển labels sang numpy để tính accuracy\n",
    "        all_preds.append(preds.cpu().numpy())\n",
    "\n",
    "# Tính accuracy theo toàn bộ dataset\n",
    "accuracy = accuracy_score(np.concatenate(all_labels), np.concatenate(all_preds))\n",
    "print(f\"Validation Accuracy: {accuracy:.4f}\")\n",
    "\n",
    "\n",
    "hamming = hamming_loss(np.concatenate(all_labels), np.concatenate(all_preds))\n",
    "print(f\"Hamming Loss: {hamming:.4f}\")\n",
    "\n",
    "\n",
    "f1 = f1_score(np.concatenate(all_labels), np.concatenate(all_preds), average='micro')\n",
    "print(f\"Validation F1-Score: {f1:.4f}\")"
   ]
  }
 ],
 "metadata": {
  "kernelspec": {
   "display_name": "Python 3",
   "language": "python",
   "name": "python3"
  },
  "language_info": {
   "codemirror_mode": {
    "name": "ipython",
    "version": 3
   },
   "file_extension": ".py",
   "mimetype": "text/x-python",
   "name": "python",
   "nbconvert_exporter": "python",
   "pygments_lexer": "ipython3",
   "version": "3.12.5"
  }
 },
 "nbformat": 4,
 "nbformat_minor": 2
}
