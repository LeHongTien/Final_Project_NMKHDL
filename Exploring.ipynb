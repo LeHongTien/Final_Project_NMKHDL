{
 "cells": [
  {
   "cell_type": "markdown",
   "metadata": {
    "id": "COtB2jy8hWLn"
   },
   "source": [
    "# Nhập môn khoa học dữ liệu đồ án cuối kỳ _ Nhóm 12\n",
    "\n",
    "Thông tin nhóm:\n",
    "- 22120367 - Lê Hồng Tiến\n",
    "- 22120380 - Hồ Nhất Trí\n",
    "- 22120382 - Nguyễn Anh Trí\n",
    "- 22120395 - Nguyễn Sinh Trực\n",
    "- 22120399 - Nguyễn Lê Anh Tú\n"
   ]
  },
  {
   "cell_type": "markdown",
   "metadata": {
    "id": "BxkxhSrlhWLo"
   },
   "source": [
    "## Thu thập dữ liệu"
   ]
  },
  {
   "cell_type": "markdown",
   "metadata": {
    "id": "5KNyPD2uhWLo"
   },
   "source": [
    "## Khai báo các thư viện cần thiết"
   ]
  },
  {
   "cell_type": "code",
   "execution_count": 1,
   "metadata": {
    "id": "hBpUzV9LhWLo"
   },
   "outputs": [],
   "source": [
    "import numpy as np\n",
    "import pandas as pd\n",
    "import matplotlib.pyplot as plt\n",
    "import seaborn as sns\n",
    "from collections import Counter"
   ]
  },
  {
   "cell_type": "markdown",
   "metadata": {
    "id": "bNKwhWyghWLp"
   },
   "source": [
    "## Tiền xử lý dữ liệu\n",
    "### Đọc dữ liệu từ file vào dataframe."
   ]
  },
  {
   "cell_type": "code",
   "execution_count": 2,
   "metadata": {
    "colab": {
     "base_uri": "https://localhost:8080/",
     "height": 362
    },
    "id": "7Fzde_-fhWLp",
    "outputId": "a9466cf4-23ad-4625-880a-91f8c9f3c42a"
   },
   "outputs": [
    {
     "data": {
      "text/html": [
       "<div>\n",
       "<style scoped>\n",
       "    .dataframe tbody tr th:only-of-type {\n",
       "        vertical-align: middle;\n",
       "    }\n",
       "\n",
       "    .dataframe tbody tr th {\n",
       "        vertical-align: top;\n",
       "    }\n",
       "\n",
       "    .dataframe thead th {\n",
       "        text-align: right;\n",
       "    }\n",
       "</style>\n",
       "<table border=\"1\" class=\"dataframe\">\n",
       "  <thead>\n",
       "    <tr style=\"text-align: right;\">\n",
       "      <th></th>\n",
       "      <th>paper_id</th>\n",
       "      <th>authors</th>\n",
       "      <th>updated</th>\n",
       "      <th>published</th>\n",
       "      <th>title</th>\n",
       "      <th>abstract</th>\n",
       "      <th>categories</th>\n",
       "      <th>comment</th>\n",
       "    </tr>\n",
       "  </thead>\n",
       "  <tbody>\n",
       "    <tr>\n",
       "      <th>0</th>\n",
       "      <td>http://arxiv.org/abs/2411.15100v2</td>\n",
       "      <td>Yixin Dong,Charlie F. Ruan,Yaxing Cai,Ruihang ...</td>\n",
       "      <td>2024-11-27 18:59:28</td>\n",
       "      <td>2024-11-22 18:01:37</td>\n",
       "      <td>XGrammar: Flexible and Efficient Structured Ge...</td>\n",
       "      <td>The applications of LLM Agents are becoming ...</td>\n",
       "      <td>cs.CL,cs.AI,cs.PL</td>\n",
       "      <td>Not available</td>\n",
       "    </tr>\n",
       "    <tr>\n",
       "      <th>1</th>\n",
       "      <td>http://arxiv.org/abs/2411.18620v1</td>\n",
       "      <td>Zhi Zhang,Srishti Yadav,Fengze Han,Ekaterina S...</td>\n",
       "      <td>2024-11-27 18:59:26</td>\n",
       "      <td>2024-11-27 18:59:26</td>\n",
       "      <td>Cross-modal Information Flow in Multimodal Lar...</td>\n",
       "      <td>The recent advancements in auto-regressive m...</td>\n",
       "      <td>cs.AI,cs.CL,cs.CV</td>\n",
       "      <td>Not available</td>\n",
       "    </tr>\n",
       "    <tr>\n",
       "      <th>2</th>\n",
       "      <td>http://arxiv.org/abs/2411.18616v1</td>\n",
       "      <td>Shengqu Cai,Eric Chan,Yunzhi Zhang,Leonidas Gu...</td>\n",
       "      <td>2024-11-27 18:58:52</td>\n",
       "      <td>2024-11-27 18:58:52</td>\n",
       "      <td>Diffusion Self-Distillation for Zero-Shot Cust...</td>\n",
       "      <td>Text-to-image diffusion models produce impre...</td>\n",
       "      <td>cs.CV,cs.AI,cs.GR,cs.LG</td>\n",
       "      <td>Project page: https://primecai.github.io/dsd/</td>\n",
       "    </tr>\n",
       "    <tr>\n",
       "      <th>3</th>\n",
       "      <td>http://arxiv.org/abs/2411.07976v5</td>\n",
       "      <td>Mahmut S. Gokmen,Caner Ozcan,Moneera N. Haque,...</td>\n",
       "      <td>2024-11-27 18:58:41</td>\n",
       "      <td>2024-11-12 17:55:39</td>\n",
       "      <td>DINO-LG: A Task-Specific DINO Model for Corona...</td>\n",
       "      <td>Coronary artery disease (CAD), one of the le...</td>\n",
       "      <td>eess.IV,cs.AI,cs.CV</td>\n",
       "      <td>Developed by Center for Applied Artificial Int...</td>\n",
       "    </tr>\n",
       "    <tr>\n",
       "      <th>4</th>\n",
       "      <td>http://arxiv.org/abs/2411.18615v1</td>\n",
       "      <td>Zhi Zhang,Jiayi Shen,Congfeng Cao,Gaole Dai,Sh...</td>\n",
       "      <td>2024-11-27 18:58:22</td>\n",
       "      <td>2024-11-27 18:58:22</td>\n",
       "      <td>Proactive Gradient Conflict Mitigation in Mult...</td>\n",
       "      <td>Advancing towards generalist agents necessit...</td>\n",
       "      <td>cs.LG,cs.AI,cs.CV</td>\n",
       "      <td>Not available</td>\n",
       "    </tr>\n",
       "  </tbody>\n",
       "</table>\n",
       "</div>"
      ],
      "text/plain": [
       "                            paper_id  \\\n",
       "0  http://arxiv.org/abs/2411.15100v2   \n",
       "1  http://arxiv.org/abs/2411.18620v1   \n",
       "2  http://arxiv.org/abs/2411.18616v1   \n",
       "3  http://arxiv.org/abs/2411.07976v5   \n",
       "4  http://arxiv.org/abs/2411.18615v1   \n",
       "\n",
       "                                             authors              updated  \\\n",
       "0  Yixin Dong,Charlie F. Ruan,Yaxing Cai,Ruihang ...  2024-11-27 18:59:28   \n",
       "1  Zhi Zhang,Srishti Yadav,Fengze Han,Ekaterina S...  2024-11-27 18:59:26   \n",
       "2  Shengqu Cai,Eric Chan,Yunzhi Zhang,Leonidas Gu...  2024-11-27 18:58:52   \n",
       "3  Mahmut S. Gokmen,Caner Ozcan,Moneera N. Haque,...  2024-11-27 18:58:41   \n",
       "4  Zhi Zhang,Jiayi Shen,Congfeng Cao,Gaole Dai,Sh...  2024-11-27 18:58:22   \n",
       "\n",
       "             published                                              title  \\\n",
       "0  2024-11-22 18:01:37  XGrammar: Flexible and Efficient Structured Ge...   \n",
       "1  2024-11-27 18:59:26  Cross-modal Information Flow in Multimodal Lar...   \n",
       "2  2024-11-27 18:58:52  Diffusion Self-Distillation for Zero-Shot Cust...   \n",
       "3  2024-11-12 17:55:39  DINO-LG: A Task-Specific DINO Model for Corona...   \n",
       "4  2024-11-27 18:58:22  Proactive Gradient Conflict Mitigation in Mult...   \n",
       "\n",
       "                                            abstract               categories  \\\n",
       "0    The applications of LLM Agents are becoming ...        cs.CL,cs.AI,cs.PL   \n",
       "1    The recent advancements in auto-regressive m...        cs.AI,cs.CL,cs.CV   \n",
       "2    Text-to-image diffusion models produce impre...  cs.CV,cs.AI,cs.GR,cs.LG   \n",
       "3    Coronary artery disease (CAD), one of the le...      eess.IV,cs.AI,cs.CV   \n",
       "4    Advancing towards generalist agents necessit...        cs.LG,cs.AI,cs.CV   \n",
       "\n",
       "                                             comment  \n",
       "0                                      Not available  \n",
       "1                                      Not available  \n",
       "2      Project page: https://primecai.github.io/dsd/  \n",
       "3  Developed by Center for Applied Artificial Int...  \n",
       "4                                      Not available  "
      ]
     },
     "execution_count": 2,
     "metadata": {},
     "output_type": "execute_result"
    }
   ],
   "source": [
    "file_name = 'arxiv_cs_papers_all.csv'\n",
    "raw_df = pd.read_csv(file_name)\n",
    "raw_df.head()"
   ]
  },
  {
   "cell_type": "markdown",
   "metadata": {
    "id": "SmkdTctvhWLp"
   },
   "source": [
    "### Có bao nhiêu dòng và cột của bộ dữ liệu thô này?\n",
    "\n",
    "**Kiểm tra bộ dữ liệu đã đạt yêu cầu phải có ít nhất 5 cột và 1000 dòng hay chưa, nếu chưa thì ta sẽ cào bộ dữ liệu mới liên quan đến chủ đề này.**"
   ]
  },
  {
   "cell_type": "code",
   "execution_count": 3,
   "metadata": {
    "id": "Zz9OsE-8hWLp"
   },
   "outputs": [],
   "source": [
    "#ta sẽ tính số dòng và số cột của DataFrame 'raw_df' và lưu trữ nó vào biến 'shape'.\n",
    "shape = raw_df.shape"
   ]
  },
  {
   "cell_type": "code",
   "execution_count": 4,
   "metadata": {
    "colab": {
     "base_uri": "https://localhost:8080/"
    },
    "id": "jznwbar4hWLp",
    "outputId": "2f2c0bdf-e028-462f-d1c0-7f2be2422a4f"
   },
   "outputs": [
    {
     "name": "stdout",
     "output_type": "stream",
     "text": [
      "Kích thước dữ liệu hiện tại: (257881, 8)\n",
      "Dữ liệu của chúng ta đạt yêu cầu: đủ số dòng và số cột!\n"
     ]
    }
   ],
   "source": [
    "print(f\"Kích thước dữ liệu hiện tại: {shape}\")\n",
    "\n",
    "if shape[0] >= 1000 and shape[1] >= 5:\n",
    "    print(\"Dữ liệu của chúng ta đạt yêu cầu: đủ số dòng và số cột!\")\n",
    "else:\n",
    "    print(\"Dữ liệu không đủ. Vui lòng chọn một tập dữ liệu khác!\")"
   ]
  },
  {
   "cell_type": "markdown",
   "metadata": {
    "id": "EgkWWZNMhWLq"
   },
   "source": [
    "### Mỗi dòng và cột có ý nghĩa gì?"
   ]
  },
  {
   "cell_type": "markdown",
   "metadata": {
    "id": "e5y-Rt5FhWLq"
   },
   "source": [
    " Mỗi dòng trong tập dữ liệu tương ứng với thông tin về một bài báo khoa học được công bố trên arXiv, bao gồm các cột:\n",
    "\n",
    "- paper_id: Định danh bài báo, thường là một URL hoặc mã duy nhất của bài báo trên arXiv.\n",
    "- authors: Danh sách tác giả của bài báo, mỗi tác giả được ngăn cách bởi dấu phẩy.\n",
    "- updated: Thời gian cập nhật cuối cùng của bài báo, định dạng YYYY-MM-DD HH:MM:SS.\n",
    "- published: Thời gian xuất bản lần đầu của bài báo, định dạng YYYY-MM-DD HH:MM:SS.\n",
    "- title: Tiêu đề bài báo, cung cấp cái nhìn tổng quan về nội dung bài báo.\n",
    "- abstract: Tóm tắt bài báo, cung cấp một đoạn ngắn mô tả nội dung chính.\n",
    "- categories: Các danh mục mà bài báo thuộc về, giúp phân loại lĩnh vực nghiên cứu.\n",
    "- comment: Ghi chú bổ sung hoặc thông tin thêm về bài báo (như là bài báo đã được đăng công khai trước đó ở đâu)."
   ]
  },
  {
   "cell_type": "markdown",
   "metadata": {
    "id": "XLgb6Qa8hWLq"
   },
   "source": [
    "#### Dữ liệu thô có dòng nào bị trùng không?"
   ]
  },
  {
   "cell_type": "code",
   "execution_count": 5,
   "metadata": {
    "id": "JmBiPTmRhWLq"
   },
   "outputs": [],
   "source": [
    "#chúng ta tính toán số dòng bị trùng và lưu trữ nó vào biến 'num_duplicated_rows'.\n",
    "num_duplicated_rows = raw_df[raw_df.duplicated()].shape[0]"
   ]
  },
  {
   "cell_type": "code",
   "execution_count": 6,
   "metadata": {
    "colab": {
     "base_uri": "https://localhost:8080/"
    },
    "id": "dGS7DaOZhWLq",
    "outputId": "98dfb4de-55b2-4ef2-9735-e9387544904b"
   },
   "outputs": [
    {
     "name": "stdout",
     "output_type": "stream",
     "text": [
      "Dữ liệu gốc của bạn không có dòng trùng lặp!\n"
     ]
    }
   ],
   "source": [
    "if num_duplicated_rows == 0:\n",
    "    print(\"Dữ liệu gốc của bạn không có dòng trùng lặp!\")\n",
    "else:\n",
    "    if num_duplicated_rows > 1:\n",
    "        ext = \"lines\"\n",
    "    else:\n",
    "        ext = \"line\"\n",
    "    print(f\"Dữ liệu gốc của bạn có {num_duplicated_rows} {ext} bị trùng lặp. Vui lòng loại bỏ các dòng trùng lặp!\")"
   ]
  },
  {
   "cell_type": "code",
   "execution_count": 7,
   "metadata": {
    "colab": {
     "base_uri": "https://localhost:8080/",
     "height": 840
    },
    "id": "eDJmb2aThWLq",
    "outputId": "3156f78b-3737-4a58-cdd2-bc50aa90c84a"
   },
   "outputs": [
    {
     "data": {
      "text/html": [
       "<div>\n",
       "<style scoped>\n",
       "    .dataframe tbody tr th:only-of-type {\n",
       "        vertical-align: middle;\n",
       "    }\n",
       "\n",
       "    .dataframe tbody tr th {\n",
       "        vertical-align: top;\n",
       "    }\n",
       "\n",
       "    .dataframe thead th {\n",
       "        text-align: right;\n",
       "    }\n",
       "</style>\n",
       "<table border=\"1\" class=\"dataframe\">\n",
       "  <thead>\n",
       "    <tr style=\"text-align: right;\">\n",
       "      <th></th>\n",
       "      <th>paper_id</th>\n",
       "      <th>authors</th>\n",
       "      <th>updated</th>\n",
       "      <th>published</th>\n",
       "      <th>title</th>\n",
       "      <th>abstract</th>\n",
       "      <th>categories</th>\n",
       "      <th>comment</th>\n",
       "    </tr>\n",
       "  </thead>\n",
       "  <tbody>\n",
       "    <tr>\n",
       "      <th>0</th>\n",
       "      <td>http://arxiv.org/abs/2411.15100v2</td>\n",
       "      <td>Yixin Dong,Charlie F. Ruan,Yaxing Cai,Ruihang ...</td>\n",
       "      <td>2024-11-27 18:59:28</td>\n",
       "      <td>2024-11-22 18:01:37</td>\n",
       "      <td>XGrammar: Flexible and Efficient Structured Ge...</td>\n",
       "      <td>The applications of LLM Agents are becoming ...</td>\n",
       "      <td>cs.CL,cs.AI,cs.PL</td>\n",
       "      <td>Not available</td>\n",
       "    </tr>\n",
       "    <tr>\n",
       "      <th>1</th>\n",
       "      <td>http://arxiv.org/abs/2411.18620v1</td>\n",
       "      <td>Zhi Zhang,Srishti Yadav,Fengze Han,Ekaterina S...</td>\n",
       "      <td>2024-11-27 18:59:26</td>\n",
       "      <td>2024-11-27 18:59:26</td>\n",
       "      <td>Cross-modal Information Flow in Multimodal Lar...</td>\n",
       "      <td>The recent advancements in auto-regressive m...</td>\n",
       "      <td>cs.AI,cs.CL,cs.CV</td>\n",
       "      <td>Not available</td>\n",
       "    </tr>\n",
       "    <tr>\n",
       "      <th>2</th>\n",
       "      <td>http://arxiv.org/abs/2411.18616v1</td>\n",
       "      <td>Shengqu Cai,Eric Chan,Yunzhi Zhang,Leonidas Gu...</td>\n",
       "      <td>2024-11-27 18:58:52</td>\n",
       "      <td>2024-11-27 18:58:52</td>\n",
       "      <td>Diffusion Self-Distillation for Zero-Shot Cust...</td>\n",
       "      <td>Text-to-image diffusion models produce impre...</td>\n",
       "      <td>cs.CV,cs.AI,cs.GR,cs.LG</td>\n",
       "      <td>Project page: https://primecai.github.io/dsd/</td>\n",
       "    </tr>\n",
       "    <tr>\n",
       "      <th>3</th>\n",
       "      <td>http://arxiv.org/abs/2411.07976v5</td>\n",
       "      <td>Mahmut S. Gokmen,Caner Ozcan,Moneera N. Haque,...</td>\n",
       "      <td>2024-11-27 18:58:41</td>\n",
       "      <td>2024-11-12 17:55:39</td>\n",
       "      <td>DINO-LG: A Task-Specific DINO Model for Corona...</td>\n",
       "      <td>Coronary artery disease (CAD), one of the le...</td>\n",
       "      <td>eess.IV,cs.AI,cs.CV</td>\n",
       "      <td>Developed by Center for Applied Artificial Int...</td>\n",
       "    </tr>\n",
       "    <tr>\n",
       "      <th>4</th>\n",
       "      <td>http://arxiv.org/abs/2411.18615v1</td>\n",
       "      <td>Zhi Zhang,Jiayi Shen,Congfeng Cao,Gaole Dai,Sh...</td>\n",
       "      <td>2024-11-27 18:58:22</td>\n",
       "      <td>2024-11-27 18:58:22</td>\n",
       "      <td>Proactive Gradient Conflict Mitigation in Mult...</td>\n",
       "      <td>Advancing towards generalist agents necessit...</td>\n",
       "      <td>cs.LG,cs.AI,cs.CV</td>\n",
       "      <td>Not available</td>\n",
       "    </tr>\n",
       "    <tr>\n",
       "      <th>...</th>\n",
       "      <td>...</td>\n",
       "      <td>...</td>\n",
       "      <td>...</td>\n",
       "      <td>...</td>\n",
       "      <td>...</td>\n",
       "      <td>...</td>\n",
       "      <td>...</td>\n",
       "      <td>...</td>\n",
       "    </tr>\n",
       "    <tr>\n",
       "      <th>257876</th>\n",
       "      <td>http://arxiv.org/abs/2305.13538v1</td>\n",
       "      <td>Linwei Sang,Yinliang Xu,Hongbin Sun</td>\n",
       "      <td>2023-05-22 23:22:13</td>\n",
       "      <td>2023-05-22 23:22:13</td>\n",
       "      <td>Encoding Carbon Emission Flow in Energy Manage...</td>\n",
       "      <td>Decarbonizing the energy supply is essential...</td>\n",
       "      <td>eess.SY,cs.SY</td>\n",
       "      <td>Not available</td>\n",
       "    </tr>\n",
       "    <tr>\n",
       "      <th>257877</th>\n",
       "      <td>http://arxiv.org/abs/2305.13463v1</td>\n",
       "      <td>Taeju Lee,Minkyu Je</td>\n",
       "      <td>2023-05-22 20:10:56</td>\n",
       "      <td>2023-05-22 20:10:56</td>\n",
       "      <td>Trend Investigation of Biopotential Recording ...</td>\n",
       "      <td>This paper presents the trend of biopotentia...</td>\n",
       "      <td>eess.SY,cs.SY,eess.SP</td>\n",
       "      <td>Not available</td>\n",
       "    </tr>\n",
       "    <tr>\n",
       "      <th>257878</th>\n",
       "      <td>http://arxiv.org/abs/2211.01527v2</td>\n",
       "      <td>J. Brian Burns,Aravind Sundaresan,Pedro Sequei...</td>\n",
       "      <td>2023-05-22 19:53:33</td>\n",
       "      <td>2022-11-03 00:03:14</td>\n",
       "      <td>Sensor Control for Information Gain in Dynamic...</td>\n",
       "      <td>We present an approach for autonomous sensor...</td>\n",
       "      <td>cs.AI,cs.CV,cs.SY,eess.SY,I.2.8; I.2.6; I.5.4</td>\n",
       "      <td>13 pages</td>\n",
       "    </tr>\n",
       "    <tr>\n",
       "      <th>257879</th>\n",
       "      <td>http://arxiv.org/abs/2305.13215v1</td>\n",
       "      <td>Kamal Basulaiman,Masoud Barati</td>\n",
       "      <td>2023-05-22 16:46:37</td>\n",
       "      <td>2023-05-22 16:46:37</td>\n",
       "      <td>Sequence-to-Sequence Forecasting-aided State E...</td>\n",
       "      <td>Power system state forecasting has gained mo...</td>\n",
       "      <td>eess.SY,cs.LG,cs.SY</td>\n",
       "      <td>Not available</td>\n",
       "    </tr>\n",
       "    <tr>\n",
       "      <th>257880</th>\n",
       "      <td>http://arxiv.org/abs/2305.12999v1</td>\n",
       "      <td>Savvas Papaioannou,Panayiotis Kolios,Theochari...</td>\n",
       "      <td>2023-05-22 13:04:34</td>\n",
       "      <td>2023-05-22 13:04:34</td>\n",
       "      <td>Integrated Guidance and Gimbal Control for Cov...</td>\n",
       "      <td>Coverage path planning with unmanned aerial ...</td>\n",
       "      <td>eess.SY,cs.SY</td>\n",
       "      <td>Not available</td>\n",
       "    </tr>\n",
       "  </tbody>\n",
       "</table>\n",
       "<p>257881 rows × 8 columns</p>\n",
       "</div>"
      ],
      "text/plain": [
       "                                 paper_id  \\\n",
       "0       http://arxiv.org/abs/2411.15100v2   \n",
       "1       http://arxiv.org/abs/2411.18620v1   \n",
       "2       http://arxiv.org/abs/2411.18616v1   \n",
       "3       http://arxiv.org/abs/2411.07976v5   \n",
       "4       http://arxiv.org/abs/2411.18615v1   \n",
       "...                                   ...   \n",
       "257876  http://arxiv.org/abs/2305.13538v1   \n",
       "257877  http://arxiv.org/abs/2305.13463v1   \n",
       "257878  http://arxiv.org/abs/2211.01527v2   \n",
       "257879  http://arxiv.org/abs/2305.13215v1   \n",
       "257880  http://arxiv.org/abs/2305.12999v1   \n",
       "\n",
       "                                                  authors  \\\n",
       "0       Yixin Dong,Charlie F. Ruan,Yaxing Cai,Ruihang ...   \n",
       "1       Zhi Zhang,Srishti Yadav,Fengze Han,Ekaterina S...   \n",
       "2       Shengqu Cai,Eric Chan,Yunzhi Zhang,Leonidas Gu...   \n",
       "3       Mahmut S. Gokmen,Caner Ozcan,Moneera N. Haque,...   \n",
       "4       Zhi Zhang,Jiayi Shen,Congfeng Cao,Gaole Dai,Sh...   \n",
       "...                                                   ...   \n",
       "257876                Linwei Sang,Yinliang Xu,Hongbin Sun   \n",
       "257877                                Taeju Lee,Minkyu Je   \n",
       "257878  J. Brian Burns,Aravind Sundaresan,Pedro Sequei...   \n",
       "257879                     Kamal Basulaiman,Masoud Barati   \n",
       "257880  Savvas Papaioannou,Panayiotis Kolios,Theochari...   \n",
       "\n",
       "                    updated            published  \\\n",
       "0       2024-11-27 18:59:28  2024-11-22 18:01:37   \n",
       "1       2024-11-27 18:59:26  2024-11-27 18:59:26   \n",
       "2       2024-11-27 18:58:52  2024-11-27 18:58:52   \n",
       "3       2024-11-27 18:58:41  2024-11-12 17:55:39   \n",
       "4       2024-11-27 18:58:22  2024-11-27 18:58:22   \n",
       "...                     ...                  ...   \n",
       "257876  2023-05-22 23:22:13  2023-05-22 23:22:13   \n",
       "257877  2023-05-22 20:10:56  2023-05-22 20:10:56   \n",
       "257878  2023-05-22 19:53:33  2022-11-03 00:03:14   \n",
       "257879  2023-05-22 16:46:37  2023-05-22 16:46:37   \n",
       "257880  2023-05-22 13:04:34  2023-05-22 13:04:34   \n",
       "\n",
       "                                                    title  \\\n",
       "0       XGrammar: Flexible and Efficient Structured Ge...   \n",
       "1       Cross-modal Information Flow in Multimodal Lar...   \n",
       "2       Diffusion Self-Distillation for Zero-Shot Cust...   \n",
       "3       DINO-LG: A Task-Specific DINO Model for Corona...   \n",
       "4       Proactive Gradient Conflict Mitigation in Mult...   \n",
       "...                                                   ...   \n",
       "257876  Encoding Carbon Emission Flow in Energy Manage...   \n",
       "257877  Trend Investigation of Biopotential Recording ...   \n",
       "257878  Sensor Control for Information Gain in Dynamic...   \n",
       "257879  Sequence-to-Sequence Forecasting-aided State E...   \n",
       "257880  Integrated Guidance and Gimbal Control for Cov...   \n",
       "\n",
       "                                                 abstract  \\\n",
       "0         The applications of LLM Agents are becoming ...   \n",
       "1         The recent advancements in auto-regressive m...   \n",
       "2         Text-to-image diffusion models produce impre...   \n",
       "3         Coronary artery disease (CAD), one of the le...   \n",
       "4         Advancing towards generalist agents necessit...   \n",
       "...                                                   ...   \n",
       "257876    Decarbonizing the energy supply is essential...   \n",
       "257877    This paper presents the trend of biopotentia...   \n",
       "257878    We present an approach for autonomous sensor...   \n",
       "257879    Power system state forecasting has gained mo...   \n",
       "257880    Coverage path planning with unmanned aerial ...   \n",
       "\n",
       "                                           categories  \\\n",
       "0                                   cs.CL,cs.AI,cs.PL   \n",
       "1                                   cs.AI,cs.CL,cs.CV   \n",
       "2                             cs.CV,cs.AI,cs.GR,cs.LG   \n",
       "3                                 eess.IV,cs.AI,cs.CV   \n",
       "4                                   cs.LG,cs.AI,cs.CV   \n",
       "...                                               ...   \n",
       "257876                                  eess.SY,cs.SY   \n",
       "257877                          eess.SY,cs.SY,eess.SP   \n",
       "257878  cs.AI,cs.CV,cs.SY,eess.SY,I.2.8; I.2.6; I.5.4   \n",
       "257879                            eess.SY,cs.LG,cs.SY   \n",
       "257880                                  eess.SY,cs.SY   \n",
       "\n",
       "                                                  comment  \n",
       "0                                           Not available  \n",
       "1                                           Not available  \n",
       "2           Project page: https://primecai.github.io/dsd/  \n",
       "3       Developed by Center for Applied Artificial Int...  \n",
       "4                                           Not available  \n",
       "...                                                   ...  \n",
       "257876                                      Not available  \n",
       "257877                                      Not available  \n",
       "257878                                           13 pages  \n",
       "257879                                      Not available  \n",
       "257880                                      Not available  \n",
       "\n",
       "[257881 rows x 8 columns]"
      ]
     },
     "execution_count": 7,
     "metadata": {},
     "output_type": "execute_result"
    }
   ],
   "source": [
    "raw_df"
   ]
  },
  {
   "cell_type": "markdown",
   "metadata": {
    "id": "oNOW0g5mhWLq"
   },
   "source": [
    "#### Kiểm tra số lượng dòng thiếu dữ liệu trong toàn bộ DataFrame"
   ]
  },
  {
   "cell_type": "code",
   "execution_count": 8,
   "metadata": {
    "colab": {
     "base_uri": "https://localhost:8080/"
    },
    "id": "mPiRsv1xhWLq",
    "outputId": "c1b3d03b-3c29-497e-b8c9-69afb2701ff7"
   },
   "outputs": [
    {
     "name": "stdout",
     "output_type": "stream",
     "text": [
      "Có 13 dòng bị thiếu dữ liệu ở ít nhất một cột. Vui lòng xử lý!\n"
     ]
    }
   ],
   "source": [
    "missing_rows = raw_df.isnull().any(axis=1).sum()\n",
    "\n",
    "if missing_rows > 0:\n",
    "    print(f\"Có {missing_rows} dòng bị thiếu dữ liệu ở ít nhất một cột. Vui lòng xử lý!\")\n",
    "else:\n",
    "    print(\"Dữ liệu hoàn chỉnh, không có dòng nào bị thiếu dữ liệu.\")"
   ]
  },
  {
   "cell_type": "markdown",
   "metadata": {
    "id": "ahkx5YNlhWLr"
   },
   "source": [
    "#### In ra dòng bị thiếu dữ liệu"
   ]
  },
  {
   "cell_type": "code",
   "execution_count": 9,
   "metadata": {
    "colab": {
     "base_uri": "https://localhost:8080/"
    },
    "id": "f8QNdPCfhWLr",
    "outputId": "0b4f7565-a656-47e2-f6d0-6b6bd46f0dc7"
   },
   "outputs": [
    {
     "name": "stdout",
     "output_type": "stream",
     "text": [
      "                                 paper_id  \\\n",
      "4257    http://arxiv.org/abs/2411.00826v1   \n",
      "48670   http://arxiv.org/abs/2408.16885v1   \n",
      "62730   http://arxiv.org/abs/2409.08170v1   \n",
      "71032   http://arxiv.org/abs/2201.03052v1   \n",
      "136687  http://arxiv.org/abs/2308.15509v1   \n",
      "143676  http://arxiv.org/abs/2304.08597v1   \n",
      "152330  http://arxiv.org/abs/2309.08441v1   \n",
      "184163  http://arxiv.org/abs/2407.16091v1   \n",
      "206593  http://arxiv.org/abs/2010.13852v1   \n",
      "223223  http://arxiv.org/abs/2406.00009v1   \n",
      "242425  http://arxiv.org/abs/2109.11896v2   \n",
      "242696  http://arxiv.org/abs/2109.12442v1   \n",
      "250082  http://arxiv.org/abs/2006.01381v1   \n",
      "\n",
      "                                                  authors  \\\n",
      "4257    an Zhang,Ming Li,Chun Li,Zhaoxia Liu,Ye Zhang,...   \n",
      "48670   Ashok Kumar Peepliwall,Hari Mohan Pandey,Surya...   \n",
      "62730   Santanu Roy,Archit Gupta,Shubhi Tiwari,Palak Sahu   \n",
      "71032                Richard Apaua,Harjinder Singh Lallie   \n",
      "136687  Malik Muhammad Qirtas,Evi Zafeiridi,Eleanor Ba...   \n",
      "143676            Haoxiang Zhang,Juliana Freire,Yash Garg   \n",
      "152330   José~David~Vega-Sánchez,Arianna Estefanía Lóp...   \n",
      "184163                     Niloofar Fadavi,Nazanin Fadavi   \n",
      "206593  Zainab Al-Othman,Mouhammd Alkasassbeh,Sherenaz...   \n",
      "223223  Hang Zhou,Ke Ma,Shixiao Liang,Xiaopeng Li,Xiao...   \n",
      "242425  Mahdi Fahmideh,John Grundy,Ghassan Beydoun,Did...   \n",
      "242696                              Ishan Amarkumar Joshi   \n",
      "250082                     Shalinda Adikari,Kaushik Dutta   \n",
      "\n",
      "                    updated            published  \\\n",
      "4257    2024-10-29 04:29:44  2024-10-29 04:29:44   \n",
      "48670   2024-08-29 20:18:00  2024-08-29 20:18:00   \n",
      "62730   2024-09-12 16:00:51  2024-09-12 16:00:51   \n",
      "71032   2022-01-09 16:45:30  2022-01-09 16:45:30   \n",
      "136687  2023-08-29 14:20:18  2023-08-29 14:20:18   \n",
      "143676  2023-04-17 20:22:30  2023-04-17 20:22:30   \n",
      "152330  2023-09-15 14:40:52  2023-09-15 14:40:52   \n",
      "184163  2024-07-22 23:24:02  2024-07-22 23:24:02   \n",
      "206593  2020-10-02 12:48:54  2020-10-02 12:48:54   \n",
      "223223  2024-05-16 21:03:31  2024-05-16 21:03:31   \n",
      "242425  2021-12-14 05:40:01  2021-09-24 11:36:55   \n",
      "242696  2021-09-25 21:39:11  2021-09-25 21:39:11   \n",
      "250082  2020-06-02 04:15:20  2020-06-02 04:15:20   \n",
      "\n",
      "                                                    title  \\\n",
      "4257    Uncertainty Quantification via Hölder Divergen...   \n",
      "48670   A Prototype Model of Zero-Trust Architecture B...   \n",
      "62730   AD-Lite Net: A Lightweight and Concatenated CN...   \n",
      "71032   Measuring User Perceived Security of Mobile Ba...   \n",
      "136687  The Relationship between Loneliness and Depres...   \n",
      "143676  eTOP: Early Termination of Pipelines for Faste...   \n",
      "152330  Novel Expressions for the Outage Probability a...   \n",
      "184163  Early Recognition of Parkinson's Disease Throu...   \n",
      "206593  A State-of-the-Art Review on IoT botnet Attack...   \n",
      "223223  ULTra-AV: A Unified Longitudinal Trajectory Da...   \n",
      "242425  A Model-Driven Approach to Reengineering Proce...   \n",
      "242696  Unblind the charts: Towards Making Interactive...   \n",
      "250082              Identifying Fake Profiles in LinkedIn   \n",
      "\n",
      "                                                 abstract  \\\n",
      "4257      Evidence-based deep learning represents a bu...   \n",
      "48670     The COVID-19 pandemic necessitated the emerg...   \n",
      "62730     Alzheimer's Disease (AD) is a non-curable pr...   \n",
      "71032     Mobile banking applications have gained popu...   \n",
      "136687    Loneliness and depression are interrelated m...   \n",
      "143676    Recent advancements in software and hardware...   \n",
      "152330    The flexibility and reconfigurability at the...   \n",
      "184163    Parkinson's Disease (PD) is a progressive ne...   \n",
      "206593    The Internet as we know it Today, comprises ...   \n",
      "223223    Automated Vehicles (AVs) promise significant...   \n",
      "242425    The reengineering process of large data-inte...   \n",
      "242696    Smartphones are a crucial aspect of routine ...   \n",
      "250082    As organizations increasingly rely on profes...   \n",
      "\n",
      "                          categories comment  \n",
      "4257               cs.CV,cs.AI,cs.LG     NaN  \n",
      "48670              cs.CR,cs.ET,cs.IR     NaN  \n",
      "62730                  eess.IV,cs.CV     NaN  \n",
      "71032              cs.HC,cs.CR,cs.CY     NaN  \n",
      "136687                         cs.HC     NaN  \n",
      "143676                   cs.LG,cs.IR     NaN  \n",
      "152330         cs.IT,eess.SP,math.IT     NaN  \n",
      "184163  math.NA,cs.LG,cs.NA,q-bio.NC     NaN  \n",
      "206593                         cs.NI     NaN  \n",
      "223223                         cs.RO     NaN  \n",
      "242425                         cs.SE     NaN  \n",
      "242696                   cs.HC,cs.SE     NaN  \n",
      "250082             cs.SI,cs.CY,cs.LG     NaN  \n"
     ]
    }
   ],
   "source": [
    "missing_data = raw_df[raw_df.isnull().any(axis=1)]\n",
    "print(missing_data)"
   ]
  },
  {
   "cell_type": "markdown",
   "metadata": {
    "id": "AAYI0cRThWLr"
   },
   "source": [
    "Ở đây ta có thể thấy cột comment của 13 dòng này không có thông tin và đang là NaN, có thể xử lý bằng cách xóa 13 dòng này hoặc điền và 13 dòng này ở cột commet là 'không có thông tin'"
   ]
  },
  {
   "cell_type": "code",
   "execution_count": 10,
   "metadata": {
    "id": "ugWlzneuhWLr"
   },
   "outputs": [],
   "source": [
    "# điền vào commet của 13 cột\n",
    "raw_df['comment'] = raw_df['comment'].fillna('Not available')"
   ]
  },
  {
   "cell_type": "markdown",
   "metadata": {
    "id": "aWHHUeJ3hWLr"
   },
   "source": [
    "Kiểm tra xem còn thiếu dữ liệu hay không?"
   ]
  },
  {
   "cell_type": "code",
   "execution_count": 11,
   "metadata": {
    "colab": {
     "base_uri": "https://localhost:8080/"
    },
    "id": "OnGcQU9MhWLr",
    "outputId": "93df4f47-de54-46a6-e62a-d7f6a675696f"
   },
   "outputs": [
    {
     "name": "stdout",
     "output_type": "stream",
     "text": [
      "Dữ liệu hoàn chỉnh, không có dòng nào bị thiếu dữ liệu.\n"
     ]
    }
   ],
   "source": [
    "missing_rows = raw_df.isnull().any(axis=1).sum()\n",
    "\n",
    "if missing_rows > 0:\n",
    "    print(f\"Có {missing_rows} dòng bị thiếu dữ liệu ở ít nhất một cột. Vui lòng xử lý!\")\n",
    "else:\n",
    "    print(\"Dữ liệu hoàn chỉnh, không có dòng nào bị thiếu dữ liệu.\")"
   ]
  },
  {
   "cell_type": "markdown",
   "metadata": {
    "id": "KUXpDcE0hWLr"
   },
   "source": [
    "#### Kiểu dữ liệu của mỗi cột hiện tại là gì? Có bao nhiêu cột có kiểu dữ liệu không phù hợp cho việc phân tích sau này?"
   ]
  },
  {
   "cell_type": "code",
   "execution_count": 12,
   "metadata": {
    "id": "np7zXBAIhWLr"
   },
   "outputs": [],
   "source": [
    "# chúng ta sẽ xem xét kiểu dữ liệu (dtype) của mỗi cột trong DataFrame 'raw_df'\n",
    "# và lưu kết quả vào Series 'dtypes' (Series này có index là tên cột trong DataFrame).\n",
    "dtypes = raw_df.dtypes"
   ]
  },
  {
   "cell_type": "code",
   "execution_count": 13,
   "metadata": {
    "colab": {
     "base_uri": "https://localhost:8080/",
     "height": 335
    },
    "id": "63fjpvhQhWLr",
    "outputId": "3e88a820-038b-4f02-f29d-375f723a5675"
   },
   "outputs": [
    {
     "data": {
      "text/plain": [
       "paper_id      object\n",
       "authors       object\n",
       "updated       object\n",
       "published     object\n",
       "title         object\n",
       "abstract      object\n",
       "categories    object\n",
       "comment       object\n",
       "dtype: object"
      ]
     },
     "execution_count": 13,
     "metadata": {},
     "output_type": "execute_result"
    }
   ],
   "source": [
    "dtypes"
   ]
  },
  {
   "cell_type": "markdown",
   "metadata": {
    "id": "1C-3KKUChWLs"
   },
   "source": [
    "Hiện tại, chúng ta thấy rằng cột update và published đang ở dạng chuỗi (object). Đây là cột thể hiện ngày tháng, nên chuyển sang kiểu dữ liệu datetime sẽ giúp:\n",
    "\n",
    "Dễ dàng thực hiện các phép tính liên quan đến thời gian (ví dụ: so sánh ngày, tính khoảng cách giữa các ngày).\n",
    "Hỗ trợ trực quan hóa dữ liệu dạng chuỗi thời gian (time-series).\n",
    "\n",
    "Ở cột categories đang là kiểu dữ liệu object cần chuyển qua category để phân loại hiệu quả hơn.\n",
    "\n",
    "Các cột còn lại vẫn giữ nguyên object."
   ]
  },
  {
   "cell_type": "code",
   "execution_count": 14,
   "metadata": {
    "id": "GlPs8k9NhWLs"
   },
   "outputs": [],
   "source": [
    "raw_df['updated'] = pd.to_datetime(raw_df['updated'])\n",
    "raw_df['published'] = pd.to_datetime(raw_df['published'])"
   ]
  },
  {
   "cell_type": "code",
   "execution_count": 15,
   "metadata": {
    "colab": {
     "base_uri": "https://localhost:8080/",
     "height": 335
    },
    "id": "mHdkBmFUhWLs",
    "outputId": "c8a4d124-56df-4a0d-d3ae-47c77b59df7a",
    "scrolled": true
   },
   "outputs": [
    {
     "data": {
      "text/plain": [
       "paper_id              object\n",
       "authors               object\n",
       "updated       datetime64[ns]\n",
       "published     datetime64[ns]\n",
       "title                 object\n",
       "abstract              object\n",
       "categories            object\n",
       "comment               object\n",
       "dtype: object"
      ]
     },
     "execution_count": 15,
     "metadata": {},
     "output_type": "execute_result"
    }
   ],
   "source": [
    "dtypes = raw_df.dtypes\n",
    "dtypes"
   ]
  },
  {
   "cell_type": "markdown",
   "metadata": {
    "id": "ZYQgtUHfhWLs"
   },
   "source": [
    "### Đối với mỗi cột có kiểu dữ liệu datetime64[ns], những giá trị trong các cột đó phân bố như thế nào?"
   ]
  },
  {
   "cell_type": "code",
   "execution_count": 16,
   "metadata": {
    "colab": {
     "base_uri": "https://localhost:8080/"
    },
    "id": "NufeD2emhWLs",
    "outputId": "4687721e-6ea7-40e8-8513-7a07d4a84ec1"
   },
   "outputs": [
    {
     "name": "stdout",
     "output_type": "stream",
     "text": [
      "Count_u: 257881, Count_p: 257881\n",
      "Unique_u: 257550, unique_p: 257585 \n",
      "Top_u: 2012-06-27 19:59:59, Top_p: 2012-06-27 19:59:59\n",
      "Freq_u: 6, Freq_p: 6\n",
      "Min_u: 1990-04-01 00:00:00, Min_p: 1990-04-01 00:00:00\n",
      "Max_u: 2024-11-27 18:59:59, Max_p: 2024-11-27 18:59:59\n",
      "Mean_u: 2021-11-05 03:47:50.417460224, Mean_p: 2021-07-28 01:38:12.083789824\n",
      "Std_u: 1387 days 08:37:05.054382448, Std_p:1409 days 19:40:57.027689504\n",
      "25%_u: 2020-11-16 15:52:15, 25%_p: 2020-06-27 02:28:44\n",
      "50%_u: 2023-04-20 01:46:19, 50%_p: 2022-12-18 05:32:19\n",
      "75%_u: 2024-05-29 10:23:52, 75%_p: 2024-03-18 11:07:58\n"
     ]
    }
   ],
   "source": [
    "# Tính các thống kê cho cột 'update'\n",
    "count_u = raw_df['updated'].notnull().sum()  # Số lượng giá trị không thiếu\n",
    "unique_u = raw_df['updated'].nunique()  # Số lượng giá trị duy nhất\n",
    "top_u = raw_df['updated'].mode()[0]  # Giá trị xuất hiện nhiều nhất\n",
    "freq_u = raw_df['updated'].value_counts().max()  # Số lần giá trị xuất hiện nhiều nhất\n",
    "min_value_u = raw_df['updated'].min()  # Giá trị nhỏ nhất\n",
    "max_value_u = raw_df['updated'].max()  # Giá trị lớn nhất\n",
    "mean_u = raw_df['updated'].mean()  # Trung bình\n",
    "std_u = raw_df['updated'].std()  # Độ lệch chuẩn\n",
    "percentiles_u = raw_df['updated'].quantile([0.25, 0.5, 0.75])  # Các phân vị\n",
    "\n",
    "# Tính các thống kê cho cột 'published'\n",
    "count_p = raw_df['published'].notnull().sum()  # Số lượng giá trị không thiếu\n",
    "unique_p = raw_df['published'].nunique()  # Số lượng giá trị duy nhất\n",
    "top_p = raw_df['published'].mode()[0]  # Giá trị xuất hiện nhiều nhất\n",
    "freq_p = raw_df['published'].value_counts().max()  # Số lần giá trị xuất hiện nhiều nhất\n",
    "min_value_p = raw_df['published'].min()  # Giá trị nhỏ nhất\n",
    "max_value_p = raw_df['published'].max()  # Giá trị lớn nhất\n",
    "mean_p = raw_df['published'].mean()  # Trung bình\n",
    "std_p = raw_df['published'].std()  # Độ lệch chuẩn\n",
    "percentiles_p = raw_df['published'].quantile([0.25, 0.5, 0.75])  # Các phân vị\n",
    "\n",
    "# In ra kết quả\n",
    "print(f\"Count_u: {count_u}, Count_p: {count_p}\")\n",
    "print(f\"Unique_u: {unique_u}, unique_p: {unique_p} \")\n",
    "print(f\"Top_u: {top_u}, Top_p: {top_p}\")\n",
    "print(f\"Freq_u: {freq_u}, Freq_p: {freq_p}\")\n",
    "print(f\"Min_u: {min_value_u}, Min_p: {min_value_p}\")\n",
    "print(f\"Max_u: {max_value_u}, Max_p: {max_value_p}\")\n",
    "print(f\"Mean_u: {mean_u}, Mean_p: {mean_p}\")\n",
    "print(f\"Std_u: {std_u}, Std_p:{std_p}\")\n",
    "print(f\"25%_u: {percentiles_u[0.25]}, 25%_p: {percentiles_p[0.25]}\")\n",
    "print(f\"50%_u: {percentiles_u[0.5]}, 50%_p: {percentiles_p[0.5]}\")\n",
    "print(f\"75%_u: {percentiles_u[0.75]}, 75%_p: {percentiles_p[0.75]}\")"
   ]
  },
  {
   "cell_type": "markdown",
   "metadata": {
    "id": "mh3WUbK3hWLs"
   },
   "source": [
    "Kết quả này cho thấy:\n",
    "\n",
    "**Số lượng giá trị duy nhất trong các cột non-numeric**:\n",
    "Các cột như paper_id, authors, title, và abstract có số lượng giá trị duy nhất rất cao (xấp xỉ gần với tổng số dòng). Điều này cho thấy:\n",
    "\n",
    "- paper_id: Mỗi bài báo có một mã định danh duy nhất.\n",
    "- authors: Tên tác giả có sự đa dạng rất lớn.\n",
    "- title: Tiêu đề bài báo hầu hết không trùng lặp.\n",
    "- abstract: Mô tả ngắn gọn bài báo cũng rất khác biệt.\n",
    "Cột categories và comment có số lượng giá trị duy nhất ít hơn:\n",
    "\n",
    "- categories: Có thể chỉ định phân loại theo một số nhóm nhất định (49947 loại khác nhau).\n",
    "- comment: Một số bài báo không có bình luận hoặc bình luận bị trùng lặp.\n",
    "\n",
    "**Các chỉ số thời gian liên quan đến hai giá trị (updated và published)**:\n",
    "\n",
    "Số lượng và giá trị duy nhất:\n",
    "\n",
    "- Count_u và Count_p (257881): Tổng số bản ghi trong tập dữ liệu.\n",
    "- Unique_u (257550) và unique_p (257585): Hầu hết các bản ghi đều có thời gian riêng biệt, chỉ một số ít bị trùng lặp.\n",
    "\n",
    "**Phân bố thời gian**:\n",
    "Khoảng thời gian:\n",
    "- Min_u và Max_u: Dữ liệu trải dài từ năm 1990 đến 2024, cho thấy đây là dữ liệu lâu dài.\n",
    "- Mean_u và Mean_p: Trung bình ngày nằm trong khoảng 2021, tập trung vào các nghiên cứu gần đây.\n",
    "- Std_u (1387 ngày) và Std_p (1409 ngày): Thời gian phân phối khá đồng đều trong khoảng thời gian lớn (~4 năm).\n",
    "Phân vị:\n",
    "- 25%_u và 25%_p: 25% dữ liệu cũ hơn ngày 2020, còn lại là dữ liệu sau đó.\n",
    "- 50%_u và 50%_p (median): Giá trị trung vị của dữ liệu rơi vào 2022-2023, cho thấy dữ liệu khá hiện đại.\n",
    "- 75%_u và 75%_p: Phần lớn dữ liệu thuộc giai đoạn 2024."
   ]
  },
  {
   "cell_type": "markdown",
   "metadata": {
    "id": "-Ezu2sqVhWLs"
   },
   "source": [
    "### Đối với mỗi cột có kiểu dữ liệu non-numeric, những giá trị trong các cột đó phân bố như thế nào?"
   ]
  },
  {
   "cell_type": "markdown",
   "metadata": {
    "id": "ZBhJkoOehWLt"
   },
   "source": [
    "- Tính tỷ lệ phần trăm các giá trị bị thiếu (missing values): Tỷ lệ phần trăm từ 0 đến 100 của các ô bị thiếu dữ liệu trong từng cột.\n",
    "- Số lượng các giá trị khác nhau (unique values): Ta đếm số lượng các loại giá trị khác nhau (số lượng phần tử phân biệt) trong cột.\n",
    "\n",
    "- Tỷ lệ phần trăm của từng giá trị khác nhau trong cột (không xét giá trị thiếu): Tính tỷ lệ phần trăm của mỗi giá trị trong tổng số giá trị không bị thiếu. Sắp xếp tỷ lệ theo thứ tự giảm dần.\n",
    "\n",
    "- Lưu kết quả này vào dạng dictionary, trong đó: Key là các giá trị khác nhau trong cột, Value là tỷ lệ phần trăm của từng giá trị.\n"
   ]
  },
  {
   "cell_type": "code",
   "execution_count": 17,
   "metadata": {
    "id": "nmsAmpu1hWLt"
   },
   "outputs": [],
   "source": [
    "cat_cols = raw_df.select_dtypes(exclude=['datetime64[ns]'])\n",
    "cat_col_info_df = pd.DataFrame(index=[\"missing_ratio\", \"num_values\", \"value_ratios\"], columns=cat_cols.columns)\n",
    "for col in cat_cols.columns:\n",
    "    missing_ratio = cat_cols[col].isna().mean() * 100\n",
    "\n",
    "    num_values = cat_cols[col].nunique(dropna=True)\n",
    "\n",
    "    value_ratios = cat_cols[col].value_counts(normalize=True, dropna=True) * 100\n",
    "    value_ratios = value_ratios.round(1).to_dict()\n",
    "\n",
    "    cat_col_info_df.at[\"missing_ratio\", col] = round(missing_ratio, 1)\n",
    "    cat_col_info_df.at[\"num_values\", col] = num_values\n",
    "    cat_col_info_df.at[\"value_ratios\", col] = value_ratios"
   ]
  },
  {
   "cell_type": "code",
   "execution_count": 18,
   "metadata": {
    "colab": {
     "base_uri": "https://localhost:8080/",
     "height": 161
    },
    "id": "jwEorOV8hWLt",
    "outputId": "de542aa4-c3fe-4300-8560-e72da55b2770"
   },
   "outputs": [
    {
     "data": {
      "text/html": [
       "<div>\n",
       "<style scoped>\n",
       "    .dataframe tbody tr th:only-of-type {\n",
       "        vertical-align: middle;\n",
       "    }\n",
       "\n",
       "    .dataframe tbody tr th {\n",
       "        vertical-align: top;\n",
       "    }\n",
       "\n",
       "    .dataframe thead th {\n",
       "        text-align: right;\n",
       "    }\n",
       "</style>\n",
       "<table border=\"1\" class=\"dataframe\">\n",
       "  <thead>\n",
       "    <tr style=\"text-align: right;\">\n",
       "      <th></th>\n",
       "      <th>paper_id</th>\n",
       "      <th>authors</th>\n",
       "      <th>title</th>\n",
       "      <th>abstract</th>\n",
       "      <th>categories</th>\n",
       "      <th>comment</th>\n",
       "    </tr>\n",
       "  </thead>\n",
       "  <tbody>\n",
       "    <tr>\n",
       "      <th>missing_ratio</th>\n",
       "      <td>0.0</td>\n",
       "      <td>0.0</td>\n",
       "      <td>0.0</td>\n",
       "      <td>0.0</td>\n",
       "      <td>0.0</td>\n",
       "      <td>0.0</td>\n",
       "    </tr>\n",
       "    <tr>\n",
       "      <th>num_values</th>\n",
       "      <td>257881</td>\n",
       "      <td>230379</td>\n",
       "      <td>257753</td>\n",
       "      <td>257788</td>\n",
       "      <td>49947</td>\n",
       "      <td>100608</td>\n",
       "    </tr>\n",
       "    <tr>\n",
       "      <th>value_ratios</th>\n",
       "      <td>{'http://arxiv.org/abs/2305.12999v1': 0.0, 'ht...</td>\n",
       "      <td>{'Oliver Knill': 0.0, 'David Eppstein': 0.0, '...</td>\n",
       "      <td>{'Data Preservation in High Energy Physics': 0...</td>\n",
       "      <td>{'  This paper has been withdrawn by the autho...</td>\n",
       "      <td>{'cs.SE': 1.7, 'cs.CV': 1.6, 'cs.RO': 1.6, 'ee...</td>\n",
       "      <td>{'Not available': 42.9, '10 pages': 0.2, '12 p...</td>\n",
       "    </tr>\n",
       "  </tbody>\n",
       "</table>\n",
       "</div>"
      ],
      "text/plain": [
       "                                                        paper_id  \\\n",
       "missing_ratio                                                0.0   \n",
       "num_values                                                257881   \n",
       "value_ratios   {'http://arxiv.org/abs/2305.12999v1': 0.0, 'ht...   \n",
       "\n",
       "                                                         authors  \\\n",
       "missing_ratio                                                0.0   \n",
       "num_values                                                230379   \n",
       "value_ratios   {'Oliver Knill': 0.0, 'David Eppstein': 0.0, '...   \n",
       "\n",
       "                                                           title  \\\n",
       "missing_ratio                                                0.0   \n",
       "num_values                                                257753   \n",
       "value_ratios   {'Data Preservation in High Energy Physics': 0...   \n",
       "\n",
       "                                                        abstract  \\\n",
       "missing_ratio                                                0.0   \n",
       "num_values                                                257788   \n",
       "value_ratios   {'  This paper has been withdrawn by the autho...   \n",
       "\n",
       "                                                      categories  \\\n",
       "missing_ratio                                                0.0   \n",
       "num_values                                                 49947   \n",
       "value_ratios   {'cs.SE': 1.7, 'cs.CV': 1.6, 'cs.RO': 1.6, 'ee...   \n",
       "\n",
       "                                                         comment  \n",
       "missing_ratio                                                0.0  \n",
       "num_values                                                100608  \n",
       "value_ratios   {'Not available': 42.9, '10 pages': 0.2, '12 p...  "
      ]
     },
     "execution_count": 18,
     "metadata": {},
     "output_type": "execute_result"
    }
   ],
   "source": [
    "cat_col_info_df"
   ]
  },
  {
   "cell_type": "markdown",
   "metadata": {
    "id": "BByHC4cwhWLt"
   },
   "source": [
    "- Dữ liệu có tính đa dạng cao với nhiều giá trị khác nhau trong các cột.\n",
    "\n",
    "- Một số cột chứa giá trị phổ biến với tỷ lệ cao, trong khi các giá trị còn lại có tỷ lệ rất thấp.\n",
    "\n",
    "- Sự xuất hiện của 'Not available' với tỷ lệ lớn trong một cột có thể ảnh hưởng đến kết quả phân tích sau này và cần được xử lý hoặc xem xét kỹ hơn."
   ]
  },
  {
   "cell_type": "markdown",
   "metadata": {
    "id": "bKbnw2jOhWLt"
   },
   "source": [
    "### Dữ liệu được thu thập có hợp lý chưa?"
   ]
  },
  {
   "cell_type": "code",
   "execution_count": 19,
   "metadata": {
    "colab": {
     "base_uri": "https://localhost:8080/",
     "height": 840
    },
    "id": "L6p_ljubhWLt",
    "outputId": "f3e88b9b-92e3-4554-acba-2b0beecce098"
   },
   "outputs": [
    {
     "data": {
      "text/html": [
       "<div>\n",
       "<style scoped>\n",
       "    .dataframe tbody tr th:only-of-type {\n",
       "        vertical-align: middle;\n",
       "    }\n",
       "\n",
       "    .dataframe tbody tr th {\n",
       "        vertical-align: top;\n",
       "    }\n",
       "\n",
       "    .dataframe thead th {\n",
       "        text-align: right;\n",
       "    }\n",
       "</style>\n",
       "<table border=\"1\" class=\"dataframe\">\n",
       "  <thead>\n",
       "    <tr style=\"text-align: right;\">\n",
       "      <th></th>\n",
       "      <th>paper_id</th>\n",
       "      <th>authors</th>\n",
       "      <th>updated</th>\n",
       "      <th>published</th>\n",
       "      <th>title</th>\n",
       "      <th>abstract</th>\n",
       "      <th>categories</th>\n",
       "      <th>comment</th>\n",
       "    </tr>\n",
       "  </thead>\n",
       "  <tbody>\n",
       "    <tr>\n",
       "      <th>0</th>\n",
       "      <td>http://arxiv.org/abs/2411.15100v2</td>\n",
       "      <td>Yixin Dong,Charlie F. Ruan,Yaxing Cai,Ruihang ...</td>\n",
       "      <td>2024-11-27 18:59:28</td>\n",
       "      <td>2024-11-22 18:01:37</td>\n",
       "      <td>XGrammar: Flexible and Efficient Structured Ge...</td>\n",
       "      <td>The applications of LLM Agents are becoming ...</td>\n",
       "      <td>cs.CL,cs.AI,cs.PL</td>\n",
       "      <td>Not available</td>\n",
       "    </tr>\n",
       "    <tr>\n",
       "      <th>1</th>\n",
       "      <td>http://arxiv.org/abs/2411.18620v1</td>\n",
       "      <td>Zhi Zhang,Srishti Yadav,Fengze Han,Ekaterina S...</td>\n",
       "      <td>2024-11-27 18:59:26</td>\n",
       "      <td>2024-11-27 18:59:26</td>\n",
       "      <td>Cross-modal Information Flow in Multimodal Lar...</td>\n",
       "      <td>The recent advancements in auto-regressive m...</td>\n",
       "      <td>cs.AI,cs.CL,cs.CV</td>\n",
       "      <td>Not available</td>\n",
       "    </tr>\n",
       "    <tr>\n",
       "      <th>2</th>\n",
       "      <td>http://arxiv.org/abs/2411.18616v1</td>\n",
       "      <td>Shengqu Cai,Eric Chan,Yunzhi Zhang,Leonidas Gu...</td>\n",
       "      <td>2024-11-27 18:58:52</td>\n",
       "      <td>2024-11-27 18:58:52</td>\n",
       "      <td>Diffusion Self-Distillation for Zero-Shot Cust...</td>\n",
       "      <td>Text-to-image diffusion models produce impre...</td>\n",
       "      <td>cs.CV,cs.AI,cs.GR,cs.LG</td>\n",
       "      <td>Project page: https://primecai.github.io/dsd/</td>\n",
       "    </tr>\n",
       "    <tr>\n",
       "      <th>3</th>\n",
       "      <td>http://arxiv.org/abs/2411.07976v5</td>\n",
       "      <td>Mahmut S. Gokmen,Caner Ozcan,Moneera N. Haque,...</td>\n",
       "      <td>2024-11-27 18:58:41</td>\n",
       "      <td>2024-11-12 17:55:39</td>\n",
       "      <td>DINO-LG: A Task-Specific DINO Model for Corona...</td>\n",
       "      <td>Coronary artery disease (CAD), one of the le...</td>\n",
       "      <td>eess.IV,cs.AI,cs.CV</td>\n",
       "      <td>Developed by Center for Applied Artificial Int...</td>\n",
       "    </tr>\n",
       "    <tr>\n",
       "      <th>4</th>\n",
       "      <td>http://arxiv.org/abs/2411.18615v1</td>\n",
       "      <td>Zhi Zhang,Jiayi Shen,Congfeng Cao,Gaole Dai,Sh...</td>\n",
       "      <td>2024-11-27 18:58:22</td>\n",
       "      <td>2024-11-27 18:58:22</td>\n",
       "      <td>Proactive Gradient Conflict Mitigation in Mult...</td>\n",
       "      <td>Advancing towards generalist agents necessit...</td>\n",
       "      <td>cs.LG,cs.AI,cs.CV</td>\n",
       "      <td>Not available</td>\n",
       "    </tr>\n",
       "    <tr>\n",
       "      <th>...</th>\n",
       "      <td>...</td>\n",
       "      <td>...</td>\n",
       "      <td>...</td>\n",
       "      <td>...</td>\n",
       "      <td>...</td>\n",
       "      <td>...</td>\n",
       "      <td>...</td>\n",
       "      <td>...</td>\n",
       "    </tr>\n",
       "    <tr>\n",
       "      <th>257876</th>\n",
       "      <td>http://arxiv.org/abs/2305.13538v1</td>\n",
       "      <td>Linwei Sang,Yinliang Xu,Hongbin Sun</td>\n",
       "      <td>2023-05-22 23:22:13</td>\n",
       "      <td>2023-05-22 23:22:13</td>\n",
       "      <td>Encoding Carbon Emission Flow in Energy Manage...</td>\n",
       "      <td>Decarbonizing the energy supply is essential...</td>\n",
       "      <td>eess.SY,cs.SY</td>\n",
       "      <td>Not available</td>\n",
       "    </tr>\n",
       "    <tr>\n",
       "      <th>257877</th>\n",
       "      <td>http://arxiv.org/abs/2305.13463v1</td>\n",
       "      <td>Taeju Lee,Minkyu Je</td>\n",
       "      <td>2023-05-22 20:10:56</td>\n",
       "      <td>2023-05-22 20:10:56</td>\n",
       "      <td>Trend Investigation of Biopotential Recording ...</td>\n",
       "      <td>This paper presents the trend of biopotentia...</td>\n",
       "      <td>eess.SY,cs.SY,eess.SP</td>\n",
       "      <td>Not available</td>\n",
       "    </tr>\n",
       "    <tr>\n",
       "      <th>257878</th>\n",
       "      <td>http://arxiv.org/abs/2211.01527v2</td>\n",
       "      <td>J. Brian Burns,Aravind Sundaresan,Pedro Sequei...</td>\n",
       "      <td>2023-05-22 19:53:33</td>\n",
       "      <td>2022-11-03 00:03:14</td>\n",
       "      <td>Sensor Control for Information Gain in Dynamic...</td>\n",
       "      <td>We present an approach for autonomous sensor...</td>\n",
       "      <td>cs.AI,cs.CV,cs.SY,eess.SY,I.2.8; I.2.6; I.5.4</td>\n",
       "      <td>13 pages</td>\n",
       "    </tr>\n",
       "    <tr>\n",
       "      <th>257879</th>\n",
       "      <td>http://arxiv.org/abs/2305.13215v1</td>\n",
       "      <td>Kamal Basulaiman,Masoud Barati</td>\n",
       "      <td>2023-05-22 16:46:37</td>\n",
       "      <td>2023-05-22 16:46:37</td>\n",
       "      <td>Sequence-to-Sequence Forecasting-aided State E...</td>\n",
       "      <td>Power system state forecasting has gained mo...</td>\n",
       "      <td>eess.SY,cs.LG,cs.SY</td>\n",
       "      <td>Not available</td>\n",
       "    </tr>\n",
       "    <tr>\n",
       "      <th>257880</th>\n",
       "      <td>http://arxiv.org/abs/2305.12999v1</td>\n",
       "      <td>Savvas Papaioannou,Panayiotis Kolios,Theochari...</td>\n",
       "      <td>2023-05-22 13:04:34</td>\n",
       "      <td>2023-05-22 13:04:34</td>\n",
       "      <td>Integrated Guidance and Gimbal Control for Cov...</td>\n",
       "      <td>Coverage path planning with unmanned aerial ...</td>\n",
       "      <td>eess.SY,cs.SY</td>\n",
       "      <td>Not available</td>\n",
       "    </tr>\n",
       "  </tbody>\n",
       "</table>\n",
       "<p>257881 rows × 8 columns</p>\n",
       "</div>"
      ],
      "text/plain": [
       "                                 paper_id  \\\n",
       "0       http://arxiv.org/abs/2411.15100v2   \n",
       "1       http://arxiv.org/abs/2411.18620v1   \n",
       "2       http://arxiv.org/abs/2411.18616v1   \n",
       "3       http://arxiv.org/abs/2411.07976v5   \n",
       "4       http://arxiv.org/abs/2411.18615v1   \n",
       "...                                   ...   \n",
       "257876  http://arxiv.org/abs/2305.13538v1   \n",
       "257877  http://arxiv.org/abs/2305.13463v1   \n",
       "257878  http://arxiv.org/abs/2211.01527v2   \n",
       "257879  http://arxiv.org/abs/2305.13215v1   \n",
       "257880  http://arxiv.org/abs/2305.12999v1   \n",
       "\n",
       "                                                  authors             updated  \\\n",
       "0       Yixin Dong,Charlie F. Ruan,Yaxing Cai,Ruihang ... 2024-11-27 18:59:28   \n",
       "1       Zhi Zhang,Srishti Yadav,Fengze Han,Ekaterina S... 2024-11-27 18:59:26   \n",
       "2       Shengqu Cai,Eric Chan,Yunzhi Zhang,Leonidas Gu... 2024-11-27 18:58:52   \n",
       "3       Mahmut S. Gokmen,Caner Ozcan,Moneera N. Haque,... 2024-11-27 18:58:41   \n",
       "4       Zhi Zhang,Jiayi Shen,Congfeng Cao,Gaole Dai,Sh... 2024-11-27 18:58:22   \n",
       "...                                                   ...                 ...   \n",
       "257876                Linwei Sang,Yinliang Xu,Hongbin Sun 2023-05-22 23:22:13   \n",
       "257877                                Taeju Lee,Minkyu Je 2023-05-22 20:10:56   \n",
       "257878  J. Brian Burns,Aravind Sundaresan,Pedro Sequei... 2023-05-22 19:53:33   \n",
       "257879                     Kamal Basulaiman,Masoud Barati 2023-05-22 16:46:37   \n",
       "257880  Savvas Papaioannou,Panayiotis Kolios,Theochari... 2023-05-22 13:04:34   \n",
       "\n",
       "                 published                                              title  \\\n",
       "0      2024-11-22 18:01:37  XGrammar: Flexible and Efficient Structured Ge...   \n",
       "1      2024-11-27 18:59:26  Cross-modal Information Flow in Multimodal Lar...   \n",
       "2      2024-11-27 18:58:52  Diffusion Self-Distillation for Zero-Shot Cust...   \n",
       "3      2024-11-12 17:55:39  DINO-LG: A Task-Specific DINO Model for Corona...   \n",
       "4      2024-11-27 18:58:22  Proactive Gradient Conflict Mitigation in Mult...   \n",
       "...                    ...                                                ...   \n",
       "257876 2023-05-22 23:22:13  Encoding Carbon Emission Flow in Energy Manage...   \n",
       "257877 2023-05-22 20:10:56  Trend Investigation of Biopotential Recording ...   \n",
       "257878 2022-11-03 00:03:14  Sensor Control for Information Gain in Dynamic...   \n",
       "257879 2023-05-22 16:46:37  Sequence-to-Sequence Forecasting-aided State E...   \n",
       "257880 2023-05-22 13:04:34  Integrated Guidance and Gimbal Control for Cov...   \n",
       "\n",
       "                                                 abstract  \\\n",
       "0         The applications of LLM Agents are becoming ...   \n",
       "1         The recent advancements in auto-regressive m...   \n",
       "2         Text-to-image diffusion models produce impre...   \n",
       "3         Coronary artery disease (CAD), one of the le...   \n",
       "4         Advancing towards generalist agents necessit...   \n",
       "...                                                   ...   \n",
       "257876    Decarbonizing the energy supply is essential...   \n",
       "257877    This paper presents the trend of biopotentia...   \n",
       "257878    We present an approach for autonomous sensor...   \n",
       "257879    Power system state forecasting has gained mo...   \n",
       "257880    Coverage path planning with unmanned aerial ...   \n",
       "\n",
       "                                           categories  \\\n",
       "0                                   cs.CL,cs.AI,cs.PL   \n",
       "1                                   cs.AI,cs.CL,cs.CV   \n",
       "2                             cs.CV,cs.AI,cs.GR,cs.LG   \n",
       "3                                 eess.IV,cs.AI,cs.CV   \n",
       "4                                   cs.LG,cs.AI,cs.CV   \n",
       "...                                               ...   \n",
       "257876                                  eess.SY,cs.SY   \n",
       "257877                          eess.SY,cs.SY,eess.SP   \n",
       "257878  cs.AI,cs.CV,cs.SY,eess.SY,I.2.8; I.2.6; I.5.4   \n",
       "257879                            eess.SY,cs.LG,cs.SY   \n",
       "257880                                  eess.SY,cs.SY   \n",
       "\n",
       "                                                  comment  \n",
       "0                                           Not available  \n",
       "1                                           Not available  \n",
       "2           Project page: https://primecai.github.io/dsd/  \n",
       "3       Developed by Center for Applied Artificial Int...  \n",
       "4                                           Not available  \n",
       "...                                                   ...  \n",
       "257876                                      Not available  \n",
       "257877                                      Not available  \n",
       "257878                                           13 pages  \n",
       "257879                                      Not available  \n",
       "257880                                      Not available  \n",
       "\n",
       "[257881 rows x 8 columns]"
      ]
     },
     "execution_count": 19,
     "metadata": {},
     "output_type": "execute_result"
    }
   ],
   "source": [
    "raw_df"
   ]
  },
  {
   "cell_type": "markdown",
   "metadata": {
    "id": "A0C7JHfZhWLy"
   },
   "source": [
    "#### Ở đây ta thấy ở cột paper_id là các đường dẫn URL ta có thể lọc lấy định danh duy nhất từ đường dẫn."
   ]
  },
  {
   "cell_type": "code",
   "execution_count": 20,
   "metadata": {
    "colab": {
     "base_uri": "https://localhost:8080/",
     "height": 753
    },
    "id": "qVbWSsnXhWLz",
    "outputId": "fd165a2c-7bce-42bc-bacc-916f3dc8ab7d"
   },
   "outputs": [
    {
     "data": {
      "text/html": [
       "<div>\n",
       "<style scoped>\n",
       "    .dataframe tbody tr th:only-of-type {\n",
       "        vertical-align: middle;\n",
       "    }\n",
       "\n",
       "    .dataframe tbody tr th {\n",
       "        vertical-align: top;\n",
       "    }\n",
       "\n",
       "    .dataframe thead th {\n",
       "        text-align: right;\n",
       "    }\n",
       "</style>\n",
       "<table border=\"1\" class=\"dataframe\">\n",
       "  <thead>\n",
       "    <tr style=\"text-align: right;\">\n",
       "      <th></th>\n",
       "      <th>paper_id</th>\n",
       "      <th>authors</th>\n",
       "      <th>updated</th>\n",
       "      <th>published</th>\n",
       "      <th>title</th>\n",
       "      <th>abstract</th>\n",
       "      <th>categories</th>\n",
       "      <th>comment</th>\n",
       "    </tr>\n",
       "  </thead>\n",
       "  <tbody>\n",
       "    <tr>\n",
       "      <th>0</th>\n",
       "      <td>2411.15100v2</td>\n",
       "      <td>Yixin Dong,Charlie F. Ruan,Yaxing Cai,Ruihang ...</td>\n",
       "      <td>2024-11-27 18:59:28</td>\n",
       "      <td>2024-11-22 18:01:37</td>\n",
       "      <td>XGrammar: Flexible and Efficient Structured Ge...</td>\n",
       "      <td>The applications of LLM Agents are becoming ...</td>\n",
       "      <td>cs.CL,cs.AI,cs.PL</td>\n",
       "      <td>Not available</td>\n",
       "    </tr>\n",
       "    <tr>\n",
       "      <th>1</th>\n",
       "      <td>2411.18620v1</td>\n",
       "      <td>Zhi Zhang,Srishti Yadav,Fengze Han,Ekaterina S...</td>\n",
       "      <td>2024-11-27 18:59:26</td>\n",
       "      <td>2024-11-27 18:59:26</td>\n",
       "      <td>Cross-modal Information Flow in Multimodal Lar...</td>\n",
       "      <td>The recent advancements in auto-regressive m...</td>\n",
       "      <td>cs.AI,cs.CL,cs.CV</td>\n",
       "      <td>Not available</td>\n",
       "    </tr>\n",
       "    <tr>\n",
       "      <th>2</th>\n",
       "      <td>2411.18616v1</td>\n",
       "      <td>Shengqu Cai,Eric Chan,Yunzhi Zhang,Leonidas Gu...</td>\n",
       "      <td>2024-11-27 18:58:52</td>\n",
       "      <td>2024-11-27 18:58:52</td>\n",
       "      <td>Diffusion Self-Distillation for Zero-Shot Cust...</td>\n",
       "      <td>Text-to-image diffusion models produce impre...</td>\n",
       "      <td>cs.CV,cs.AI,cs.GR,cs.LG</td>\n",
       "      <td>Project page: https://primecai.github.io/dsd/</td>\n",
       "    </tr>\n",
       "    <tr>\n",
       "      <th>3</th>\n",
       "      <td>2411.07976v5</td>\n",
       "      <td>Mahmut S. Gokmen,Caner Ozcan,Moneera N. Haque,...</td>\n",
       "      <td>2024-11-27 18:58:41</td>\n",
       "      <td>2024-11-12 17:55:39</td>\n",
       "      <td>DINO-LG: A Task-Specific DINO Model for Corona...</td>\n",
       "      <td>Coronary artery disease (CAD), one of the le...</td>\n",
       "      <td>eess.IV,cs.AI,cs.CV</td>\n",
       "      <td>Developed by Center for Applied Artificial Int...</td>\n",
       "    </tr>\n",
       "    <tr>\n",
       "      <th>4</th>\n",
       "      <td>2411.18615v1</td>\n",
       "      <td>Zhi Zhang,Jiayi Shen,Congfeng Cao,Gaole Dai,Sh...</td>\n",
       "      <td>2024-11-27 18:58:22</td>\n",
       "      <td>2024-11-27 18:58:22</td>\n",
       "      <td>Proactive Gradient Conflict Mitigation in Mult...</td>\n",
       "      <td>Advancing towards generalist agents necessit...</td>\n",
       "      <td>cs.LG,cs.AI,cs.CV</td>\n",
       "      <td>Not available</td>\n",
       "    </tr>\n",
       "    <tr>\n",
       "      <th>...</th>\n",
       "      <td>...</td>\n",
       "      <td>...</td>\n",
       "      <td>...</td>\n",
       "      <td>...</td>\n",
       "      <td>...</td>\n",
       "      <td>...</td>\n",
       "      <td>...</td>\n",
       "      <td>...</td>\n",
       "    </tr>\n",
       "    <tr>\n",
       "      <th>257876</th>\n",
       "      <td>2305.13538v1</td>\n",
       "      <td>Linwei Sang,Yinliang Xu,Hongbin Sun</td>\n",
       "      <td>2023-05-22 23:22:13</td>\n",
       "      <td>2023-05-22 23:22:13</td>\n",
       "      <td>Encoding Carbon Emission Flow in Energy Manage...</td>\n",
       "      <td>Decarbonizing the energy supply is essential...</td>\n",
       "      <td>eess.SY,cs.SY</td>\n",
       "      <td>Not available</td>\n",
       "    </tr>\n",
       "    <tr>\n",
       "      <th>257877</th>\n",
       "      <td>2305.13463v1</td>\n",
       "      <td>Taeju Lee,Minkyu Je</td>\n",
       "      <td>2023-05-22 20:10:56</td>\n",
       "      <td>2023-05-22 20:10:56</td>\n",
       "      <td>Trend Investigation of Biopotential Recording ...</td>\n",
       "      <td>This paper presents the trend of biopotentia...</td>\n",
       "      <td>eess.SY,cs.SY,eess.SP</td>\n",
       "      <td>Not available</td>\n",
       "    </tr>\n",
       "    <tr>\n",
       "      <th>257878</th>\n",
       "      <td>2211.01527v2</td>\n",
       "      <td>J. Brian Burns,Aravind Sundaresan,Pedro Sequei...</td>\n",
       "      <td>2023-05-22 19:53:33</td>\n",
       "      <td>2022-11-03 00:03:14</td>\n",
       "      <td>Sensor Control for Information Gain in Dynamic...</td>\n",
       "      <td>We present an approach for autonomous sensor...</td>\n",
       "      <td>cs.AI,cs.CV,cs.SY,eess.SY,I.2.8; I.2.6; I.5.4</td>\n",
       "      <td>13 pages</td>\n",
       "    </tr>\n",
       "    <tr>\n",
       "      <th>257879</th>\n",
       "      <td>2305.13215v1</td>\n",
       "      <td>Kamal Basulaiman,Masoud Barati</td>\n",
       "      <td>2023-05-22 16:46:37</td>\n",
       "      <td>2023-05-22 16:46:37</td>\n",
       "      <td>Sequence-to-Sequence Forecasting-aided State E...</td>\n",
       "      <td>Power system state forecasting has gained mo...</td>\n",
       "      <td>eess.SY,cs.LG,cs.SY</td>\n",
       "      <td>Not available</td>\n",
       "    </tr>\n",
       "    <tr>\n",
       "      <th>257880</th>\n",
       "      <td>2305.12999v1</td>\n",
       "      <td>Savvas Papaioannou,Panayiotis Kolios,Theochari...</td>\n",
       "      <td>2023-05-22 13:04:34</td>\n",
       "      <td>2023-05-22 13:04:34</td>\n",
       "      <td>Integrated Guidance and Gimbal Control for Cov...</td>\n",
       "      <td>Coverage path planning with unmanned aerial ...</td>\n",
       "      <td>eess.SY,cs.SY</td>\n",
       "      <td>Not available</td>\n",
       "    </tr>\n",
       "  </tbody>\n",
       "</table>\n",
       "<p>257881 rows × 8 columns</p>\n",
       "</div>"
      ],
      "text/plain": [
       "            paper_id                                            authors  \\\n",
       "0       2411.15100v2  Yixin Dong,Charlie F. Ruan,Yaxing Cai,Ruihang ...   \n",
       "1       2411.18620v1  Zhi Zhang,Srishti Yadav,Fengze Han,Ekaterina S...   \n",
       "2       2411.18616v1  Shengqu Cai,Eric Chan,Yunzhi Zhang,Leonidas Gu...   \n",
       "3       2411.07976v5  Mahmut S. Gokmen,Caner Ozcan,Moneera N. Haque,...   \n",
       "4       2411.18615v1  Zhi Zhang,Jiayi Shen,Congfeng Cao,Gaole Dai,Sh...   \n",
       "...              ...                                                ...   \n",
       "257876  2305.13538v1                Linwei Sang,Yinliang Xu,Hongbin Sun   \n",
       "257877  2305.13463v1                                Taeju Lee,Minkyu Je   \n",
       "257878  2211.01527v2  J. Brian Burns,Aravind Sundaresan,Pedro Sequei...   \n",
       "257879  2305.13215v1                     Kamal Basulaiman,Masoud Barati   \n",
       "257880  2305.12999v1  Savvas Papaioannou,Panayiotis Kolios,Theochari...   \n",
       "\n",
       "                   updated           published  \\\n",
       "0      2024-11-27 18:59:28 2024-11-22 18:01:37   \n",
       "1      2024-11-27 18:59:26 2024-11-27 18:59:26   \n",
       "2      2024-11-27 18:58:52 2024-11-27 18:58:52   \n",
       "3      2024-11-27 18:58:41 2024-11-12 17:55:39   \n",
       "4      2024-11-27 18:58:22 2024-11-27 18:58:22   \n",
       "...                    ...                 ...   \n",
       "257876 2023-05-22 23:22:13 2023-05-22 23:22:13   \n",
       "257877 2023-05-22 20:10:56 2023-05-22 20:10:56   \n",
       "257878 2023-05-22 19:53:33 2022-11-03 00:03:14   \n",
       "257879 2023-05-22 16:46:37 2023-05-22 16:46:37   \n",
       "257880 2023-05-22 13:04:34 2023-05-22 13:04:34   \n",
       "\n",
       "                                                    title  \\\n",
       "0       XGrammar: Flexible and Efficient Structured Ge...   \n",
       "1       Cross-modal Information Flow in Multimodal Lar...   \n",
       "2       Diffusion Self-Distillation for Zero-Shot Cust...   \n",
       "3       DINO-LG: A Task-Specific DINO Model for Corona...   \n",
       "4       Proactive Gradient Conflict Mitigation in Mult...   \n",
       "...                                                   ...   \n",
       "257876  Encoding Carbon Emission Flow in Energy Manage...   \n",
       "257877  Trend Investigation of Biopotential Recording ...   \n",
       "257878  Sensor Control for Information Gain in Dynamic...   \n",
       "257879  Sequence-to-Sequence Forecasting-aided State E...   \n",
       "257880  Integrated Guidance and Gimbal Control for Cov...   \n",
       "\n",
       "                                                 abstract  \\\n",
       "0         The applications of LLM Agents are becoming ...   \n",
       "1         The recent advancements in auto-regressive m...   \n",
       "2         Text-to-image diffusion models produce impre...   \n",
       "3         Coronary artery disease (CAD), one of the le...   \n",
       "4         Advancing towards generalist agents necessit...   \n",
       "...                                                   ...   \n",
       "257876    Decarbonizing the energy supply is essential...   \n",
       "257877    This paper presents the trend of biopotentia...   \n",
       "257878    We present an approach for autonomous sensor...   \n",
       "257879    Power system state forecasting has gained mo...   \n",
       "257880    Coverage path planning with unmanned aerial ...   \n",
       "\n",
       "                                           categories  \\\n",
       "0                                   cs.CL,cs.AI,cs.PL   \n",
       "1                                   cs.AI,cs.CL,cs.CV   \n",
       "2                             cs.CV,cs.AI,cs.GR,cs.LG   \n",
       "3                                 eess.IV,cs.AI,cs.CV   \n",
       "4                                   cs.LG,cs.AI,cs.CV   \n",
       "...                                               ...   \n",
       "257876                                  eess.SY,cs.SY   \n",
       "257877                          eess.SY,cs.SY,eess.SP   \n",
       "257878  cs.AI,cs.CV,cs.SY,eess.SY,I.2.8; I.2.6; I.5.4   \n",
       "257879                            eess.SY,cs.LG,cs.SY   \n",
       "257880                                  eess.SY,cs.SY   \n",
       "\n",
       "                                                  comment  \n",
       "0                                           Not available  \n",
       "1                                           Not available  \n",
       "2           Project page: https://primecai.github.io/dsd/  \n",
       "3       Developed by Center for Applied Artificial Int...  \n",
       "4                                           Not available  \n",
       "...                                                   ...  \n",
       "257876                                      Not available  \n",
       "257877                                      Not available  \n",
       "257878                                           13 pages  \n",
       "257879                                      Not available  \n",
       "257880                                      Not available  \n",
       "\n",
       "[257881 rows x 8 columns]"
      ]
     },
     "execution_count": 20,
     "metadata": {},
     "output_type": "execute_result"
    }
   ],
   "source": [
    "raw_df[\"paper_id\"] = raw_df[\"paper_id\"].str.split(\"/\").str[-1]\n",
    "raw_df"
   ]
  },
  {
   "cell_type": "markdown",
   "metadata": {
    "id": "st9Uhi29hWL1"
   },
   "source": [
    "## Kham phá dữ liệu"
   ]
  },
  {
   "cell_type": "markdown",
   "metadata": {
    "id": "mRyJy8U0hWL1"
   },
   "source": [
    " ### 1. Số lượng chủ đề trong mỗi bài báo là bao nhiêu?"
   ]
  },
  {
   "cell_type": "code",
   "execution_count": 21,
   "metadata": {
    "id": "eJG2XRHKhWL1"
   },
   "outputs": [
    {
     "data": {
      "text/plain": [
       "2     85926\n",
       "1     67318\n",
       "3     58589\n",
       "4     24802\n",
       "5     10983\n",
       "6      4799\n",
       "7      2321\n",
       "8      1343\n",
       "9       735\n",
       "10      457\n",
       "11      248\n",
       "12      134\n",
       "13       77\n",
       "14       50\n",
       "15       28\n",
       "17       26\n",
       "16       14\n",
       "18       11\n",
       "19       10\n",
       "23        3\n",
       "20        3\n",
       "22        2\n",
       "26        1\n",
       "21        1\n",
       "Name: topic_count, dtype: int64"
      ]
     },
     "execution_count": 21,
     "metadata": {},
     "output_type": "execute_result"
    }
   ],
   "source": [
    "raw_df[\"topic_count\"] = raw_df[\"categories\"].apply(lambda x : len(x.split(',')))\n",
    "raw_df[\"topic_count\"].value_counts()"
   ]
  },
  {
   "cell_type": "code",
   "execution_count": 22,
   "metadata": {
    "id": "9cZrQD_yhWL1"
   },
   "outputs": [
    {
     "name": "stderr",
     "output_type": "stream",
     "text": [
      "/home/sinhtruc/miniconda3/envs/min_ds-env2/lib/python3.10/site-packages/seaborn/_decorators.py:36: FutureWarning: Pass the following variable as a keyword arg: x. From version 0.12, the only valid positional argument will be `data`, and passing other arguments without an explicit keyword will result in an error or misinterpretation.\n",
      "  warnings.warn(\n"
     ]
    },
    {
     "data": {
      "text/plain": [
       "Text(0, 0.5, 'Frequency')"
      ]
     },
     "execution_count": 22,
     "metadata": {},
     "output_type": "execute_result"
    },
    {
     "data": {
      "image/png": "[encoded data removed]",
      "text/plain": [
       "<Figure size 640x480 with 1 Axes>"
      ]
     },
     "metadata": {},
     "output_type": "display_data"
    }
   ],
   "source": [
    "sns.countplot(raw_df[\"topic_count\"])\n",
    "plt.title(\"Number of topic in artcile\")\n",
    "plt.xlabel(\"Number of topic\")\n",
    "plt.ylabel(\"Frequency\")"
   ]
  },
  {
   "cell_type": "markdown",
   "metadata": {
    "id": "_XXBBXs8hWL1"
   },
   "source": [
    "**Nhận xét:**\n",
    "Dựa vào biểu đồ trực quan ở trên ta có thể nhận ra rằng đa phần mỗi bài báo đều có từ 1 đến 5 chủ đề là nhiều. Trong đó loại bài báo có hai chủ đề là nhiều nhất có 85926 bài báo có 2 chủ đề. Và có 1 bài báo có 26 chủ đề."
   ]
  },
  {
   "cell_type": "markdown",
   "metadata": {
    "id": "apdL1d3YhWL2"
   },
   "source": [
    "### 2. Chủ đề công nghệ thông tin có bao phủ hết tập dữ liệu không?"
   ]
  },
  {
   "cell_type": "markdown",
   "metadata": {
    "id": "2aSDUmGXhWL2"
   },
   "source": [
    "Lọc đi những chủ đề không liên quan tới công nghệ thông tin vẫn giữ lại bài báo."
   ]
  },
  {
   "cell_type": "code",
   "execution_count": 23,
   "metadata": {
    "colab": {
     "base_uri": "https://localhost:8080/"
    },
    "id": "lher7HRMhWL2",
    "outputId": "b606ee62-cea8-418b-c30d-5e700ca47423"
   },
   "outputs": [
    {
     "name": "stdout",
     "output_type": "stream",
     "text": [
      "Số ô không trống trong cột 'categories': 257881\n",
      "(257881, 9)\n"
     ]
    }
   ],
   "source": [
    "def filter_cs_categories(category_list):\n",
    "    return [cat.strip() for cat in category_list if cat.strip().startswith('cs.')]\n",
    "\n",
    "raw_df['categories'] = raw_df['categories'].str.split(',').apply(filter_cs_categories)\n",
    "\n",
    "raw_df['categories'] = raw_df['categories'].apply(lambda x: ', '.join(x))\n",
    "\n",
    "empty = raw_df['categories'].apply(lambda x: len(x.strip()) > 0).sum()\n",
    "\n",
    "print(f\"Số ô không trống trong cột 'categories': {empty}\")\n",
    "\n",
    "print(raw_df.shape)"
   ]
  },
  {
   "cell_type": "markdown",
   "metadata": {
    "id": "hAhhl6W4hWL2"
   },
   "source": [
    "Vậy ta thấy số ô không trống ở categories là 257881 bằng với số ô ban đầu chưa xóa chủ đề, điều đó có nghĩa rằng là chủ đề công nghệ thông tin bảo phủ toàn bộ tập dữ liệu."
   ]
  },
  {
   "cell_type": "code",
   "execution_count": 24,
   "metadata": {
    "colab": {
     "base_uri": "https://localhost:8080/",
     "height": 423
    },
    "id": "54-eABXXhWL3",
    "outputId": "4ea4b3e0-15bd-4c7b-d1ff-ff53bcf2166f"
   },
   "outputs": [
    {
     "data": {
      "text/html": [
       "<div>\n",
       "<style scoped>\n",
       "    .dataframe tbody tr th:only-of-type {\n",
       "        vertical-align: middle;\n",
       "    }\n",
       "\n",
       "    .dataframe tbody tr th {\n",
       "        vertical-align: top;\n",
       "    }\n",
       "\n",
       "    .dataframe thead th {\n",
       "        text-align: right;\n",
       "    }\n",
       "</style>\n",
       "<table border=\"1\" class=\"dataframe\">\n",
       "  <thead>\n",
       "    <tr style=\"text-align: right;\">\n",
       "      <th></th>\n",
       "      <th>paper_id</th>\n",
       "      <th>categories</th>\n",
       "    </tr>\n",
       "  </thead>\n",
       "  <tbody>\n",
       "    <tr>\n",
       "      <th>0</th>\n",
       "      <td>2411.15100v2</td>\n",
       "      <td>cs.CL, cs.AI, cs.PL</td>\n",
       "    </tr>\n",
       "    <tr>\n",
       "      <th>1</th>\n",
       "      <td>2411.18620v1</td>\n",
       "      <td>cs.AI, cs.CL, cs.CV</td>\n",
       "    </tr>\n",
       "    <tr>\n",
       "      <th>2</th>\n",
       "      <td>2411.18616v1</td>\n",
       "      <td>cs.CV, cs.AI, cs.GR, cs.LG</td>\n",
       "    </tr>\n",
       "    <tr>\n",
       "      <th>3</th>\n",
       "      <td>2411.07976v5</td>\n",
       "      <td>cs.AI, cs.CV</td>\n",
       "    </tr>\n",
       "    <tr>\n",
       "      <th>4</th>\n",
       "      <td>2411.18615v1</td>\n",
       "      <td>cs.LG, cs.AI, cs.CV</td>\n",
       "    </tr>\n",
       "    <tr>\n",
       "      <th>...</th>\n",
       "      <td>...</td>\n",
       "      <td>...</td>\n",
       "    </tr>\n",
       "    <tr>\n",
       "      <th>257876</th>\n",
       "      <td>2305.13538v1</td>\n",
       "      <td>cs.SY</td>\n",
       "    </tr>\n",
       "    <tr>\n",
       "      <th>257877</th>\n",
       "      <td>2305.13463v1</td>\n",
       "      <td>cs.SY</td>\n",
       "    </tr>\n",
       "    <tr>\n",
       "      <th>257878</th>\n",
       "      <td>2211.01527v2</td>\n",
       "      <td>cs.AI, cs.CV, cs.SY</td>\n",
       "    </tr>\n",
       "    <tr>\n",
       "      <th>257879</th>\n",
       "      <td>2305.13215v1</td>\n",
       "      <td>cs.LG, cs.SY</td>\n",
       "    </tr>\n",
       "    <tr>\n",
       "      <th>257880</th>\n",
       "      <td>2305.12999v1</td>\n",
       "      <td>cs.SY</td>\n",
       "    </tr>\n",
       "  </tbody>\n",
       "</table>\n",
       "<p>257881 rows × 2 columns</p>\n",
       "</div>"
      ],
      "text/plain": [
       "            paper_id                  categories\n",
       "0       2411.15100v2         cs.CL, cs.AI, cs.PL\n",
       "1       2411.18620v1         cs.AI, cs.CL, cs.CV\n",
       "2       2411.18616v1  cs.CV, cs.AI, cs.GR, cs.LG\n",
       "3       2411.07976v5                cs.AI, cs.CV\n",
       "4       2411.18615v1         cs.LG, cs.AI, cs.CV\n",
       "...              ...                         ...\n",
       "257876  2305.13538v1                       cs.SY\n",
       "257877  2305.13463v1                       cs.SY\n",
       "257878  2211.01527v2         cs.AI, cs.CV, cs.SY\n",
       "257879  2305.13215v1                cs.LG, cs.SY\n",
       "257880  2305.12999v1                       cs.SY\n",
       "\n",
       "[257881 rows x 2 columns]"
      ]
     },
     "execution_count": 24,
     "metadata": {},
     "output_type": "execute_result"
    }
   ],
   "source": [
    "raw_df[['paper_id', 'categories']]"
   ]
  },
  {
   "cell_type": "markdown",
   "metadata": {
    "id": "Czc6Qk3lhWL3"
   },
   "source": [
    "Kiểm tra lại số lượng chủ đề tối đa có trong một bài báo và bài báo có bao nhiêu chủ đề là chiếm đa số?"
   ]
  },
  {
   "cell_type": "code",
   "execution_count": 25,
   "metadata": {
    "colab": {
     "base_uri": "https://localhost:8080/",
     "height": 366
    },
    "id": "FFfCthuZhWL3",
    "outputId": "d47942dd-4632-4982-9af5-f9c448261ffc"
   },
   "outputs": [
    {
     "data": {
      "text/plain": [
       "1    126117\n",
       "2     87259\n",
       "3     34236\n",
       "4      8607\n",
       "5      1614\n",
       "6        42\n",
       "7         5\n",
       "8         1\n",
       "Name: topic_count, dtype: int64"
      ]
     },
     "execution_count": 25,
     "metadata": {},
     "output_type": "execute_result"
    }
   ],
   "source": [
    "raw_df[\"topic_count\"] = raw_df[\"categories\"].apply(lambda x : len(x.split(',')))\n",
    "raw_df[\"topic_count\"].value_counts()"
   ]
  },
  {
   "cell_type": "code",
   "execution_count": 26,
   "metadata": {
    "id": "ol14Q0j7hWL3"
   },
   "outputs": [
    {
     "name": "stderr",
     "output_type": "stream",
     "text": [
      "/home/sinhtruc/miniconda3/envs/min_ds-env2/lib/python3.10/site-packages/seaborn/_decorators.py:36: FutureWarning: Pass the following variable as a keyword arg: x. From version 0.12, the only valid positional argument will be `data`, and passing other arguments without an explicit keyword will result in an error or misinterpretation.\n",
      "  warnings.warn(\n"
     ]
    },
    {
     "data": {
      "text/plain": [
       "Text(0, 0.5, 'Frequency')"
      ]
     },
     "execution_count": 26,
     "metadata": {},
     "output_type": "execute_result"
    },
    {
     "data": {
      "image/png": "[encoded data removed]",
      "text/plain": [
       "<Figure size 640x480 with 1 Axes>"
      ]
     },
     "metadata": {},
     "output_type": "display_data"
    }
   ],
   "source": [
    "sns.countplot(raw_df[\"topic_count\"])\n",
    "plt.title(\"Number of topic in artcile\")\n",
    "plt.xlabel(\"Number of topic\")\n",
    "plt.ylabel(\"Frequency\")"
   ]
  },
  {
   "cell_type": "markdown",
   "metadata": {
    "id": "VzMh28SxhWL3"
   },
   "source": [
    "### 3. Xu hướng xuất bản bài viết theo thời gian như thế nào? Có tăng lên theo từng năm hay không?"
   ]
  },
  {
   "cell_type": "code",
   "execution_count": 27,
   "metadata": {
    "id": "G7s-XdERhWL3"
   },
   "outputs": [],
   "source": [
    "raw_df['published_year'] = raw_df['published'].dt.year\n",
    "publication_trend = raw_df['published_year'].value_counts().sort_index()"
   ]
  },
  {
   "cell_type": "code",
   "execution_count": 28,
   "metadata": {
    "colab": {
     "base_uri": "https://localhost:8080/",
     "height": 607
    },
    "id": "l42HS5ychWL3",
    "outputId": "7c816c86-032a-444d-9149-287651790119"
   },
   "outputs": [
    {
     "data": {
      "image/png": "[encoded data removed]",
      "text/plain": [
       "<Figure size 1000x600 with 1 Axes>"
      ]
     },
     "metadata": {},
     "output_type": "display_data"
    }
   ],
   "source": [
    "plt.figure(figsize=(10, 6))\n",
    "plt.plot(publication_trend.index, publication_trend.values, marker='o', linestyle='-')\n",
    "plt.title(\"Xu hướng xuất bản bài viết theo thời gian\", fontsize=16)\n",
    "plt.xlabel(\"Năm\", fontsize=12)\n",
    "plt.ylabel(\"Số lượng bài viết\", fontsize=12)\n",
    "plt.grid(alpha=0.5)\n",
    "plt.xticks(publication_trend.index, rotation=45)\n",
    "plt.tight_layout()\n",
    "plt.show()"
   ]
  },
  {
   "cell_type": "markdown",
   "metadata": {
    "id": "hLmVaxIhhWL3"
   },
   "source": [
    "**Nhận xét về xu hướng xuất bản bài viết theo thời gian:**\n",
    "\n",
    "- Xu hướng tăng trưởng theo thời gian: Số lượng bài viết được xuất bản tăng rất ít và ổn định trong giai đoạn 1990 - 2010. Từ năm 2010 trở đi, số lượng bài viết bắt đầu tăng dần và có dấu hiệu tăng trưởng nhanh hơn. Giai đoạn 2017 - 2024 chứng kiến sự bùng nổ mạnh mẽ về số lượng bài viết, đặc biệt từ năm 2020 trở đi, đường biểu diễn cho thấy tốc độ tăng trưởng gần như theo cấp số nhân.\n",
    "\n",
    "- Bùng nổ trong những năm gần đây (2020 - 2024): Số lượng bài viết tăng đột biến, từ khoảng 10,000 bài viết vào năm 2019 lên hơn 50,000 vào năm 2023. Năm 2024 dự đoán sẽ đạt mức kỷ lục, gần 80,000 bài viết.\n",
    "\n",
    "**Nguyên nhân có thể dẫn đến sự tăng trưởng mạnh:**\n",
    "\n",
    "- Phát triển công nghệ và trí tuệ nhân tạo (AI): Xu hướng nghiên cứu và xuất bản trong các lĩnh vực mới như AI, Machine Learning, và Khoa học dữ liệu thúc đẩy số lượng bài viết tăng mạnh.\n",
    "\n",
    "- Mở rộng các nền tảng xuất bản trực tuyến: Các nền tảng mở như arXiv đã tạo điều kiện thuận lợi cho việc chia sẻ nghiên cứu nhanh chóng và rộng rãi.\n",
    "\n",
    "- Sự gia tăng của các nhà nghiên cứu và tổ chức khoa học: Cộng đồng nghiên cứu khoa học ngày càng lớn mạnh và đóng góp nhiều bài viết hơn.\n",
    "\n",
    "**Giai đoạn ổn định trước năm 2010:** Trước năm 2010, số lượng bài viết tăng rất chậm và ổn định, cho thấy mức độ xuất bản nghiên cứu khoa học còn hạn chế."
   ]
  },
  {
   "cell_type": "markdown",
   "metadata": {
    "id": "V6Z5oWr5hWL3"
   },
   "source": [
    "### 4. Top 10 tác giả có số lượng bài viết cao nhất?"
   ]
  },
  {
   "cell_type": "code",
   "execution_count": 29,
   "metadata": {
    "colab": {
     "base_uri": "https://localhost:8080/"
    },
    "id": "UjNfEfAYhWL4",
    "outputId": "0a7c782a-91eb-4230-c278-701073f99d36"
   },
   "outputs": [
    {
     "name": "stdout",
     "output_type": "stream",
     "text": [
      "Top 10 tác giả có số lượng bài viết cao nhất:\n",
      "Oliver Knill                       61\n",
      "David Eppstein                     49\n",
      "Maurice Margenstern                40\n",
      "Tomoyuki Yamakami                  39\n",
      "Sabah Al-Fedaghi                   33\n",
      "J. A. Bergstra,C. A. Middelburg    33\n",
      "Joseph O'Rourke                    32\n",
      "Yong Wang                          31\n",
      "Loet Leydesdorff                   31\n",
      "Gilles Dowek                       30\n",
      "Name: authors, dtype: int64\n"
     ]
    }
   ],
   "source": [
    "author_counts = raw_df['authors'].value_counts()\n",
    "top_10_authors = author_counts.head(10)\n",
    "print(\"Top 10 tác giả có số lượng bài viết cao nhất:\")\n",
    "print(top_10_authors)"
   ]
  },
  {
   "cell_type": "code",
   "execution_count": 30,
   "metadata": {
    "colab": {
     "base_uri": "https://localhost:8080/",
     "height": 607
    },
    "id": "icHPZpPihWL4",
    "outputId": "04ff098f-9341-4f7b-f086-e4c37b3e1dd6"
   },
   "outputs": [
    {
     "data": {
      "image/png": "[encoded data removed]",
      "text/plain": [
       "<Figure size 1000x600 with 1 Axes>"
      ]
     },
     "metadata": {},
     "output_type": "display_data"
    }
   ],
   "source": [
    "plt.figure(figsize=(10, 6))\n",
    "top_10_authors.plot(kind='bar', color='skyblue')\n",
    "plt.title('Top 10 tác giả có số lượng bài viết cao nhất', fontsize=16)\n",
    "plt.xlabel('Tác giả', fontsize=12)\n",
    "plt.ylabel('Số lượng bài viết', fontsize=12)\n",
    "plt.xticks(rotation=45, ha='right')\n",
    "plt.tight_layout()\n",
    "plt.show()"
   ]
  },
  {
   "cell_type": "markdown",
   "metadata": {
    "id": "UcYF6V0phWL4"
   },
   "source": [
    "**Nhận xét:**\n",
    "- Phân bố đóng góp của tác giả: Biểu đồ thể hiện rõ mức độ đóng góp của từng tác giả vào số lượng bài viết trong danh sách được thống kê. Tác giả Oliver Knill có sự đóng góp lớn nhất, chiếm tỷ lệ nổi trội so với các tác giả còn lại.\n",
    "\n",
    "- Nổi bật cá nhân: Oliver Knill và David Eppstein là hai cá nhân nổi bật với số lượng bài viết cao, cho thấy họ có thể là những nhà nghiên cứu hoạt động tích cực và có sức ảnh hưởng lớn trong lĩnh vực được thống kê.\n",
    "\n",
    "- Đóng góp đồng đều ở các tác giả còn lại: Khoảng cách giữa các tác giả xếp từ vị trí thứ 3 đến thứ 10 tương đối nhỏ. Điều này cho thấy trong nhóm các nhà nghiên cứu hàng đầu, mức độ đóng góp khá đồng đều và không có sự chênh lệch lớn.\n",
    "\n",
    "- Vai trò quan trọng của nghiên cứu khoa học: Số lượng bài viết cao có thể phản ánh: Năng suất làm việc cao của các tác giả, Mức độ tham gia của họ trong cộng đồng nghiên cứu và học thuật, Khả năng mở rộng và phát triển các chủ đề nghiên cứu liên quan."
   ]
  },
  {
   "cell_type": "markdown",
   "metadata": {},
   "source": [
    "### 5. Số lượng bài báo có chủ đề công nghệ thông tin? Và từ đó cho thấy các lĩnh vực nghiên cứu nào xuất hiện nhiều nhất trong dữ liệu?"
   ]
  },
  {
   "cell_type": "code",
   "execution_count": 31,
   "metadata": {},
   "outputs": [
    {
     "data": {
      "text/html": [
       "<div>\n",
       "<style scoped>\n",
       "    .dataframe tbody tr th:only-of-type {\n",
       "        vertical-align: middle;\n",
       "    }\n",
       "\n",
       "    .dataframe tbody tr th {\n",
       "        vertical-align: top;\n",
       "    }\n",
       "\n",
       "    .dataframe thead th {\n",
       "        text-align: right;\n",
       "    }\n",
       "</style>\n",
       "<table border=\"1\" class=\"dataframe\">\n",
       "  <thead>\n",
       "    <tr style=\"text-align: right;\">\n",
       "      <th></th>\n",
       "      <th>Category</th>\n",
       "      <th>Count</th>\n",
       "    </tr>\n",
       "  </thead>\n",
       "  <tbody>\n",
       "    <tr>\n",
       "      <th>0</th>\n",
       "      <td>cs.LG</td>\n",
       "      <td>52560</td>\n",
       "    </tr>\n",
       "    <tr>\n",
       "      <th>1</th>\n",
       "      <td>cs.AI</td>\n",
       "      <td>38710</td>\n",
       "    </tr>\n",
       "    <tr>\n",
       "      <th>2</th>\n",
       "      <td>cs.CV</td>\n",
       "      <td>22989</td>\n",
       "    </tr>\n",
       "    <tr>\n",
       "      <th>3</th>\n",
       "      <td>cs.CL</td>\n",
       "      <td>19890</td>\n",
       "    </tr>\n",
       "    <tr>\n",
       "      <th>4</th>\n",
       "      <td>cs.CR</td>\n",
       "      <td>15116</td>\n",
       "    </tr>\n",
       "    <tr>\n",
       "      <th>5</th>\n",
       "      <td>cs.DS</td>\n",
       "      <td>14158</td>\n",
       "    </tr>\n",
       "    <tr>\n",
       "      <th>6</th>\n",
       "      <td>cs.DC</td>\n",
       "      <td>13202</td>\n",
       "    </tr>\n",
       "    <tr>\n",
       "      <th>7</th>\n",
       "      <td>cs.RO</td>\n",
       "      <td>13163</td>\n",
       "    </tr>\n",
       "    <tr>\n",
       "      <th>8</th>\n",
       "      <td>cs.SY</td>\n",
       "      <td>12918</td>\n",
       "    </tr>\n",
       "    <tr>\n",
       "      <th>9</th>\n",
       "      <td>cs.IT</td>\n",
       "      <td>12177</td>\n",
       "    </tr>\n",
       "    <tr>\n",
       "      <th>10</th>\n",
       "      <td>cs.LO</td>\n",
       "      <td>11821</td>\n",
       "    </tr>\n",
       "    <tr>\n",
       "      <th>11</th>\n",
       "      <td>cs.HC</td>\n",
       "      <td>11724</td>\n",
       "    </tr>\n",
       "    <tr>\n",
       "      <th>12</th>\n",
       "      <td>cs.NA</td>\n",
       "      <td>11630</td>\n",
       "    </tr>\n",
       "    <tr>\n",
       "      <th>13</th>\n",
       "      <td>cs.IR</td>\n",
       "      <td>11482</td>\n",
       "    </tr>\n",
       "    <tr>\n",
       "      <th>14</th>\n",
       "      <td>cs.SE</td>\n",
       "      <td>11419</td>\n",
       "    </tr>\n",
       "    <tr>\n",
       "      <th>15</th>\n",
       "      <td>cs.NI</td>\n",
       "      <td>11279</td>\n",
       "    </tr>\n",
       "    <tr>\n",
       "      <th>16</th>\n",
       "      <td>cs.CY</td>\n",
       "      <td>11129</td>\n",
       "    </tr>\n",
       "    <tr>\n",
       "      <th>17</th>\n",
       "      <td>cs.SI</td>\n",
       "      <td>11086</td>\n",
       "    </tr>\n",
       "    <tr>\n",
       "      <th>18</th>\n",
       "      <td>cs.DM</td>\n",
       "      <td>10672</td>\n",
       "    </tr>\n",
       "    <tr>\n",
       "      <th>19</th>\n",
       "      <td>cs.NE</td>\n",
       "      <td>10476</td>\n",
       "    </tr>\n",
       "    <tr>\n",
       "      <th>20</th>\n",
       "      <td>cs.SD</td>\n",
       "      <td>10414</td>\n",
       "    </tr>\n",
       "    <tr>\n",
       "      <th>21</th>\n",
       "      <td>cs.CC</td>\n",
       "      <td>10122</td>\n",
       "    </tr>\n",
       "    <tr>\n",
       "      <th>22</th>\n",
       "      <td>cs.GT</td>\n",
       "      <td>9874</td>\n",
       "    </tr>\n",
       "    <tr>\n",
       "      <th>23</th>\n",
       "      <td>cs.DB</td>\n",
       "      <td>9293</td>\n",
       "    </tr>\n",
       "    <tr>\n",
       "      <th>24</th>\n",
       "      <td>cs.MA</td>\n",
       "      <td>8357</td>\n",
       "    </tr>\n",
       "    <tr>\n",
       "      <th>25</th>\n",
       "      <td>cs.PL</td>\n",
       "      <td>8184</td>\n",
       "    </tr>\n",
       "    <tr>\n",
       "      <th>26</th>\n",
       "      <td>cs.CE</td>\n",
       "      <td>7820</td>\n",
       "    </tr>\n",
       "    <tr>\n",
       "      <th>27</th>\n",
       "      <td>cs.MM</td>\n",
       "      <td>7201</td>\n",
       "    </tr>\n",
       "    <tr>\n",
       "      <th>28</th>\n",
       "      <td>cs.CG</td>\n",
       "      <td>7084</td>\n",
       "    </tr>\n",
       "    <tr>\n",
       "      <th>29</th>\n",
       "      <td>cs.GR</td>\n",
       "      <td>6780</td>\n",
       "    </tr>\n",
       "    <tr>\n",
       "      <th>30</th>\n",
       "      <td>cs.AR</td>\n",
       "      <td>5586</td>\n",
       "    </tr>\n",
       "    <tr>\n",
       "      <th>31</th>\n",
       "      <td>cs.FL</td>\n",
       "      <td>5165</td>\n",
       "    </tr>\n",
       "    <tr>\n",
       "      <th>32</th>\n",
       "      <td>cs.DL</td>\n",
       "      <td>5098</td>\n",
       "    </tr>\n",
       "    <tr>\n",
       "      <th>33</th>\n",
       "      <td>cs.ET</td>\n",
       "      <td>5010</td>\n",
       "    </tr>\n",
       "    <tr>\n",
       "      <th>34</th>\n",
       "      <td>cs.PF</td>\n",
       "      <td>4161</td>\n",
       "    </tr>\n",
       "    <tr>\n",
       "      <th>35</th>\n",
       "      <td>cs.SC</td>\n",
       "      <td>2659</td>\n",
       "    </tr>\n",
       "    <tr>\n",
       "      <th>36</th>\n",
       "      <td>cs.MS</td>\n",
       "      <td>2304</td>\n",
       "    </tr>\n",
       "    <tr>\n",
       "      <th>37</th>\n",
       "      <td>cs.OH</td>\n",
       "      <td>2223</td>\n",
       "    </tr>\n",
       "    <tr>\n",
       "      <th>38</th>\n",
       "      <td>cs.OS</td>\n",
       "      <td>983</td>\n",
       "    </tr>\n",
       "    <tr>\n",
       "      <th>39</th>\n",
       "      <td>cs.GL</td>\n",
       "      <td>216</td>\n",
       "    </tr>\n",
       "    <tr>\n",
       "      <th>40</th>\n",
       "      <td>cs.cc</td>\n",
       "      <td>1</td>\n",
       "    </tr>\n",
       "  </tbody>\n",
       "</table>\n",
       "</div>"
      ],
      "text/plain": [
       "   Category  Count\n",
       "0     cs.LG  52560\n",
       "1     cs.AI  38710\n",
       "2     cs.CV  22989\n",
       "3     cs.CL  19890\n",
       "4     cs.CR  15116\n",
       "5     cs.DS  14158\n",
       "6     cs.DC  13202\n",
       "7     cs.RO  13163\n",
       "8     cs.SY  12918\n",
       "9     cs.IT  12177\n",
       "10    cs.LO  11821\n",
       "11    cs.HC  11724\n",
       "12    cs.NA  11630\n",
       "13    cs.IR  11482\n",
       "14    cs.SE  11419\n",
       "15    cs.NI  11279\n",
       "16    cs.CY  11129\n",
       "17    cs.SI  11086\n",
       "18    cs.DM  10672\n",
       "19    cs.NE  10476\n",
       "20    cs.SD  10414\n",
       "21    cs.CC  10122\n",
       "22    cs.GT   9874\n",
       "23    cs.DB   9293\n",
       "24    cs.MA   8357\n",
       "25    cs.PL   8184\n",
       "26    cs.CE   7820\n",
       "27    cs.MM   7201\n",
       "28    cs.CG   7084\n",
       "29    cs.GR   6780\n",
       "30    cs.AR   5586\n",
       "31    cs.FL   5165\n",
       "32    cs.DL   5098\n",
       "33    cs.ET   5010\n",
       "34    cs.PF   4161\n",
       "35    cs.SC   2659\n",
       "36    cs.MS   2304\n",
       "37    cs.OH   2223\n",
       "38    cs.OS    983\n",
       "39    cs.GL    216\n",
       "40    cs.cc      1"
      ]
     },
     "execution_count": 31,
     "metadata": {},
     "output_type": "execute_result"
    }
   ],
   "source": [
    "# Tách danh mục từ cột 'categories'\n",
    "categories_series = raw_df['categories'].str.split(',')\n",
    "\n",
    "# Làm phẳng danh sách các danh mục và loại bỏ khoảng trắng thừa\n",
    "all_categories = []\n",
    "for sublist in categories_series:\n",
    "    for category in sublist:\n",
    "        all_categories.append(category.strip())\n",
    "\n",
    "# Đếm tần suất xuất hiện của từng danh mục\n",
    "category_counts = Counter(all_categories)\n",
    "\n",
    "# Tạo DataFrame từ kết quả đếm\n",
    "category_counts_df = pd.DataFrame(category_counts.items(), columns=['Category', 'Count']).sort_values(by='Count', ascending=False)\n",
    "\n",
    "# Lọc chỉ các danh mục bắt đầu với \"cs.\"\n",
    "cs_categories = category_counts_df[category_counts_df['Category'].str.startswith('cs.')].reset_index(drop=True)\n",
    "cs_categories"
   ]
  },
  {
   "cell_type": "code",
   "execution_count": 32,
   "metadata": {},
   "outputs": [
    {
     "data": {
      "image/png": "[encoded data removed]",
      "text/plain": [
       "<Figure size 1200x600 with 1 Axes>"
      ]
     },
     "metadata": {},
     "output_type": "display_data"
    }
   ],
   "source": [
    "plt.figure(figsize=(12, 6))\n",
    "plt.bar(cs_categories['Category'], cs_categories['Count'], color='skyblue')\n",
    "plt.title('Topic Starting with \"cs.\"', fontsize=16)\n",
    "plt.xlabel('Topic', fontsize=12)\n",
    "plt.ylabel('Count', fontsize=12)\n",
    "plt.xticks(rotation=45, ha='right')\n",
    "plt.grid(axis='y', linestyle='--', alpha=0.7)\n",
    "plt.tight_layout()\n",
    "plt.show()"
   ]
  },
  {
   "cell_type": "markdown",
   "metadata": {},
   "source": [
    "**Nhận xét:**\n",
    "- Xu hướng nghiên cứu tập trung chủ yếu vào các lĩnh vực Machine Learning (cs.LG), AI (cs.AI), và Computer Vision (cs.CV).\n",
    "- Các chủ đề liên quan đến bảo mật (cs.CR), thuật toán (cs.DS), và robot (cs.RO) cũng nhận được sự quan tâm đáng kể.\n",
    "- Một số chủ đề truyền thống như Operating Systems (cs.OS) hoặc Computational Complexity (cs.CC) hiện có ít nghiên cứu hơn, phản ánh sự thay đổi ưu tiên trong cộng đồng khoa học máy tính."
   ]
  },
  {
   "cell_type": "markdown",
   "metadata": {},
   "source": [
    "### Với sự khám phá ở câu hỏi số 5. \n",
    "Chúng em nhận thấy rằng các chủ đề ở sau có khá ít bài báo. Dẫn đến khi huấn luyện sẽ ảnh hưởng đến độ chính xác của mô hình. Vậy nên nhóm chúng em chọn ra 20 chủ đề với số lượng bài báo là cao nhất."
   ]
  },
  {
   "cell_type": "code",
   "execution_count": 33,
   "metadata": {},
   "outputs": [
    {
     "data": {
      "text/plain": [
       "(148146, 10)"
      ]
     },
     "execution_count": 33,
     "metadata": {},
     "output_type": "execute_result"
    }
   ],
   "source": [
    "dict_category = {}\n",
    "for id, key in enumerate(cs_categories['Category']):\n",
    "    if id < 20: # 20 chủ đề với số lượng bài báo cao nhất\n",
    "        dict_category[key] = 1\n",
    "    else:\n",
    "        dict_category[key] = 0\n",
    "# Định nghĩa hàm điều kiện\n",
    "def condition_to_delete(x):\n",
    "    for category in x.split(','):\n",
    "        if dict_category[category.strip()] == 0:\n",
    "            return True\n",
    "    return False\n",
    "\n",
    "# Áp dụng hàm để lọc các dòng\n",
    "raw_df = raw_df[~raw_df['categories'].apply(condition_to_delete)]\n",
    "raw_df.shape"
   ]
  },
  {
   "cell_type": "code",
   "execution_count": 34,
   "metadata": {},
   "outputs": [],
   "source": [
    "save_file_name = 'cleaned_arxiv_cs_papers_all.csv'\n",
    "raw_df.to_csv(save_file_name, index = False)"
   ]
  }
 ],
 "metadata": {
  "accelerator": "GPU",
  "colab": {
   "gpuType": "T4",
   "provenance": []
  },
  "kernelspec": {
   "display_name": "Python 3 (ipykernel)",
   "language": "python",
   "name": "python3"
  },
  "language_info": {
   "codemirror_mode": {
    "name": "ipython",
    "version": 3
   },
   "file_extension": ".py",
   "mimetype": "text/x-python",
   "name": "python",
   "nbconvert_exporter": "python",
   "pygments_lexer": "ipython3",
   "version": "3.10.15"
  },
  "widgets": {
   "application/vnd.jupyter.widget-state+json": {
    "11d2f96334dc48a6ab0e591eac9d865f": {
     "model_module": "@jupyter-widgets/controls",
     "model_module_version": "1.5.0",
     "model_name": "HTMLModel",
     "state": {
      "_dom_classes": [],
      "_model_module": "@jupyter-widgets/controls",
      "_model_module_version": "1.5.0",
      "_model_name": "HTMLModel",
      "_view_count": null,
      "_view_module": "@jupyter-widgets/controls",
      "_view_module_version": "1.5.0",
      "_view_name": "HTMLView",
      "description": "",
      "description_tooltip": null,
      "layout": "IPY_MODEL_25e1da72c382481ebf1e38920540ec13",
      "placeholder": "​",
      "style": "IPY_MODEL_5c3e5b23e971497bb7568619866d00df",
      "value": " 286M/286M [00:13&lt;00:00, 20.6MB/s]"
     }
    },
    "2520755f33bd4f37a9dd65e394a90278": {
     "model_module": "@jupyter-widgets/base",
     "model_module_version": "1.2.0",
     "model_name": "LayoutModel",
     "state": {
      "_model_module": "@jupyter-widgets/base",
      "_model_module_version": "1.2.0",
      "_model_name": "LayoutModel",
      "_view_count": null,
      "_view_module": "@jupyter-widgets/base",
      "_view_module_version": "1.2.0",
      "_view_name": "LayoutView",
      "align_content": null,
      "align_items": null,
      "align_self": null,
      "border": null,
      "bottom": null,
      "display": null,
      "flex": null,
      "flex_flow": null,
      "grid_area": null,
      "grid_auto_columns": null,
      "grid_auto_flow": null,
      "grid_auto_rows": null,
      "grid_column": null,
      "grid_gap": null,
      "grid_row": null,
      "grid_template_areas": null,
      "grid_template_columns": null,
      "grid_template_rows": null,
      "height": null,
      "justify_content": null,
      "justify_items": null,
      "left": null,
      "margin": null,
      "max_height": null,
      "max_width": null,
      "min_height": null,
      "min_width": null,
      "object_fit": null,
      "object_position": null,
      "order": null,
      "overflow": null,
      "overflow_x": null,
      "overflow_y": null,
      "padding": null,
      "right": null,
      "top": null,
      "visibility": null,
      "width": null
     }
    },
    "25e1da72c382481ebf1e38920540ec13": {
     "model_module": "@jupyter-widgets/base",
     "model_module_version": "1.2.0",
     "model_name": "LayoutModel",
     "state": {
      "_model_module": "@jupyter-widgets/base",
      "_model_module_version": "1.2.0",
      "_model_name": "LayoutModel",
      "_view_count": null,
      "_view_module": "@jupyter-widgets/base",
      "_view_module_version": "1.2.0",
      "_view_name": "LayoutView",
      "align_content": null,
      "align_items": null,
      "align_self": null,
      "border": null,
      "bottom": null,
      "display": null,
      "flex": null,
      "flex_flow": null,
      "grid_area": null,
      "grid_auto_columns": null,
      "grid_auto_flow": null,
      "grid_auto_rows": null,
      "grid_column": null,
      "grid_gap": null,
      "grid_row": null,
      "grid_template_areas": null,
      "grid_template_columns": null,
      "grid_template_rows": null,
      "height": null,
      "justify_content": null,
      "justify_items": null,
      "left": null,
      "margin": null,
      "max_height": null,
      "max_width": null,
      "min_height": null,
      "min_width": null,
      "object_fit": null,
      "object_position": null,
      "order": null,
      "overflow": null,
      "overflow_x": null,
      "overflow_y": null,
      "padding": null,
      "right": null,
      "top": null,
      "visibility": null,
      "width": null
     }
    },
    "25fa65ee50ea41b1892cfc280f37eae0": {
     "model_module": "@jupyter-widgets/base",
     "model_module_version": "1.2.0",
     "model_name": "LayoutModel",
     "state": {
      "_model_module": "@jupyter-widgets/base",
      "_model_module_version": "1.2.0",
      "_model_name": "LayoutModel",
      "_view_count": null,
      "_view_module": "@jupyter-widgets/base",
      "_view_module_version": "1.2.0",
      "_view_name": "LayoutView",
      "align_content": null,
      "align_items": null,
      "align_self": null,
      "border": null,
      "bottom": null,
      "display": null,
      "flex": null,
      "flex_flow": null,
      "grid_area": null,
      "grid_auto_columns": null,
      "grid_auto_flow": null,
      "grid_auto_rows": null,
      "grid_column": null,
      "grid_gap": null,
      "grid_row": null,
      "grid_template_areas": null,
      "grid_template_columns": null,
      "grid_template_rows": null,
      "height": null,
      "justify_content": null,
      "justify_items": null,
      "left": null,
      "margin": null,
      "max_height": null,
      "max_width": null,
      "min_height": null,
      "min_width": null,
      "object_fit": null,
      "object_position": null,
      "order": null,
      "overflow": null,
      "overflow_x": null,
      "overflow_y": null,
      "padding": null,
      "right": null,
      "top": null,
      "visibility": null,
      "width": null
     }
    },
    "5c3e5b23e971497bb7568619866d00df": {
     "model_module": "@jupyter-widgets/controls",
     "model_module_version": "1.5.0",
     "model_name": "DescriptionStyleModel",
     "state": {
      "_model_module": "@jupyter-widgets/controls",
      "_model_module_version": "1.5.0",
      "_model_name": "DescriptionStyleModel",
      "_view_count": null,
      "_view_module": "@jupyter-widgets/base",
      "_view_module_version": "1.2.0",
      "_view_name": "StyleView",
      "description_width": ""
     }
    },
    "5ff0e2c7aa8d4340b23f1cc41ce506d4": {
     "model_module": "@jupyter-widgets/controls",
     "model_module_version": "1.5.0",
     "model_name": "DescriptionStyleModel",
     "state": {
      "_model_module": "@jupyter-widgets/controls",
      "_model_module_version": "1.5.0",
      "_model_name": "DescriptionStyleModel",
      "_view_count": null,
      "_view_module": "@jupyter-widgets/base",
      "_view_module_version": "1.2.0",
      "_view_name": "StyleView",
      "description_width": ""
     }
    },
    "860380934fb347ecb6653dd465c1fea0": {
     "model_module": "@jupyter-widgets/controls",
     "model_module_version": "1.5.0",
     "model_name": "FloatProgressModel",
     "state": {
      "_dom_classes": [],
      "_model_module": "@jupyter-widgets/controls",
      "_model_module_version": "1.5.0",
      "_model_name": "FloatProgressModel",
      "_view_count": null,
      "_view_module": "@jupyter-widgets/controls",
      "_view_module_version": "1.5.0",
      "_view_name": "ProgressView",
      "bar_style": "success",
      "description": "",
      "description_tooltip": null,
      "layout": "IPY_MODEL_bf9ca7f7776848e29eab861d9d72c0c8",
      "max": 286034994,
      "min": 0,
      "orientation": "horizontal",
      "style": "IPY_MODEL_fc1e7b2bd941488bb91877fe3ec081e3",
      "value": 286034994
     }
    },
    "9c3ab994181a4f8c9b05e65f1b3da145": {
     "model_module": "@jupyter-widgets/controls",
     "model_module_version": "1.5.0",
     "model_name": "HBoxModel",
     "state": {
      "_dom_classes": [],
      "_model_module": "@jupyter-widgets/controls",
      "_model_module_version": "1.5.0",
      "_model_name": "HBoxModel",
      "_view_count": null,
      "_view_module": "@jupyter-widgets/controls",
      "_view_module_version": "1.5.0",
      "_view_name": "HBoxView",
      "box_style": "",
      "children": [
       "IPY_MODEL_b16789fa89864f988ca857034b5272ff",
       "IPY_MODEL_860380934fb347ecb6653dd465c1fea0",
       "IPY_MODEL_11d2f96334dc48a6ab0e591eac9d865f"
      ],
      "layout": "IPY_MODEL_25fa65ee50ea41b1892cfc280f37eae0"
     }
    },
    "b16789fa89864f988ca857034b5272ff": {
     "model_module": "@jupyter-widgets/controls",
     "model_module_version": "1.5.0",
     "model_name": "HTMLModel",
     "state": {
      "_dom_classes": [],
      "_model_module": "@jupyter-widgets/controls",
      "_model_module_version": "1.5.0",
      "_model_name": "HTMLModel",
      "_view_count": null,
      "_view_module": "@jupyter-widgets/controls",
      "_view_module_version": "1.5.0",
      "_view_name": "HTMLView",
      "description": "",
      "description_tooltip": null,
      "layout": "IPY_MODEL_2520755f33bd4f37a9dd65e394a90278",
      "placeholder": "​",
      "style": "IPY_MODEL_5ff0e2c7aa8d4340b23f1cc41ce506d4",
      "value": "model.safetensors: 100%"
     }
    },
    "bf9ca7f7776848e29eab861d9d72c0c8": {
     "model_module": "@jupyter-widgets/base",
     "model_module_version": "1.2.0",
     "model_name": "LayoutModel",
     "state": {
      "_model_module": "@jupyter-widgets/base",
      "_model_module_version": "1.2.0",
      "_model_name": "LayoutModel",
      "_view_count": null,
      "_view_module": "@jupyter-widgets/base",
      "_view_module_version": "1.2.0",
      "_view_name": "LayoutView",
      "align_content": null,
      "align_items": null,
      "align_self": null,
      "border": null,
      "bottom": null,
      "display": null,
      "flex": null,
      "flex_flow": null,
      "grid_area": null,
      "grid_auto_columns": null,
      "grid_auto_flow": null,
      "grid_auto_rows": null,
      "grid_column": null,
      "grid_gap": null,
      "grid_row": null,
      "grid_template_areas": null,
      "grid_template_columns": null,
      "grid_template_rows": null,
      "height": null,
      "justify_content": null,
      "justify_items": null,
      "left": null,
      "margin": null,
      "max_height": null,
      "max_width": null,
      "min_height": null,
      "min_width": null,
      "object_fit": null,
      "object_position": null,
      "order": null,
      "overflow": null,
      "overflow_x": null,
      "overflow_y": null,
      "padding": null,
      "right": null,
      "top": null,
      "visibility": null,
      "width": null
     }
    },
    "fc1e7b2bd941488bb91877fe3ec081e3": {
     "model_module": "@jupyter-widgets/controls",
     "model_module_version": "1.5.0",
     "model_name": "ProgressStyleModel",
     "state": {
      "_model_module": "@jupyter-widgets/controls",
      "_model_module_version": "1.5.0",
      "_model_name": "ProgressStyleModel",
      "_view_count": null,
      "_view_module": "@jupyter-widgets/base",
      "_view_module_version": "1.2.0",
      "_view_name": "StyleView",
      "bar_color": null,
      "description_width": ""
     }
    }
   }
  }
 },
 "nbformat": 4,
 "nbformat_minor": 1
}
