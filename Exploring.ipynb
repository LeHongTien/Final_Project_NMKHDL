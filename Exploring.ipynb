{
 "cells": [
  {
   "cell_type": "markdown",
   "metadata": {
    "id": "COtB2jy8hWLn"
   },
   "source": [
    "# Nhập môn khoa học dữ liệu đồ án cuối kỳ _ Nhóm 12\n",
    "\n",
    "Thông tin nhóm:\n",
    "- 22120367 - Lê Hồng Tiến\n",
    "- 22120380 - Hồ Nhất Trí\n",
    "- 22120382 - Nguyễn Anh Trí\n",
    "- 22120395 - Nguyễn Sinh Trực\n",
    "- 22120399 - Nguyễn Lê Anh Tú\n"
   ]
  },
  {
   "cell_type": "markdown",
   "metadata": {
    "id": "BxkxhSrlhWLo"
   },
   "source": [
    "## Thu thập dữ liệu"
   ]
  },
  {
   "cell_type": "markdown",
   "metadata": {
    "id": "5KNyPD2uhWLo"
   },
   "source": [
    "## Khai báo các thư viện cần thiết"
   ]
  },
  {
   "cell_type": "code",
   "execution_count": 1,
   "metadata": {
    "id": "hBpUzV9LhWLo"
   },
   "outputs": [],
   "source": [
    "import numpy as np\n",
    "import pandas as pd\n",
    "import matplotlib.pyplot as plt\n",
    "import seaborn as sns\n",
    "from collections import Counter"
   ]
  },
  {
   "cell_type": "markdown",
   "metadata": {
    "id": "bNKwhWyghWLp"
   },
   "source": [
    "## Tiền xử lý dữ liệu\n",
    "### Đọc dữ liệu từ file vào dataframe."
   ]
  },
  {
   "cell_type": "code",
   "execution_count": 2,
   "metadata": {
    "colab": {
     "base_uri": "https://localhost:8080/",
     "height": 362
    },
    "id": "7Fzde_-fhWLp",
    "outputId": "a9466cf4-23ad-4625-880a-91f8c9f3c42a"
   },
   "outputs": [
    {
     "data": {
      "text/html": [
       "<div>\n",
       "<style scoped>\n",
       "    .dataframe tbody tr th:only-of-type {\n",
       "        vertical-align: middle;\n",
       "    }\n",
       "\n",
       "    .dataframe tbody tr th {\n",
       "        vertical-align: top;\n",
       "    }\n",
       "\n",
       "    .dataframe thead th {\n",
       "        text-align: right;\n",
       "    }\n",
       "</style>\n",
       "<table border=\"1\" class=\"dataframe\">\n",
       "  <thead>\n",
       "    <tr style=\"text-align: right;\">\n",
       "      <th></th>\n",
       "      <th>paper_id</th>\n",
       "      <th>authors</th>\n",
       "      <th>updated</th>\n",
       "      <th>published</th>\n",
       "      <th>title</th>\n",
       "      <th>abstract</th>\n",
       "      <th>categories</th>\n",
       "      <th>comment</th>\n",
       "    </tr>\n",
       "  </thead>\n",
       "  <tbody>\n",
       "    <tr>\n",
       "      <th>0</th>\n",
       "      <td>http://arxiv.org/abs/2412.10373v1</td>\n",
       "      <td>Sicheng Zuo,Wenzhao Zheng,Yuanhui Huang,Jie Zh...</td>\n",
       "      <td>2024-12-13 18:59:54</td>\n",
       "      <td>2024-12-13 18:59:54</td>\n",
       "      <td>GaussianWorld: Gaussian World Model for Stream...</td>\n",
       "      <td>3D occupancy prediction is important for aut...</td>\n",
       "      <td>cs.CV,cs.AI,cs.LG</td>\n",
       "      <td>Code is available at: https://github.com/zuosc...</td>\n",
       "    </tr>\n",
       "    <tr>\n",
       "      <th>1</th>\n",
       "      <td>http://arxiv.org/abs/2412.10371v1</td>\n",
       "      <td>Wenzhao Zheng,Junjie Wu,Yao Zheng,Sicheng Zuo,...</td>\n",
       "      <td>2024-12-13 18:59:30</td>\n",
       "      <td>2024-12-13 18:59:30</td>\n",
       "      <td>GaussianAD: Gaussian-Centric End-to-End Autono...</td>\n",
       "      <td>Vision-based autonomous driving shows great ...</td>\n",
       "      <td>cs.CV,cs.AI,cs.LG,cs.RO</td>\n",
       "      <td>Code is available at: https://github.com/wzzhe...</td>\n",
       "    </tr>\n",
       "    <tr>\n",
       "      <th>2</th>\n",
       "      <td>http://arxiv.org/abs/2402.01886v2</td>\n",
       "      <td>Mark Beliaev,Ramtin Pedarsani</td>\n",
       "      <td>2024-12-13 18:59:14</td>\n",
       "      <td>2024-02-02 20:21:09</td>\n",
       "      <td>Inverse Reinforcement Learning by Estimating E...</td>\n",
       "      <td>In Imitation Learning (IL), utilizing subopt...</td>\n",
       "      <td>cs.LG,cs.AI</td>\n",
       "      <td>11 pages, 4 figures, extended version of AAAI ...</td>\n",
       "    </tr>\n",
       "    <tr>\n",
       "      <th>3</th>\n",
       "      <td>http://arxiv.org/abs/2412.10360v1</td>\n",
       "      <td>Orr Zohar,Xiaohan Wang,Yann Dubois,Nikhil Meht...</td>\n",
       "      <td>2024-12-13 18:53:24</td>\n",
       "      <td>2024-12-13 18:53:24</td>\n",
       "      <td>Apollo: An Exploration of Video Understanding ...</td>\n",
       "      <td>Despite the rapid integration of video perce...</td>\n",
       "      <td>cs.CV,cs.AI</td>\n",
       "      <td>https://apollo-lmms.github.io</td>\n",
       "    </tr>\n",
       "    <tr>\n",
       "      <th>4</th>\n",
       "      <td>http://arxiv.org/abs/2412.10354v1</td>\n",
       "      <td>Jean Kossaifi,Nikola Kovachki,Zongyi Li,Davit ...</td>\n",
       "      <td>2024-12-13 18:49:37</td>\n",
       "      <td>2024-12-13 18:49:37</td>\n",
       "      <td>A Library for Learning Neural Operators</td>\n",
       "      <td>We present NeuralOperator, an open-source Py...</td>\n",
       "      <td>cs.LG,cs.AI</td>\n",
       "      <td>Not available</td>\n",
       "    </tr>\n",
       "  </tbody>\n",
       "</table>\n",
       "</div>"
      ],
      "text/plain": [
       "                            paper_id  \\\n",
       "0  http://arxiv.org/abs/2412.10373v1   \n",
       "1  http://arxiv.org/abs/2412.10371v1   \n",
       "2  http://arxiv.org/abs/2402.01886v2   \n",
       "3  http://arxiv.org/abs/2412.10360v1   \n",
       "4  http://arxiv.org/abs/2412.10354v1   \n",
       "\n",
       "                                             authors              updated  \\\n",
       "0  Sicheng Zuo,Wenzhao Zheng,Yuanhui Huang,Jie Zh...  2024-12-13 18:59:54   \n",
       "1  Wenzhao Zheng,Junjie Wu,Yao Zheng,Sicheng Zuo,...  2024-12-13 18:59:30   \n",
       "2                      Mark Beliaev,Ramtin Pedarsani  2024-12-13 18:59:14   \n",
       "3  Orr Zohar,Xiaohan Wang,Yann Dubois,Nikhil Meht...  2024-12-13 18:53:24   \n",
       "4  Jean Kossaifi,Nikola Kovachki,Zongyi Li,Davit ...  2024-12-13 18:49:37   \n",
       "\n",
       "             published                                              title  \\\n",
       "0  2024-12-13 18:59:54  GaussianWorld: Gaussian World Model for Stream...   \n",
       "1  2024-12-13 18:59:30  GaussianAD: Gaussian-Centric End-to-End Autono...   \n",
       "2  2024-02-02 20:21:09  Inverse Reinforcement Learning by Estimating E...   \n",
       "3  2024-12-13 18:53:24  Apollo: An Exploration of Video Understanding ...   \n",
       "4  2024-12-13 18:49:37            A Library for Learning Neural Operators   \n",
       "\n",
       "                                            abstract               categories  \\\n",
       "0    3D occupancy prediction is important for aut...        cs.CV,cs.AI,cs.LG   \n",
       "1    Vision-based autonomous driving shows great ...  cs.CV,cs.AI,cs.LG,cs.RO   \n",
       "2    In Imitation Learning (IL), utilizing subopt...              cs.LG,cs.AI   \n",
       "3    Despite the rapid integration of video perce...              cs.CV,cs.AI   \n",
       "4    We present NeuralOperator, an open-source Py...              cs.LG,cs.AI   \n",
       "\n",
       "                                             comment  \n",
       "0  Code is available at: https://github.com/zuosc...  \n",
       "1  Code is available at: https://github.com/wzzhe...  \n",
       "2  11 pages, 4 figures, extended version of AAAI ...  \n",
       "3                      https://apollo-lmms.github.io  \n",
       "4                                      Not available  "
      ]
     },
     "execution_count": 2,
     "metadata": {},
     "output_type": "execute_result"
    }
   ],
   "source": [
    "file_name = 'arxiv_cs_papers_all.csv'\n",
    "raw_df = pd.read_csv(file_name)\n",
    "raw_df.head()"
   ]
  },
  {
   "cell_type": "markdown",
   "metadata": {
    "id": "SmkdTctvhWLp"
   },
   "source": [
    "### Có bao nhiêu dòng và cột của bộ dữ liệu thô này?\n",
    "\n",
    "**Kiểm tra bộ dữ liệu đã đạt yêu cầu phải có ít nhất 5 cột và 1000 dòng hay chưa, nếu chưa thì ta sẽ cào bộ dữ liệu mới liên quan đến chủ đề này.**"
   ]
  },
  {
   "cell_type": "code",
   "execution_count": 3,
   "metadata": {
    "id": "Zz9OsE-8hWLp"
   },
   "outputs": [],
   "source": [
    "#ta sẽ tính số dòng và số cột của DataFrame 'raw_df' và lưu trữ nó vào biến 'shape'.\n",
    "shape = raw_df.shape"
   ]
  },
  {
   "cell_type": "code",
   "execution_count": 4,
   "metadata": {
    "colab": {
     "base_uri": "https://localhost:8080/"
    },
    "id": "jznwbar4hWLp",
    "outputId": "2f2c0bdf-e028-462f-d1c0-7f2be2422a4f"
   },
   "outputs": [
    {
     "name": "stdout",
     "output_type": "stream",
     "text": [
      "Kích thước dữ liệu hiện tại: (354972, 8)\n",
      "Dữ liệu của chúng ta đạt yêu cầu: đủ số dòng và số cột!\n"
     ]
    }
   ],
   "source": [
    "print(f\"Kích thước dữ liệu hiện tại: {shape}\")\n",
    "\n",
    "if shape[0] >= 1000 and shape[1] >= 5:\n",
    "    print(\"Dữ liệu của chúng ta đạt yêu cầu: đủ số dòng và số cột!\")\n",
    "else:\n",
    "    print(\"Dữ liệu không đủ. Vui lòng chọn một tập dữ liệu khác!\")"
   ]
  },
  {
   "cell_type": "markdown",
   "metadata": {
    "id": "EgkWWZNMhWLq"
   },
   "source": [
    "### Mỗi dòng và cột có ý nghĩa gì?"
   ]
  },
  {
   "cell_type": "markdown",
   "metadata": {
    "id": "e5y-Rt5FhWLq"
   },
   "source": [
    " Mỗi dòng trong tập dữ liệu tương ứng với thông tin về một bài báo khoa học được công bố trên arXiv, bao gồm các cột:\n",
    "\n",
    "- paper_id: Định danh bài báo, thường là một URL hoặc mã duy nhất của bài báo trên arXiv.\n",
    "- authors: Danh sách tác giả của bài báo, mỗi tác giả được ngăn cách bởi dấu phẩy.\n",
    "- updated: Thời gian cập nhật cuối cùng của bài báo, định dạng YYYY-MM-DD HH:MM:SS.\n",
    "- published: Thời gian xuất bản lần đầu của bài báo, định dạng YYYY-MM-DD HH:MM:SS.\n",
    "- title: Tiêu đề bài báo, cung cấp cái nhìn tổng quan về nội dung bài báo.\n",
    "- abstract: Tóm tắt bài báo, cung cấp một đoạn ngắn mô tả nội dung chính.\n",
    "- categories: Các danh mục mà bài báo thuộc về, giúp phân loại lĩnh vực nghiên cứu.\n",
    "- comment: Ghi chú bổ sung hoặc thông tin thêm về bài báo (như là bài báo đã được đăng công khai trước đó ở đâu)."
   ]
  },
  {
   "cell_type": "markdown",
   "metadata": {
    "id": "XLgb6Qa8hWLq"
   },
   "source": [
    "#### Dữ liệu thô có dòng nào bị trùng không?"
   ]
  },
  {
   "cell_type": "code",
   "execution_count": 5,
   "metadata": {
    "id": "JmBiPTmRhWLq"
   },
   "outputs": [],
   "source": [
    "#chúng ta tính toán số dòng bị trùng và lưu trữ nó vào biến 'num_duplicated_rows'.\n",
    "num_duplicated_rows = raw_df[raw_df.duplicated()].shape[0]"
   ]
  },
  {
   "cell_type": "code",
   "execution_count": 6,
   "metadata": {
    "colab": {
     "base_uri": "https://localhost:8080/"
    },
    "id": "dGS7DaOZhWLq",
    "outputId": "98dfb4de-55b2-4ef2-9735-e9387544904b"
   },
   "outputs": [
    {
     "name": "stdout",
     "output_type": "stream",
     "text": [
      "Dữ liệu gốc của bạn không có dòng trùng lặp!\n"
     ]
    }
   ],
   "source": [
    "if num_duplicated_rows == 0:\n",
    "    print(\"Dữ liệu gốc của bạn không có dòng trùng lặp!\")\n",
    "else:\n",
    "    if num_duplicated_rows > 1:\n",
    "        ext = \"lines\"\n",
    "    else:\n",
    "        ext = \"line\"\n",
    "    print(f\"Dữ liệu gốc của bạn có {num_duplicated_rows} {ext} bị trùng lặp. Vui lòng loại bỏ các dòng trùng lặp!\")"
   ]
  },
  {
   "cell_type": "code",
   "execution_count": 7,
   "metadata": {
    "colab": {
     "base_uri": "https://localhost:8080/",
     "height": 840
    },
    "id": "eDJmb2aThWLq",
    "outputId": "3156f78b-3737-4a58-cdd2-bc50aa90c84a"
   },
   "outputs": [
    {
     "data": {
      "text/html": [
       "<div>\n",
       "<style scoped>\n",
       "    .dataframe tbody tr th:only-of-type {\n",
       "        vertical-align: middle;\n",
       "    }\n",
       "\n",
       "    .dataframe tbody tr th {\n",
       "        vertical-align: top;\n",
       "    }\n",
       "\n",
       "    .dataframe thead th {\n",
       "        text-align: right;\n",
       "    }\n",
       "</style>\n",
       "<table border=\"1\" class=\"dataframe\">\n",
       "  <thead>\n",
       "    <tr style=\"text-align: right;\">\n",
       "      <th></th>\n",
       "      <th>paper_id</th>\n",
       "      <th>authors</th>\n",
       "      <th>updated</th>\n",
       "      <th>published</th>\n",
       "      <th>title</th>\n",
       "      <th>abstract</th>\n",
       "      <th>categories</th>\n",
       "      <th>comment</th>\n",
       "    </tr>\n",
       "  </thead>\n",
       "  <tbody>\n",
       "    <tr>\n",
       "      <th>0</th>\n",
       "      <td>http://arxiv.org/abs/2412.10373v1</td>\n",
       "      <td>Sicheng Zuo,Wenzhao Zheng,Yuanhui Huang,Jie Zh...</td>\n",
       "      <td>2024-12-13 18:59:54</td>\n",
       "      <td>2024-12-13 18:59:54</td>\n",
       "      <td>GaussianWorld: Gaussian World Model for Stream...</td>\n",
       "      <td>3D occupancy prediction is important for aut...</td>\n",
       "      <td>cs.CV,cs.AI,cs.LG</td>\n",
       "      <td>Code is available at: https://github.com/zuosc...</td>\n",
       "    </tr>\n",
       "    <tr>\n",
       "      <th>1</th>\n",
       "      <td>http://arxiv.org/abs/2412.10371v1</td>\n",
       "      <td>Wenzhao Zheng,Junjie Wu,Yao Zheng,Sicheng Zuo,...</td>\n",
       "      <td>2024-12-13 18:59:30</td>\n",
       "      <td>2024-12-13 18:59:30</td>\n",
       "      <td>GaussianAD: Gaussian-Centric End-to-End Autono...</td>\n",
       "      <td>Vision-based autonomous driving shows great ...</td>\n",
       "      <td>cs.CV,cs.AI,cs.LG,cs.RO</td>\n",
       "      <td>Code is available at: https://github.com/wzzhe...</td>\n",
       "    </tr>\n",
       "    <tr>\n",
       "      <th>2</th>\n",
       "      <td>http://arxiv.org/abs/2402.01886v2</td>\n",
       "      <td>Mark Beliaev,Ramtin Pedarsani</td>\n",
       "      <td>2024-12-13 18:59:14</td>\n",
       "      <td>2024-02-02 20:21:09</td>\n",
       "      <td>Inverse Reinforcement Learning by Estimating E...</td>\n",
       "      <td>In Imitation Learning (IL), utilizing subopt...</td>\n",
       "      <td>cs.LG,cs.AI</td>\n",
       "      <td>11 pages, 4 figures, extended version of AAAI ...</td>\n",
       "    </tr>\n",
       "    <tr>\n",
       "      <th>3</th>\n",
       "      <td>http://arxiv.org/abs/2412.10360v1</td>\n",
       "      <td>Orr Zohar,Xiaohan Wang,Yann Dubois,Nikhil Meht...</td>\n",
       "      <td>2024-12-13 18:53:24</td>\n",
       "      <td>2024-12-13 18:53:24</td>\n",
       "      <td>Apollo: An Exploration of Video Understanding ...</td>\n",
       "      <td>Despite the rapid integration of video perce...</td>\n",
       "      <td>cs.CV,cs.AI</td>\n",
       "      <td>https://apollo-lmms.github.io</td>\n",
       "    </tr>\n",
       "    <tr>\n",
       "      <th>4</th>\n",
       "      <td>http://arxiv.org/abs/2412.10354v1</td>\n",
       "      <td>Jean Kossaifi,Nikola Kovachki,Zongyi Li,Davit ...</td>\n",
       "      <td>2024-12-13 18:49:37</td>\n",
       "      <td>2024-12-13 18:49:37</td>\n",
       "      <td>A Library for Learning Neural Operators</td>\n",
       "      <td>We present NeuralOperator, an open-source Py...</td>\n",
       "      <td>cs.LG,cs.AI</td>\n",
       "      <td>Not available</td>\n",
       "    </tr>\n",
       "    <tr>\n",
       "      <th>...</th>\n",
       "      <td>...</td>\n",
       "      <td>...</td>\n",
       "      <td>...</td>\n",
       "      <td>...</td>\n",
       "      <td>...</td>\n",
       "      <td>...</td>\n",
       "      <td>...</td>\n",
       "      <td>...</td>\n",
       "    </tr>\n",
       "    <tr>\n",
       "      <th>354967</th>\n",
       "      <td>http://arxiv.org/abs/2405.16585v1</td>\n",
       "      <td>Yuhang Chen,Wenke Huang,Mang Ye</td>\n",
       "      <td>2024-05-26 14:29:10</td>\n",
       "      <td>2024-05-26 14:29:10</td>\n",
       "      <td>Fair Federated Learning under Domain Skew with...</td>\n",
       "      <td>Federated learning (FL) has emerged as a new...</td>\n",
       "      <td>cs.LG,cs.AI</td>\n",
       "      <td>Accepted by CVPR2024</td>\n",
       "    </tr>\n",
       "    <tr>\n",
       "      <th>354968</th>\n",
       "      <td>http://arxiv.org/abs/2404.14786v2</td>\n",
       "      <td>Peiwen Li,Xin Wang,Zeyang Zhang,Yuan Meng,Fang...</td>\n",
       "      <td>2024-05-26 13:08:00</td>\n",
       "      <td>2024-04-23 06:52:40</td>\n",
       "      <td>RealTCD: Temporal Causal Discovery from Interv...</td>\n",
       "      <td>In the field of Artificial Intelligence for ...</td>\n",
       "      <td>cs.AI,cs.LG,stat.ME</td>\n",
       "      <td>Not available</td>\n",
       "    </tr>\n",
       "    <tr>\n",
       "      <th>354969</th>\n",
       "      <td>http://arxiv.org/abs/2405.16557v1</td>\n",
       "      <td>Chun-Kai Huang,Yi-Hsien Hsieh,Ta-Jung Chien,Li...</td>\n",
       "      <td>2024-05-26 13:06:45</td>\n",
       "      <td>2024-05-26 13:06:45</td>\n",
       "      <td>Scalable Numerical Embeddings for Multivariate...</td>\n",
       "      <td>Multivariate time series (MTS) data, when sa...</td>\n",
       "      <td>cs.LG,cs.AI</td>\n",
       "      <td>Not available</td>\n",
       "    </tr>\n",
       "    <tr>\n",
       "      <th>354970</th>\n",
       "      <td>http://arxiv.org/abs/2304.05749v2</td>\n",
       "      <td>Yuxing Tian,Mingjie Zhu,Jiachi Luo,Song Li</td>\n",
       "      <td>2024-05-26 10:47:29</td>\n",
       "      <td>2023-04-12 10:05:07</td>\n",
       "      <td>Boosting long-term forecasting performance for...</td>\n",
       "      <td>This study focuses on long-term forecasting ...</td>\n",
       "      <td>cs.LG,cs.AI</td>\n",
       "      <td>Recent evidence has emerged that directly cont...</td>\n",
       "    </tr>\n",
       "    <tr>\n",
       "      <th>354971</th>\n",
       "      <td>http://arxiv.org/abs/2405.16511v1</td>\n",
       "      <td>Hongfei Wu,Lijun Wu,Guoqing Liu,Zhirong Liu,Bi...</td>\n",
       "      <td>2024-05-26 10:43:16</td>\n",
       "      <td>2024-05-26 10:43:16</td>\n",
       "      <td>SE3Set: Harnessing equivariant hypergraph neur...</td>\n",
       "      <td>In this paper, we develop SE3Set, an SE(3) e...</td>\n",
       "      <td>cs.LG,cs.AI,physics.comp-ph</td>\n",
       "      <td>Not available</td>\n",
       "    </tr>\n",
       "  </tbody>\n",
       "</table>\n",
       "<p>354972 rows × 8 columns</p>\n",
       "</div>"
      ],
      "text/plain": [
       "                                 paper_id  \\\n",
       "0       http://arxiv.org/abs/2412.10373v1   \n",
       "1       http://arxiv.org/abs/2412.10371v1   \n",
       "2       http://arxiv.org/abs/2402.01886v2   \n",
       "3       http://arxiv.org/abs/2412.10360v1   \n",
       "4       http://arxiv.org/abs/2412.10354v1   \n",
       "...                                   ...   \n",
       "354967  http://arxiv.org/abs/2405.16585v1   \n",
       "354968  http://arxiv.org/abs/2404.14786v2   \n",
       "354969  http://arxiv.org/abs/2405.16557v1   \n",
       "354970  http://arxiv.org/abs/2304.05749v2   \n",
       "354971  http://arxiv.org/abs/2405.16511v1   \n",
       "\n",
       "                                                  authors  \\\n",
       "0       Sicheng Zuo,Wenzhao Zheng,Yuanhui Huang,Jie Zh...   \n",
       "1       Wenzhao Zheng,Junjie Wu,Yao Zheng,Sicheng Zuo,...   \n",
       "2                           Mark Beliaev,Ramtin Pedarsani   \n",
       "3       Orr Zohar,Xiaohan Wang,Yann Dubois,Nikhil Meht...   \n",
       "4       Jean Kossaifi,Nikola Kovachki,Zongyi Li,Davit ...   \n",
       "...                                                   ...   \n",
       "354967                    Yuhang Chen,Wenke Huang,Mang Ye   \n",
       "354968  Peiwen Li,Xin Wang,Zeyang Zhang,Yuan Meng,Fang...   \n",
       "354969  Chun-Kai Huang,Yi-Hsien Hsieh,Ta-Jung Chien,Li...   \n",
       "354970         Yuxing Tian,Mingjie Zhu,Jiachi Luo,Song Li   \n",
       "354971  Hongfei Wu,Lijun Wu,Guoqing Liu,Zhirong Liu,Bi...   \n",
       "\n",
       "                    updated            published  \\\n",
       "0       2024-12-13 18:59:54  2024-12-13 18:59:54   \n",
       "1       2024-12-13 18:59:30  2024-12-13 18:59:30   \n",
       "2       2024-12-13 18:59:14  2024-02-02 20:21:09   \n",
       "3       2024-12-13 18:53:24  2024-12-13 18:53:24   \n",
       "4       2024-12-13 18:49:37  2024-12-13 18:49:37   \n",
       "...                     ...                  ...   \n",
       "354967  2024-05-26 14:29:10  2024-05-26 14:29:10   \n",
       "354968  2024-05-26 13:08:00  2024-04-23 06:52:40   \n",
       "354969  2024-05-26 13:06:45  2024-05-26 13:06:45   \n",
       "354970  2024-05-26 10:47:29  2023-04-12 10:05:07   \n",
       "354971  2024-05-26 10:43:16  2024-05-26 10:43:16   \n",
       "\n",
       "                                                    title  \\\n",
       "0       GaussianWorld: Gaussian World Model for Stream...   \n",
       "1       GaussianAD: Gaussian-Centric End-to-End Autono...   \n",
       "2       Inverse Reinforcement Learning by Estimating E...   \n",
       "3       Apollo: An Exploration of Video Understanding ...   \n",
       "4                 A Library for Learning Neural Operators   \n",
       "...                                                   ...   \n",
       "354967  Fair Federated Learning under Domain Skew with...   \n",
       "354968  RealTCD: Temporal Causal Discovery from Interv...   \n",
       "354969  Scalable Numerical Embeddings for Multivariate...   \n",
       "354970  Boosting long-term forecasting performance for...   \n",
       "354971  SE3Set: Harnessing equivariant hypergraph neur...   \n",
       "\n",
       "                                                 abstract  \\\n",
       "0         3D occupancy prediction is important for aut...   \n",
       "1         Vision-based autonomous driving shows great ...   \n",
       "2         In Imitation Learning (IL), utilizing subopt...   \n",
       "3         Despite the rapid integration of video perce...   \n",
       "4         We present NeuralOperator, an open-source Py...   \n",
       "...                                                   ...   \n",
       "354967    Federated learning (FL) has emerged as a new...   \n",
       "354968    In the field of Artificial Intelligence for ...   \n",
       "354969    Multivariate time series (MTS) data, when sa...   \n",
       "354970    This study focuses on long-term forecasting ...   \n",
       "354971    In this paper, we develop SE3Set, an SE(3) e...   \n",
       "\n",
       "                         categories  \\\n",
       "0                 cs.CV,cs.AI,cs.LG   \n",
       "1           cs.CV,cs.AI,cs.LG,cs.RO   \n",
       "2                       cs.LG,cs.AI   \n",
       "3                       cs.CV,cs.AI   \n",
       "4                       cs.LG,cs.AI   \n",
       "...                             ...   \n",
       "354967                  cs.LG,cs.AI   \n",
       "354968          cs.AI,cs.LG,stat.ME   \n",
       "354969                  cs.LG,cs.AI   \n",
       "354970                  cs.LG,cs.AI   \n",
       "354971  cs.LG,cs.AI,physics.comp-ph   \n",
       "\n",
       "                                                  comment  \n",
       "0       Code is available at: https://github.com/zuosc...  \n",
       "1       Code is available at: https://github.com/wzzhe...  \n",
       "2       11 pages, 4 figures, extended version of AAAI ...  \n",
       "3                           https://apollo-lmms.github.io  \n",
       "4                                           Not available  \n",
       "...                                                   ...  \n",
       "354967                               Accepted by CVPR2024  \n",
       "354968                                      Not available  \n",
       "354969                                      Not available  \n",
       "354970  Recent evidence has emerged that directly cont...  \n",
       "354971                                      Not available  \n",
       "\n",
       "[354972 rows x 8 columns]"
      ]
     },
     "execution_count": 7,
     "metadata": {},
     "output_type": "execute_result"
    }
   ],
   "source": [
    "raw_df"
   ]
  },
  {
   "cell_type": "markdown",
   "metadata": {
    "id": "oNOW0g5mhWLq"
   },
   "source": [
    "#### Kiểm tra số lượng dòng thiếu dữ liệu trong toàn bộ DataFrame"
   ]
  },
  {
   "cell_type": "code",
   "execution_count": 8,
   "metadata": {
    "colab": {
     "base_uri": "https://localhost:8080/"
    },
    "id": "mPiRsv1xhWLq",
    "outputId": "c1b3d03b-3c29-497e-b8c9-69afb2701ff7"
   },
   "outputs": [
    {
     "name": "stdout",
     "output_type": "stream",
     "text": [
      "Có 34 dòng bị thiếu dữ liệu ở ít nhất một cột. Vui lòng xử lý!\n"
     ]
    }
   ],
   "source": [
    "missing_rows = raw_df.isnull().any(axis=1).sum()\n",
    "\n",
    "if missing_rows > 0:\n",
    "    print(f\"Có {missing_rows} dòng bị thiếu dữ liệu ở ít nhất một cột. Vui lòng xử lý!\")\n",
    "else:\n",
    "    print(\"Dữ liệu hoàn chỉnh, không có dòng nào bị thiếu dữ liệu.\")"
   ]
  },
  {
   "cell_type": "markdown",
   "metadata": {
    "id": "ahkx5YNlhWLr"
   },
   "source": [
    "#### In ra dòng bị thiếu dữ liệu"
   ]
  },
  {
   "cell_type": "code",
   "execution_count": 9,
   "metadata": {
    "colab": {
     "base_uri": "https://localhost:8080/"
    },
    "id": "f8QNdPCfhWLr",
    "outputId": "0b4f7565-a656-47e2-f6d0-6b6bd46f0dc7"
   },
   "outputs": [
    {
     "name": "stdout",
     "output_type": "stream",
     "text": [
      "                                 paper_id  \\\n",
      "13661   http://arxiv.org/abs/2409.02702v2   \n",
      "17293   http://arxiv.org/abs/2407.21233v1   \n",
      "35222   http://arxiv.org/abs/2402.01733v1   \n",
      "40374   http://arxiv.org/abs/2408.16885v1   \n",
      "43590   http://arxiv.org/abs/2402.19107v1   \n",
      "43894   http://arxiv.org/abs/2402.06516v1   \n",
      "50502   http://arxiv.org/abs/2210.12964v1   \n",
      "53966   http://arxiv.org/abs/2201.03052v1   \n",
      "66621   http://arxiv.org/abs/2411.00826v1   \n",
      "70366   http://arxiv.org/abs/2409.08170v1   \n",
      "73754   http://arxiv.org/abs/2407.16424v1   \n",
      "85417   http://arxiv.org/abs/2112.08910v3   \n",
      "89831   http://arxiv.org/abs/2006.01381v1   \n",
      "156214  http://arxiv.org/abs/2308.15509v1   \n",
      "160119  http://arxiv.org/abs/2202.02915v1   \n",
      "160753  http://arxiv.org/abs/2109.12442v1   \n",
      "170229  http://arxiv.org/abs/2307.07321v2   \n",
      "171425  http://arxiv.org/abs/2304.08597v1   \n",
      "173680  http://arxiv.org/abs/2201.12544v1   \n",
      "188249  http://arxiv.org/abs/2309.08441v1   \n",
      "201563  http://arxiv.org/abs/1907.06086v2   \n",
      "228873  http://arxiv.org/abs/2407.16091v1   \n",
      "250422  http://arxiv.org/abs/2312.01150v4   \n",
      "255124  http://arxiv.org/abs/1803.11410v3   \n",
      "262119  http://arxiv.org/abs/2010.13852v1   \n",
      "275410  http://arxiv.org/abs/2406.00009v1   \n",
      "281656  http://arxiv.org/abs/2306.09462v1   \n",
      "298046  http://arxiv.org/abs/2109.11896v2   \n",
      "299506  http://arxiv.org/abs/2102.06364v1   \n",
      "321004  http://arxiv.org/abs/2407.11408v2   \n",
      "327577  http://arxiv.org/abs/2303.15530v1   \n",
      "335238  http://arxiv.org/abs/2101.07649v1   \n",
      "343244  http://arxiv.org/abs/2412.10861v1   \n",
      "353313  http://arxiv.org/abs/2407.07030v1   \n",
      "\n",
      "                                                  authors  \\\n",
      "13661   Chunyan An,Yunhan Li,Qiang Yang,Winston K. G. ...   \n",
      "17293   Aaron Ge,Monjoy Saha,Maire A. Duggan,Petra Len...   \n",
      "35222   YuHe Ke,Liyuan Jin,Kabilan Elangovan,Hairil Ri...   \n",
      "40374   Ashok Kumar Peepliwall,Hari Mohan Pandey,Surya...   \n",
      "43590                        Mohammad Khalid Imam Rahmani   \n",
      "43894   Wenjun Fan,Zhihui Du,Max Smith-Creasey,David F...   \n",
      "50502   Oshan Jayawardana,Fariza Rashid,Suranga Senevi...   \n",
      "53966                Richard Apaua,Harjinder Singh Lallie   \n",
      "66621   an Zhang,Ming Li,Chun Li,Zhaoxia Liu,Ye Zhang,...   \n",
      "70366   Santanu Roy,Archit Gupta,Shubhi Tiwari,Palak Sahu   \n",
      "73754   Kai Liu,Zhihang Fu,Sheng Jin,Ze Chen,Fan Zhou,...   \n",
      "85417                      Prasanna Parasurama,João Sedoc   \n",
      "89831                      Shalinda Adikari,Kaushik Dutta   \n",
      "156214  Malik Muhammad Qirtas,Evi Zafeiridi,Eleanor Ba...   \n",
      "160119       Ronel B. Dayanghirang,Alexander A. Hernandez   \n",
      "160753                              Ishan Amarkumar Joshi   \n",
      "170229                Xiangqi Wang,Dilinuer Aishan,Qi Liu   \n",
      "171425            Haoxiang Zhang,Juliana Freire,Yash Garg   \n",
      "173680          Dexter I. Mercurio,Alexander A. Hernandez   \n",
      "188249   José~David~Vega-Sánchez,Arianna Estefanía Lóp...   \n",
      "201563                            Shikha Patel,Om Prakash   \n",
      "228873                     Niloofar Fadavi,Nazanin Fadavi   \n",
      "250422  Muyao Zhong,Shengcai Liu,Bingdong Li,Haobo Fu,...   \n",
      "255124    Amnon Drory,Oria Ratzon,Shai Avidan,Raja Giryes   \n",
      "262119  Zainab Al-Othman,Mouhammd Alkasassbeh,Sherenaz...   \n",
      "275410  Hang Zhou,Ke Ma,Shixiao Liang,Xiaopeng Li,Xiao...   \n",
      "281656  Mohammed Aledhari,Mohamed Rahouti,Junaid Qadir...   \n",
      "298046  Mahdi Fahmideh,John Grundy,Ghassan Beydoun,Did...   \n",
      "299506            Suresh Kumar,Qaisar Imtiaz,Sarmad Mahar   \n",
      "321004       Gewei Zuo,Lijun Zhu,Yujuan Wang,Zhiyong Chen   \n",
      "327577  Hamzeh Davarikia,Faycal Znidi,Masoud Barati,He...   \n",
      "335238                      Martin Corless,Robert Shorten   \n",
      "343244  Qingyu Xu,Longguang Wang,Weidong Sheng,Yingqia...   \n",
      "353313  Muhammad Awais Amin,Jawad-Ur-Rehman Chughtai,W...   \n",
      "\n",
      "                    updated            published  \\\n",
      "13661   2024-09-07 00:40:09  2024-09-04 13:39:12   \n",
      "17293   2024-07-30 22:40:32  2024-07-30 22:40:32   \n",
      "35222   2024-01-29 06:49:53  2024-01-29 06:49:53   \n",
      "40374   2024-08-29 20:18:00  2024-08-29 20:18:00   \n",
      "43590   2024-02-29 12:38:57  2024-02-29 12:38:57   \n",
      "43894   2024-02-09 16:27:45  2024-02-09 16:27:45   \n",
      "50502   2022-10-24 05:56:32  2022-10-24 05:56:32   \n",
      "53966   2022-01-09 16:45:30  2022-01-09 16:45:30   \n",
      "66621   2024-10-29 04:29:44  2024-10-29 04:29:44   \n",
      "70366   2024-09-12 16:00:51  2024-09-12 16:00:51   \n",
      "73754   2024-07-23 12:21:23  2024-07-23 12:21:23   \n",
      "85417   2022-07-12 23:52:47  2021-12-16 14:26:36   \n",
      "89831   2020-06-02 04:15:20  2020-06-02 04:15:20   \n",
      "156214  2023-08-29 14:20:18  2023-08-29 14:20:18   \n",
      "160119  2022-02-07 03:03:51  2022-02-07 03:03:51   \n",
      "160753  2021-09-25 21:39:11  2021-09-25 21:39:11   \n",
      "170229  2023-10-01 13:12:29  2023-07-13 13:17:19   \n",
      "171425  2023-04-17 20:22:30  2023-04-17 20:22:30   \n",
      "173680  2022-01-29 10:05:58  2022-01-29 10:05:58   \n",
      "188249  2023-09-15 14:40:52  2023-09-15 14:40:52   \n",
      "201563  2019-09-17 14:01:27  2019-07-13 14:42:46   \n",
      "228873  2024-07-22 23:24:02  2024-07-22 23:24:02   \n",
      "250422  2024-03-11 09:26:03  2023-12-02 14:38:58   \n",
      "255124  2020-12-03 09:18:17  2018-03-30 11:06:43   \n",
      "262119  2020-10-02 12:48:54  2020-10-02 12:48:54   \n",
      "275410  2024-05-16 21:03:31  2024-05-16 21:03:31   \n",
      "281656  2023-06-15 19:32:04  2023-06-15 19:32:04   \n",
      "298046  2021-12-14 05:40:01  2021-09-24 11:36:55   \n",
      "299506  2021-02-12 06:48:23  2021-02-12 06:48:23   \n",
      "321004  2024-09-28 07:18:20  2024-07-16 05:52:08   \n",
      "327577  2023-03-27 18:12:07  2023-03-27 18:12:07   \n",
      "335238  2021-01-18 09:20:59  2021-01-18 09:20:59   \n",
      "343244  2024-12-14 15:17:49  2024-12-14 15:17:49   \n",
      "353313  2024-07-09 16:50:15  2024-07-09 16:50:15   \n",
      "\n",
      "                                                    title  \\\n",
      "13661   Incorporating Like-Minded Peers to Overcome Fr...   \n",
      "17293   TMA-Grid: An open-source, zero-footprint web a...   \n",
      "35222   Development and Testing of Retrieval Augmented...   \n",
      "40374   A Prototype Model of Zero-Trust Architecture B...   \n",
      "43590   Rahmani Sort: A Novel Variant of Insertion Sor...   \n",
      "43894   HoneyDOC: An Efficient Honeypot Architecture E...   \n",
      "50502   Non-Contrastive Learning-based Behavioural Bio...   \n",
      "53966   Measuring User Perceived Security of Mobile Ba...   \n",
      "66621   Uncertainty Quantification via Hölder Divergen...   \n",
      "70366   AD-Lite Net: A Lightweight and Concatenated CN...   \n",
      "73754   ESOD: Efficient Small Object Detection on High...   \n",
      "85417   Degendering Resumes for Fair Algorithmic Resum...   \n",
      "89831               Identifying Fake Profiles in LinkedIn   \n",
      "156214  The Relationship between Loneliness and Depres...   \n",
      "160119  Mobile Based Gradebook with Student Outcomes A...   \n",
      "160753  Unblind the charts: Towards Making Interactive...   \n",
      "170229  NS4AR: A new, focused on sampling areas sampli...   \n",
      "171425  eTOP: Early Termination of Pipelines for Faste...   \n",
      "173680     An Open Data and Geo-based Information Systems   \n",
      "188249  Novel Expressions for the Outage Probability a...   \n",
      "201563  Skew Generalized Cyclic Code over $\\n  R[x_1;σ...   \n",
      "228873  Early Recognition of Parkinson's Disease Throu...   \n",
      "250422  Pointer Networks Trained Better via Evolutiona...   \n",
      "255124  The Resistance to Label Noise in K-NN and DNN ...   \n",
      "262119  A State-of-the-Art Review on IoT botnet Attack...   \n",
      "275410  ULTra-AV: A Unified Longitudinal Trajectory Da...   \n",
      "281656  Motion Comfort Optimization for Autonomous Veh...   \n",
      "298046  A Model-Driven Approach to Reengineering Proce...   \n",
      "299506  Software Estimations Risk in Pakistan Software...   \n",
      "321004  Prescribed-time Cooperative Output Regulation ...   \n",
      "327577  A New Index based on Power Splitting Indices f...   \n",
      "335238  A Note on Order and Index Reduction for Descri...   \n",
      "343244  Heterogeneous Graph Transformer for Multiple T...   \n",
      "353313  Trajectory Data Mining and Trip Travel Time Pr...   \n",
      "\n",
      "                                                 abstract  \\\n",
      "13661     Session-based Social Recommendation (SSR) le...   \n",
      "17293     Background:\\n  Tissue Microarrays (TMAs) sig...   \n",
      "35222     Purpose: Large Language Models (LLMs) hold s...   \n",
      "40374     The COVID-19 pandemic necessitated the emerg...   \n",
      "43590     Various decision support systems are availab...   \n",
      "43894     Honeypots are designed to trap the attacker ...   \n",
      "50502     Behaviour biometrics are being explored as a...   \n",
      "53966     Mobile banking applications have gained popu...   \n",
      "66621     Evidence-based deep learning represents a bu...   \n",
      "70366     Alzheimer's Disease (AD) is a non-curable pr...   \n",
      "73754     Enlarging input images is a straightforward ...   \n",
      "85417     We investigate whether it is feasible to rem...   \n",
      "89831     As organizations increasingly rely on profes...   \n",
      "156214    Loneliness and depression are interrelated m...   \n",
      "160119    Mobile applications and other integration of...   \n",
      "160753    Smartphones are a crucial aspect of routine ...   \n",
      "170229    The effectiveness of graphical recommender s...   \n",
      "171425    Recent advancements in software and hardware...   \n",
      "173680    Barangay is the smallest type of government ...   \n",
      "188249    The flexibility and reconfigurability at the...   \n",
      "201563    This article studies two dimensional skew ge...   \n",
      "228873    Parkinson's Disease (PD) is a progressive ne...   \n",
      "250422    Pointer Network (PtrNet) is a specific neura...   \n",
      "255124    We investigate the classification performanc...   \n",
      "262119    The Internet as we know it Today, comprises ...   \n",
      "275410    Automated Vehicles (AVs) promise significant...   \n",
      "281656    This article outlines the architecture of au...   \n",
      "298046    The reengineering process of large data-inte...   \n",
      "299506    Software and IT industry in Pakistan have se...   \n",
      "321004    A finite-time protocol for a multi-agent sys...   \n",
      "327577    In the event of large disturbances, the prac...   \n",
      "335238    We present order reduction results for linea...   \n",
      "343244    Tracking multiple tiny objects is highly cha...   \n",
      "353313    Predicting a trip's travel time is essential...   \n",
      "\n",
      "                                      categories comment  \n",
      "13661                                cs.SI,cs.AI     NaN  \n",
      "17293                       q-bio.TO,cs.AI,cs.CV     NaN  \n",
      "35222                                cs.CL,cs.AI     NaN  \n",
      "40374                          cs.CR,cs.ET,cs.IR     NaN  \n",
      "43590          cs.CR,cs.DS,14J26 (Secondary),E.1     NaN  \n",
      "43894                   cs.CR,cs.NI,C.2.0; C.2.1     NaN  \n",
      "50502                          cs.CR,cs.AI,cs.LG     NaN  \n",
      "53966                          cs.HC,cs.CR,cs.CY     NaN  \n",
      "66621                          cs.CV,cs.AI,cs.LG     NaN  \n",
      "70366                              eess.IV,cs.CV     NaN  \n",
      "73754                                      cs.CV     NaN  \n",
      "85417                                cs.CL,cs.CY     NaN  \n",
      "89831                          cs.SI,cs.CY,cs.LG     NaN  \n",
      "156214                                     cs.HC     NaN  \n",
      "160119                                     cs.HC     NaN  \n",
      "160753                               cs.HC,cs.SE     NaN  \n",
      "170229             cs.IR,ACM-class: F.2.2, I.2.7     NaN  \n",
      "171425                               cs.LG,cs.IR     NaN  \n",
      "173680                                     cs.IR     NaN  \n",
      "188249                     cs.IT,eess.SP,math.IT     NaN  \n",
      "201563  cs.IT,math.IT,12Y05, 16Z05, 94B05, 94B35     NaN  \n",
      "228873              math.NA,cs.LG,cs.NA,q-bio.NC     NaN  \n",
      "250422                               cs.NE,68T07     NaN  \n",
      "255124                 cs.LG,cs.CV,cs.NE,stat.ML     NaN  \n",
      "262119                                     cs.NI     NaN  \n",
      "275410                                     cs.RO     NaN  \n",
      "281656                   cs.RO,cs.AI,cs.CV,cs.LG     NaN  \n",
      "298046                                     cs.SE     NaN  \n",
      "299506                                     cs.SE     NaN  \n",
      "321004                             eess.SY,cs.SY     NaN  \n",
      "327577                             eess.SY,cs.SY     NaN  \n",
      "335238                             eess.SY,cs.SY     NaN  \n",
      "343244                               cs.CV,cs.AI     NaN  \n",
      "353313                                     cs.AI     NaN  \n"
     ]
    }
   ],
   "source": [
    "missing_data = raw_df[raw_df.isnull().any(axis=1)]\n",
    "print(missing_data)"
   ]
  },
  {
   "cell_type": "markdown",
   "metadata": {
    "id": "AAYI0cRThWLr"
   },
   "source": [
    "Ở đây ta có thể thấy cột comment của 34 dòng này không có thông tin và đang là NaN, có thể xử lý bằng cách xóa 13 dòng này hoặc điền và 13 dòng này ở cột commet là 'không có thông tin'"
   ]
  },
  {
   "cell_type": "code",
   "execution_count": 10,
   "metadata": {
    "id": "ugWlzneuhWLr"
   },
   "outputs": [],
   "source": [
    "# điền vào commet của 34 cột\n",
    "raw_df['comment'] = raw_df['comment'].fillna('Not available')"
   ]
  },
  {
   "cell_type": "markdown",
   "metadata": {
    "id": "aWHHUeJ3hWLr"
   },
   "source": [
    "Kiểm tra xem còn thiếu dữ liệu hay không?"
   ]
  },
  {
   "cell_type": "code",
   "execution_count": 11,
   "metadata": {
    "colab": {
     "base_uri": "https://localhost:8080/"
    },
    "id": "OnGcQU9MhWLr",
    "outputId": "93df4f47-de54-46a6-e62a-d7f6a675696f"
   },
   "outputs": [
    {
     "name": "stdout",
     "output_type": "stream",
     "text": [
      "Dữ liệu hoàn chỉnh, không có dòng nào bị thiếu dữ liệu.\n"
     ]
    }
   ],
   "source": [
    "missing_rows = raw_df.isnull().any(axis=1).sum()\n",
    "\n",
    "if missing_rows > 0:\n",
    "    print(f\"Có {missing_rows} dòng bị thiếu dữ liệu ở ít nhất một cột. Vui lòng xử lý!\")\n",
    "else:\n",
    "    print(\"Dữ liệu hoàn chỉnh, không có dòng nào bị thiếu dữ liệu.\")"
   ]
  },
  {
   "cell_type": "markdown",
   "metadata": {
    "id": "KUXpDcE0hWLr"
   },
   "source": [
    "#### Kiểu dữ liệu của mỗi cột hiện tại là gì? Có bao nhiêu cột có kiểu dữ liệu không phù hợp cho việc phân tích sau này?"
   ]
  },
  {
   "cell_type": "code",
   "execution_count": 12,
   "metadata": {
    "id": "np7zXBAIhWLr"
   },
   "outputs": [],
   "source": [
    "# chúng ta sẽ xem xét kiểu dữ liệu (dtype) của mỗi cột trong DataFrame 'raw_df'\n",
    "# và lưu kết quả vào Series 'dtypes' (Series này có index là tên cột trong DataFrame).\n",
    "dtypes = raw_df.dtypes"
   ]
  },
  {
   "cell_type": "code",
   "execution_count": 13,
   "metadata": {
    "colab": {
     "base_uri": "https://localhost:8080/",
     "height": 335
    },
    "id": "63fjpvhQhWLr",
    "outputId": "3e88a820-038b-4f02-f29d-375f723a5675"
   },
   "outputs": [
    {
     "data": {
      "text/plain": [
       "paper_id      object\n",
       "authors       object\n",
       "updated       object\n",
       "published     object\n",
       "title         object\n",
       "abstract      object\n",
       "categories    object\n",
       "comment       object\n",
       "dtype: object"
      ]
     },
     "execution_count": 13,
     "metadata": {},
     "output_type": "execute_result"
    }
   ],
   "source": [
    "dtypes"
   ]
  },
  {
   "cell_type": "markdown",
   "metadata": {
    "id": "1C-3KKUChWLs"
   },
   "source": [
    "Hiện tại, chúng ta thấy rằng cột update và published đang ở dạng chuỗi (object). Đây là cột thể hiện ngày tháng, nên chuyển sang kiểu dữ liệu datetime sẽ giúp:\n",
    "\n",
    "Dễ dàng thực hiện các phép tính liên quan đến thời gian (ví dụ: so sánh ngày, tính khoảng cách giữa các ngày).\n",
    "Hỗ trợ trực quan hóa dữ liệu dạng chuỗi thời gian (time-series).\n",
    "\n",
    "Các cột còn lại vẫn giữ nguyên object."
   ]
  },
  {
   "cell_type": "code",
   "execution_count": 14,
   "metadata": {
    "id": "GlPs8k9NhWLs"
   },
   "outputs": [],
   "source": [
    "raw_df['updated'] = pd.to_datetime(raw_df['updated'])\n",
    "raw_df['published'] = pd.to_datetime(raw_df['published'])"
   ]
  },
  {
   "cell_type": "code",
   "execution_count": 15,
   "metadata": {
    "colab": {
     "base_uri": "https://localhost:8080/",
     "height": 335
    },
    "id": "mHdkBmFUhWLs",
    "outputId": "c8a4d124-56df-4a0d-d3ae-47c77b59df7a",
    "scrolled": true
   },
   "outputs": [
    {
     "data": {
      "text/plain": [
       "paper_id              object\n",
       "authors               object\n",
       "updated       datetime64[ns]\n",
       "published     datetime64[ns]\n",
       "title                 object\n",
       "abstract              object\n",
       "categories            object\n",
       "comment               object\n",
       "dtype: object"
      ]
     },
     "execution_count": 15,
     "metadata": {},
     "output_type": "execute_result"
    }
   ],
   "source": [
    "dtypes = raw_df.dtypes\n",
    "dtypes"
   ]
  },
  {
   "cell_type": "markdown",
   "metadata": {
    "id": "ZYQgtUHfhWLs"
   },
   "source": [
    "### Đối với mỗi cột có kiểu dữ liệu datetime64[ns], những giá trị trong các cột đó phân bố như thế nào?"
   ]
  },
  {
   "cell_type": "code",
   "execution_count": 16,
   "metadata": {
    "colab": {
     "base_uri": "https://localhost:8080/"
    },
    "id": "NufeD2emhWLs",
    "outputId": "4687721e-6ea7-40e8-8513-7a07d4a84ec1"
   },
   "outputs": [
    {
     "name": "stdout",
     "output_type": "stream",
     "text": [
      "Count_u: 354972, Count_p: 354972\n",
      "Unique_u: 354482, unique_p: 354230 \n",
      "Top_u: 2012-06-27 19:59:59, Top_p: 2012-06-27 19:59:59\n",
      "Freq_u: 12, Freq_p: 12\n",
      "Min_u: 1994-11-15 00:00:00, Min_p: 1994-11-15 00:00:00\n",
      "Max_u: 2024-12-16 18:59:53, Max_p: 2024-12-16 18:59:53\n",
      "Mean_u: 2021-04-16 09:24:30.443265536, Mean_p: 2021-01-13 17:01:16.984601344\n",
      "Std_u: 1469 days 01:52:21.593811040, Std_p:1482 days 08:31:11.993179952\n",
      "25%_u: 2019-11-07 09:49:58.500000, 25%_p: 2019-07-02 14:16:23.249999872\n",
      "50%_u: 2022-07-21 16:14:07.500000, 50%_p: 2022-04-03 02:33:53\n",
      "75%_u: 2024-05-14 17:49:51.249999872, 75%_p: 2024-02-19 12:39:33.249999872\n"
     ]
    }
   ],
   "source": [
    "# Tính các thống kê cho cột 'update'\n",
    "count_u = raw_df['updated'].notnull().sum()  # Số lượng giá trị không thiếu\n",
    "unique_u = raw_df['updated'].nunique()  # Số lượng giá trị duy nhất\n",
    "top_u = raw_df['updated'].mode()[0]  # Giá trị xuất hiện nhiều nhất\n",
    "freq_u = raw_df['updated'].value_counts().max()  # Số lần giá trị xuất hiện nhiều nhất\n",
    "min_value_u = raw_df['updated'].min()  # Giá trị nhỏ nhất\n",
    "max_value_u = raw_df['updated'].max()  # Giá trị lớn nhất\n",
    "mean_u = raw_df['updated'].mean()  # Trung bình\n",
    "std_u = raw_df['updated'].std()  # Độ lệch chuẩn\n",
    "percentiles_u = raw_df['updated'].quantile([0.25, 0.5, 0.75])  # Các phân vị\n",
    "\n",
    "# Tính các thống kê cho cột 'published'\n",
    "count_p = raw_df['published'].notnull().sum()  # Số lượng giá trị không thiếu\n",
    "unique_p = raw_df['published'].nunique()  # Số lượng giá trị duy nhất\n",
    "top_p = raw_df['published'].mode()[0]  # Giá trị xuất hiện nhiều nhất\n",
    "freq_p = raw_df['published'].value_counts().max()  # Số lần giá trị xuất hiện nhiều nhất\n",
    "min_value_p = raw_df['published'].min()  # Giá trị nhỏ nhất\n",
    "max_value_p = raw_df['published'].max()  # Giá trị lớn nhất\n",
    "mean_p = raw_df['published'].mean()  # Trung bình\n",
    "std_p = raw_df['published'].std()  # Độ lệch chuẩn\n",
    "percentiles_p = raw_df['published'].quantile([0.25, 0.5, 0.75])  # Các phân vị\n",
    "\n",
    "# In ra kết quả\n",
    "print(f\"Count_u: {count_u}, Count_p: {count_p}\")\n",
    "print(f\"Unique_u: {unique_u}, unique_p: {unique_p} \")\n",
    "print(f\"Top_u: {top_u}, Top_p: {top_p}\")\n",
    "print(f\"Freq_u: {freq_u}, Freq_p: {freq_p}\")\n",
    "print(f\"Min_u: {min_value_u}, Min_p: {min_value_p}\")\n",
    "print(f\"Max_u: {max_value_u}, Max_p: {max_value_p}\")\n",
    "print(f\"Mean_u: {mean_u}, Mean_p: {mean_p}\")\n",
    "print(f\"Std_u: {std_u}, Std_p:{std_p}\")\n",
    "print(f\"25%_u: {percentiles_u[0.25]}, 25%_p: {percentiles_p[0.25]}\")\n",
    "print(f\"50%_u: {percentiles_u[0.5]}, 50%_p: {percentiles_p[0.5]}\")\n",
    "print(f\"75%_u: {percentiles_u[0.75]}, 75%_p: {percentiles_p[0.75]}\")"
   ]
  },
  {
   "cell_type": "markdown",
   "metadata": {
    "id": "mh3WUbK3hWLs"
   },
   "source": [
    "Kết quả này cho thấy:\n",
    "**Các chỉ số thời gian liên quan đến hai giá trị (updated và published)**:\n",
    "\n",
    "Số lượng và giá trị duy nhất:\n",
    "\n",
    "- Count_u và Count_p (354972): Tổng số bản ghi trong tập dữ liệu.\n",
    "- Unique_u (354482) và unique_p (354230): Hầu hết các bản ghi đều có thời gian riêng biệt, chỉ một số ít bị trùng lặp.\n",
    "\n",
    "**Phân bố thời gian**:\n",
    "Khoảng thời gian:\n",
    "- Min_u và Max_u: Dữ liệu trải dài từ năm 1994 đến 2024, cho thấy đây là dữ liệu lâu dài.\n",
    "- Mean_u và Mean_p: Trung bình ngày nằm trong khoảng 2021, tập trung vào các nghiên cứu gần đây.\n",
    "- Std_u (1469 ngày) và Std_p (1482 ngày): Thời gian phân phối khá đồng đều trong khoảng thời gian lớn (~4 năm).\n",
    "Phân vị:\n",
    "- 25%_u và 25%_p: 25% dữ liệu cũ hơn ngày 2019, còn lại là dữ liệu sau đó.\n",
    "- 50%_u và 50%_p (median): Giá trị trung vị của dữ liệu rơi vào 2022-2023, cho thấy dữ liệu khá hiện đại.\n",
    "- 75%_u và 75%_p: Phần lớn dữ liệu thuộc giai đoạn 2024."
   ]
  },
  {
   "cell_type": "markdown",
   "metadata": {
    "id": "-Ezu2sqVhWLs"
   },
   "source": [
    "### Đối với mỗi cột có kiểu dữ liệu non-numeric, những giá trị trong các cột đó phân bố như thế nào?"
   ]
  },
  {
   "cell_type": "markdown",
   "metadata": {
    "id": "ZBhJkoOehWLt"
   },
   "source": [
    "- Tính tỷ lệ phần trăm các giá trị bị thiếu (missing values): Tỷ lệ phần trăm từ 0 đến 100 của các ô bị thiếu dữ liệu trong từng cột.\n",
    "- Số lượng các giá trị khác nhau (unique values): Ta đếm số lượng các loại giá trị khác nhau (số lượng phần tử phân biệt) trong cột.\n",
    "\n",
    "- Tỷ lệ phần trăm của từng giá trị khác nhau trong cột (không xét giá trị thiếu): Tính tỷ lệ phần trăm của mỗi giá trị trong tổng số giá trị không bị thiếu. Sắp xếp tỷ lệ theo thứ tự giảm dần.\n",
    "\n",
    "- Lưu kết quả này vào dạng dictionary, trong đó: Key là các giá trị khác nhau trong cột, Value là tỷ lệ phần trăm của từng giá trị.\n"
   ]
  },
  {
   "cell_type": "code",
   "execution_count": 17,
   "metadata": {
    "id": "nmsAmpu1hWLt"
   },
   "outputs": [],
   "source": [
    "cat_cols = raw_df.select_dtypes(exclude=['datetime64[ns]'])\n",
    "cat_col_info_df = pd.DataFrame(index=[\"missing_ratio\", \"num_values\", \"value_ratios\"], columns=cat_cols.columns)\n",
    "for col in cat_cols.columns:\n",
    "    missing_ratio = cat_cols[col].isna().mean() * 100\n",
    "\n",
    "    num_values = cat_cols[col].nunique(dropna=True)\n",
    "\n",
    "    value_ratios = cat_cols[col].value_counts(normalize=True, dropna=True) * 100\n",
    "    value_ratios = value_ratios.round(1).to_dict()\n",
    "\n",
    "    cat_col_info_df.at[\"missing_ratio\", col] = round(missing_ratio, 1)\n",
    "    cat_col_info_df.at[\"num_values\", col] = num_values\n",
    "    cat_col_info_df.at[\"value_ratios\", col] = value_ratios"
   ]
  },
  {
   "cell_type": "code",
   "execution_count": 18,
   "metadata": {
    "colab": {
     "base_uri": "https://localhost:8080/",
     "height": 161
    },
    "id": "jwEorOV8hWLt",
    "outputId": "de542aa4-c3fe-4300-8560-e72da55b2770"
   },
   "outputs": [
    {
     "data": {
      "text/html": [
       "<div>\n",
       "<style scoped>\n",
       "    .dataframe tbody tr th:only-of-type {\n",
       "        vertical-align: middle;\n",
       "    }\n",
       "\n",
       "    .dataframe tbody tr th {\n",
       "        vertical-align: top;\n",
       "    }\n",
       "\n",
       "    .dataframe thead th {\n",
       "        text-align: right;\n",
       "    }\n",
       "</style>\n",
       "<table border=\"1\" class=\"dataframe\">\n",
       "  <thead>\n",
       "    <tr style=\"text-align: right;\">\n",
       "      <th></th>\n",
       "      <th>paper_id</th>\n",
       "      <th>authors</th>\n",
       "      <th>title</th>\n",
       "      <th>abstract</th>\n",
       "      <th>categories</th>\n",
       "      <th>comment</th>\n",
       "    </tr>\n",
       "  </thead>\n",
       "  <tbody>\n",
       "    <tr>\n",
       "      <th>missing_ratio</th>\n",
       "      <td>0.0</td>\n",
       "      <td>0.0</td>\n",
       "      <td>0.0</td>\n",
       "      <td>0.0</td>\n",
       "      <td>0.0</td>\n",
       "      <td>0.0</td>\n",
       "    </tr>\n",
       "    <tr>\n",
       "      <th>num_values</th>\n",
       "      <td>354972</td>\n",
       "      <td>314096</td>\n",
       "      <td>354578</td>\n",
       "      <td>354688</td>\n",
       "      <td>56794</td>\n",
       "      <td>138075</td>\n",
       "    </tr>\n",
       "    <tr>\n",
       "      <th>value_ratios</th>\n",
       "      <td>{'http://arxiv.org/abs/2405.16511v1': 0.0, 'ht...</td>\n",
       "      <td>{'Oliver Knill': 0.0, 'Sabah Al-Fedaghi': 0.0,...</td>\n",
       "      <td>{'No Argument Left Behind: Overlapping Chunks ...</td>\n",
       "      <td>{'  This paper has been withdrawn by the autho...</td>\n",
       "      <td>{'cs.CV': 2.8, 'cs.NI': 2.7, 'cs.RO': 2.6, 'ee...</td>\n",
       "      <td>{'Not available': 42.5, '10 pages': 0.2, '12 p...</td>\n",
       "    </tr>\n",
       "  </tbody>\n",
       "</table>\n",
       "</div>"
      ],
      "text/plain": [
       "                                                        paper_id  \\\n",
       "missing_ratio                                                0.0   \n",
       "num_values                                                354972   \n",
       "value_ratios   {'http://arxiv.org/abs/2405.16511v1': 0.0, 'ht...   \n",
       "\n",
       "                                                         authors  \\\n",
       "missing_ratio                                                0.0   \n",
       "num_values                                                314096   \n",
       "value_ratios   {'Oliver Knill': 0.0, 'Sabah Al-Fedaghi': 0.0,...   \n",
       "\n",
       "                                                           title  \\\n",
       "missing_ratio                                                0.0   \n",
       "num_values                                                354578   \n",
       "value_ratios   {'No Argument Left Behind: Overlapping Chunks ...   \n",
       "\n",
       "                                                        abstract  \\\n",
       "missing_ratio                                                0.0   \n",
       "num_values                                                354688   \n",
       "value_ratios   {'  This paper has been withdrawn by the autho...   \n",
       "\n",
       "                                                      categories  \\\n",
       "missing_ratio                                                0.0   \n",
       "num_values                                                 56794   \n",
       "value_ratios   {'cs.CV': 2.8, 'cs.NI': 2.7, 'cs.RO': 2.6, 'ee...   \n",
       "\n",
       "                                                         comment  \n",
       "missing_ratio                                                0.0  \n",
       "num_values                                                138075  \n",
       "value_ratios   {'Not available': 42.5, '10 pages': 0.2, '12 p...  "
      ]
     },
     "execution_count": 18,
     "metadata": {},
     "output_type": "execute_result"
    }
   ],
   "source": [
    "cat_col_info_df"
   ]
  },
  {
   "cell_type": "markdown",
   "metadata": {
    "id": "BByHC4cwhWLt"
   },
   "source": [
    "- Dữ liệu có tính đa dạng cao với nhiều giá trị khác nhau trong các cột.\n",
    "\n",
    "- Một số cột chứa giá trị phổ biến với tỷ lệ cao, trong khi các giá trị còn lại có tỷ lệ rất thấp.\n",
    "\n",
    "- Sự xuất hiện của 'Not available' với tỷ lệ lớn trong một cột có thể ảnh hưởng đến kết quả phân tích sau này và cần được xử lý hoặc xem xét kỹ hơn."
   ]
  },
  {
   "cell_type": "markdown",
   "metadata": {
    "id": "bKbnw2jOhWLt"
   },
   "source": [
    "### Dữ liệu được thu thập có hợp lý chưa?"
   ]
  },
  {
   "cell_type": "code",
   "execution_count": 19,
   "metadata": {
    "colab": {
     "base_uri": "https://localhost:8080/",
     "height": 840
    },
    "id": "L6p_ljubhWLt",
    "outputId": "f3e88b9b-92e3-4554-acba-2b0beecce098"
   },
   "outputs": [
    {
     "data": {
      "text/html": [
       "<div>\n",
       "<style scoped>\n",
       "    .dataframe tbody tr th:only-of-type {\n",
       "        vertical-align: middle;\n",
       "    }\n",
       "\n",
       "    .dataframe tbody tr th {\n",
       "        vertical-align: top;\n",
       "    }\n",
       "\n",
       "    .dataframe thead th {\n",
       "        text-align: right;\n",
       "    }\n",
       "</style>\n",
       "<table border=\"1\" class=\"dataframe\">\n",
       "  <thead>\n",
       "    <tr style=\"text-align: right;\">\n",
       "      <th></th>\n",
       "      <th>paper_id</th>\n",
       "      <th>authors</th>\n",
       "      <th>updated</th>\n",
       "      <th>published</th>\n",
       "      <th>title</th>\n",
       "      <th>abstract</th>\n",
       "      <th>categories</th>\n",
       "      <th>comment</th>\n",
       "    </tr>\n",
       "  </thead>\n",
       "  <tbody>\n",
       "    <tr>\n",
       "      <th>0</th>\n",
       "      <td>http://arxiv.org/abs/2412.10373v1</td>\n",
       "      <td>Sicheng Zuo,Wenzhao Zheng,Yuanhui Huang,Jie Zh...</td>\n",
       "      <td>2024-12-13 18:59:54</td>\n",
       "      <td>2024-12-13 18:59:54</td>\n",
       "      <td>GaussianWorld: Gaussian World Model for Stream...</td>\n",
       "      <td>3D occupancy prediction is important for aut...</td>\n",
       "      <td>cs.CV,cs.AI,cs.LG</td>\n",
       "      <td>Code is available at: https://github.com/zuosc...</td>\n",
       "    </tr>\n",
       "    <tr>\n",
       "      <th>1</th>\n",
       "      <td>http://arxiv.org/abs/2412.10371v1</td>\n",
       "      <td>Wenzhao Zheng,Junjie Wu,Yao Zheng,Sicheng Zuo,...</td>\n",
       "      <td>2024-12-13 18:59:30</td>\n",
       "      <td>2024-12-13 18:59:30</td>\n",
       "      <td>GaussianAD: Gaussian-Centric End-to-End Autono...</td>\n",
       "      <td>Vision-based autonomous driving shows great ...</td>\n",
       "      <td>cs.CV,cs.AI,cs.LG,cs.RO</td>\n",
       "      <td>Code is available at: https://github.com/wzzhe...</td>\n",
       "    </tr>\n",
       "    <tr>\n",
       "      <th>2</th>\n",
       "      <td>http://arxiv.org/abs/2402.01886v2</td>\n",
       "      <td>Mark Beliaev,Ramtin Pedarsani</td>\n",
       "      <td>2024-12-13 18:59:14</td>\n",
       "      <td>2024-02-02 20:21:09</td>\n",
       "      <td>Inverse Reinforcement Learning by Estimating E...</td>\n",
       "      <td>In Imitation Learning (IL), utilizing subopt...</td>\n",
       "      <td>cs.LG,cs.AI</td>\n",
       "      <td>11 pages, 4 figures, extended version of AAAI ...</td>\n",
       "    </tr>\n",
       "    <tr>\n",
       "      <th>3</th>\n",
       "      <td>http://arxiv.org/abs/2412.10360v1</td>\n",
       "      <td>Orr Zohar,Xiaohan Wang,Yann Dubois,Nikhil Meht...</td>\n",
       "      <td>2024-12-13 18:53:24</td>\n",
       "      <td>2024-12-13 18:53:24</td>\n",
       "      <td>Apollo: An Exploration of Video Understanding ...</td>\n",
       "      <td>Despite the rapid integration of video perce...</td>\n",
       "      <td>cs.CV,cs.AI</td>\n",
       "      <td>https://apollo-lmms.github.io</td>\n",
       "    </tr>\n",
       "    <tr>\n",
       "      <th>4</th>\n",
       "      <td>http://arxiv.org/abs/2412.10354v1</td>\n",
       "      <td>Jean Kossaifi,Nikola Kovachki,Zongyi Li,Davit ...</td>\n",
       "      <td>2024-12-13 18:49:37</td>\n",
       "      <td>2024-12-13 18:49:37</td>\n",
       "      <td>A Library for Learning Neural Operators</td>\n",
       "      <td>We present NeuralOperator, an open-source Py...</td>\n",
       "      <td>cs.LG,cs.AI</td>\n",
       "      <td>Not available</td>\n",
       "    </tr>\n",
       "    <tr>\n",
       "      <th>...</th>\n",
       "      <td>...</td>\n",
       "      <td>...</td>\n",
       "      <td>...</td>\n",
       "      <td>...</td>\n",
       "      <td>...</td>\n",
       "      <td>...</td>\n",
       "      <td>...</td>\n",
       "      <td>...</td>\n",
       "    </tr>\n",
       "    <tr>\n",
       "      <th>354967</th>\n",
       "      <td>http://arxiv.org/abs/2405.16585v1</td>\n",
       "      <td>Yuhang Chen,Wenke Huang,Mang Ye</td>\n",
       "      <td>2024-05-26 14:29:10</td>\n",
       "      <td>2024-05-26 14:29:10</td>\n",
       "      <td>Fair Federated Learning under Domain Skew with...</td>\n",
       "      <td>Federated learning (FL) has emerged as a new...</td>\n",
       "      <td>cs.LG,cs.AI</td>\n",
       "      <td>Accepted by CVPR2024</td>\n",
       "    </tr>\n",
       "    <tr>\n",
       "      <th>354968</th>\n",
       "      <td>http://arxiv.org/abs/2404.14786v2</td>\n",
       "      <td>Peiwen Li,Xin Wang,Zeyang Zhang,Yuan Meng,Fang...</td>\n",
       "      <td>2024-05-26 13:08:00</td>\n",
       "      <td>2024-04-23 06:52:40</td>\n",
       "      <td>RealTCD: Temporal Causal Discovery from Interv...</td>\n",
       "      <td>In the field of Artificial Intelligence for ...</td>\n",
       "      <td>cs.AI,cs.LG,stat.ME</td>\n",
       "      <td>Not available</td>\n",
       "    </tr>\n",
       "    <tr>\n",
       "      <th>354969</th>\n",
       "      <td>http://arxiv.org/abs/2405.16557v1</td>\n",
       "      <td>Chun-Kai Huang,Yi-Hsien Hsieh,Ta-Jung Chien,Li...</td>\n",
       "      <td>2024-05-26 13:06:45</td>\n",
       "      <td>2024-05-26 13:06:45</td>\n",
       "      <td>Scalable Numerical Embeddings for Multivariate...</td>\n",
       "      <td>Multivariate time series (MTS) data, when sa...</td>\n",
       "      <td>cs.LG,cs.AI</td>\n",
       "      <td>Not available</td>\n",
       "    </tr>\n",
       "    <tr>\n",
       "      <th>354970</th>\n",
       "      <td>http://arxiv.org/abs/2304.05749v2</td>\n",
       "      <td>Yuxing Tian,Mingjie Zhu,Jiachi Luo,Song Li</td>\n",
       "      <td>2024-05-26 10:47:29</td>\n",
       "      <td>2023-04-12 10:05:07</td>\n",
       "      <td>Boosting long-term forecasting performance for...</td>\n",
       "      <td>This study focuses on long-term forecasting ...</td>\n",
       "      <td>cs.LG,cs.AI</td>\n",
       "      <td>Recent evidence has emerged that directly cont...</td>\n",
       "    </tr>\n",
       "    <tr>\n",
       "      <th>354971</th>\n",
       "      <td>http://arxiv.org/abs/2405.16511v1</td>\n",
       "      <td>Hongfei Wu,Lijun Wu,Guoqing Liu,Zhirong Liu,Bi...</td>\n",
       "      <td>2024-05-26 10:43:16</td>\n",
       "      <td>2024-05-26 10:43:16</td>\n",
       "      <td>SE3Set: Harnessing equivariant hypergraph neur...</td>\n",
       "      <td>In this paper, we develop SE3Set, an SE(3) e...</td>\n",
       "      <td>cs.LG,cs.AI,physics.comp-ph</td>\n",
       "      <td>Not available</td>\n",
       "    </tr>\n",
       "  </tbody>\n",
       "</table>\n",
       "<p>354972 rows × 8 columns</p>\n",
       "</div>"
      ],
      "text/plain": [
       "                                 paper_id  \\\n",
       "0       http://arxiv.org/abs/2412.10373v1   \n",
       "1       http://arxiv.org/abs/2412.10371v1   \n",
       "2       http://arxiv.org/abs/2402.01886v2   \n",
       "3       http://arxiv.org/abs/2412.10360v1   \n",
       "4       http://arxiv.org/abs/2412.10354v1   \n",
       "...                                   ...   \n",
       "354967  http://arxiv.org/abs/2405.16585v1   \n",
       "354968  http://arxiv.org/abs/2404.14786v2   \n",
       "354969  http://arxiv.org/abs/2405.16557v1   \n",
       "354970  http://arxiv.org/abs/2304.05749v2   \n",
       "354971  http://arxiv.org/abs/2405.16511v1   \n",
       "\n",
       "                                                  authors             updated  \\\n",
       "0       Sicheng Zuo,Wenzhao Zheng,Yuanhui Huang,Jie Zh... 2024-12-13 18:59:54   \n",
       "1       Wenzhao Zheng,Junjie Wu,Yao Zheng,Sicheng Zuo,... 2024-12-13 18:59:30   \n",
       "2                           Mark Beliaev,Ramtin Pedarsani 2024-12-13 18:59:14   \n",
       "3       Orr Zohar,Xiaohan Wang,Yann Dubois,Nikhil Meht... 2024-12-13 18:53:24   \n",
       "4       Jean Kossaifi,Nikola Kovachki,Zongyi Li,Davit ... 2024-12-13 18:49:37   \n",
       "...                                                   ...                 ...   \n",
       "354967                    Yuhang Chen,Wenke Huang,Mang Ye 2024-05-26 14:29:10   \n",
       "354968  Peiwen Li,Xin Wang,Zeyang Zhang,Yuan Meng,Fang... 2024-05-26 13:08:00   \n",
       "354969  Chun-Kai Huang,Yi-Hsien Hsieh,Ta-Jung Chien,Li... 2024-05-26 13:06:45   \n",
       "354970         Yuxing Tian,Mingjie Zhu,Jiachi Luo,Song Li 2024-05-26 10:47:29   \n",
       "354971  Hongfei Wu,Lijun Wu,Guoqing Liu,Zhirong Liu,Bi... 2024-05-26 10:43:16   \n",
       "\n",
       "                 published                                              title  \\\n",
       "0      2024-12-13 18:59:54  GaussianWorld: Gaussian World Model for Stream...   \n",
       "1      2024-12-13 18:59:30  GaussianAD: Gaussian-Centric End-to-End Autono...   \n",
       "2      2024-02-02 20:21:09  Inverse Reinforcement Learning by Estimating E...   \n",
       "3      2024-12-13 18:53:24  Apollo: An Exploration of Video Understanding ...   \n",
       "4      2024-12-13 18:49:37            A Library for Learning Neural Operators   \n",
       "...                    ...                                                ...   \n",
       "354967 2024-05-26 14:29:10  Fair Federated Learning under Domain Skew with...   \n",
       "354968 2024-04-23 06:52:40  RealTCD: Temporal Causal Discovery from Interv...   \n",
       "354969 2024-05-26 13:06:45  Scalable Numerical Embeddings for Multivariate...   \n",
       "354970 2023-04-12 10:05:07  Boosting long-term forecasting performance for...   \n",
       "354971 2024-05-26 10:43:16  SE3Set: Harnessing equivariant hypergraph neur...   \n",
       "\n",
       "                                                 abstract  \\\n",
       "0         3D occupancy prediction is important for aut...   \n",
       "1         Vision-based autonomous driving shows great ...   \n",
       "2         In Imitation Learning (IL), utilizing subopt...   \n",
       "3         Despite the rapid integration of video perce...   \n",
       "4         We present NeuralOperator, an open-source Py...   \n",
       "...                                                   ...   \n",
       "354967    Federated learning (FL) has emerged as a new...   \n",
       "354968    In the field of Artificial Intelligence for ...   \n",
       "354969    Multivariate time series (MTS) data, when sa...   \n",
       "354970    This study focuses on long-term forecasting ...   \n",
       "354971    In this paper, we develop SE3Set, an SE(3) e...   \n",
       "\n",
       "                         categories  \\\n",
       "0                 cs.CV,cs.AI,cs.LG   \n",
       "1           cs.CV,cs.AI,cs.LG,cs.RO   \n",
       "2                       cs.LG,cs.AI   \n",
       "3                       cs.CV,cs.AI   \n",
       "4                       cs.LG,cs.AI   \n",
       "...                             ...   \n",
       "354967                  cs.LG,cs.AI   \n",
       "354968          cs.AI,cs.LG,stat.ME   \n",
       "354969                  cs.LG,cs.AI   \n",
       "354970                  cs.LG,cs.AI   \n",
       "354971  cs.LG,cs.AI,physics.comp-ph   \n",
       "\n",
       "                                                  comment  \n",
       "0       Code is available at: https://github.com/zuosc...  \n",
       "1       Code is available at: https://github.com/wzzhe...  \n",
       "2       11 pages, 4 figures, extended version of AAAI ...  \n",
       "3                           https://apollo-lmms.github.io  \n",
       "4                                           Not available  \n",
       "...                                                   ...  \n",
       "354967                               Accepted by CVPR2024  \n",
       "354968                                      Not available  \n",
       "354969                                      Not available  \n",
       "354970  Recent evidence has emerged that directly cont...  \n",
       "354971                                      Not available  \n",
       "\n",
       "[354972 rows x 8 columns]"
      ]
     },
     "execution_count": 19,
     "metadata": {},
     "output_type": "execute_result"
    }
   ],
   "source": [
    "raw_df"
   ]
  },
  {
   "cell_type": "markdown",
   "metadata": {
    "id": "A0C7JHfZhWLy"
   },
   "source": [
    "#### Ở đây ta thấy ở cột paper_id là các đường dẫn URL ta có thể lọc lấy định danh duy nhất từ đường dẫn."
   ]
  },
  {
   "cell_type": "code",
   "execution_count": 20,
   "metadata": {
    "colab": {
     "base_uri": "https://localhost:8080/",
     "height": 753
    },
    "id": "qVbWSsnXhWLz",
    "outputId": "fd165a2c-7bce-42bc-bacc-916f3dc8ab7d"
   },
   "outputs": [
    {
     "data": {
      "text/html": [
       "<div>\n",
       "<style scoped>\n",
       "    .dataframe tbody tr th:only-of-type {\n",
       "        vertical-align: middle;\n",
       "    }\n",
       "\n",
       "    .dataframe tbody tr th {\n",
       "        vertical-align: top;\n",
       "    }\n",
       "\n",
       "    .dataframe thead th {\n",
       "        text-align: right;\n",
       "    }\n",
       "</style>\n",
       "<table border=\"1\" class=\"dataframe\">\n",
       "  <thead>\n",
       "    <tr style=\"text-align: right;\">\n",
       "      <th></th>\n",
       "      <th>paper_id</th>\n",
       "      <th>authors</th>\n",
       "      <th>updated</th>\n",
       "      <th>published</th>\n",
       "      <th>title</th>\n",
       "      <th>abstract</th>\n",
       "      <th>categories</th>\n",
       "      <th>comment</th>\n",
       "    </tr>\n",
       "  </thead>\n",
       "  <tbody>\n",
       "    <tr>\n",
       "      <th>0</th>\n",
       "      <td>2412.10373v1</td>\n",
       "      <td>Sicheng Zuo,Wenzhao Zheng,Yuanhui Huang,Jie Zh...</td>\n",
       "      <td>2024-12-13 18:59:54</td>\n",
       "      <td>2024-12-13 18:59:54</td>\n",
       "      <td>GaussianWorld: Gaussian World Model for Stream...</td>\n",
       "      <td>3D occupancy prediction is important for aut...</td>\n",
       "      <td>cs.CV,cs.AI,cs.LG</td>\n",
       "      <td>Code is available at: https://github.com/zuosc...</td>\n",
       "    </tr>\n",
       "    <tr>\n",
       "      <th>1</th>\n",
       "      <td>2412.10371v1</td>\n",
       "      <td>Wenzhao Zheng,Junjie Wu,Yao Zheng,Sicheng Zuo,...</td>\n",
       "      <td>2024-12-13 18:59:30</td>\n",
       "      <td>2024-12-13 18:59:30</td>\n",
       "      <td>GaussianAD: Gaussian-Centric End-to-End Autono...</td>\n",
       "      <td>Vision-based autonomous driving shows great ...</td>\n",
       "      <td>cs.CV,cs.AI,cs.LG,cs.RO</td>\n",
       "      <td>Code is available at: https://github.com/wzzhe...</td>\n",
       "    </tr>\n",
       "    <tr>\n",
       "      <th>2</th>\n",
       "      <td>2402.01886v2</td>\n",
       "      <td>Mark Beliaev,Ramtin Pedarsani</td>\n",
       "      <td>2024-12-13 18:59:14</td>\n",
       "      <td>2024-02-02 20:21:09</td>\n",
       "      <td>Inverse Reinforcement Learning by Estimating E...</td>\n",
       "      <td>In Imitation Learning (IL), utilizing subopt...</td>\n",
       "      <td>cs.LG,cs.AI</td>\n",
       "      <td>11 pages, 4 figures, extended version of AAAI ...</td>\n",
       "    </tr>\n",
       "    <tr>\n",
       "      <th>3</th>\n",
       "      <td>2412.10360v1</td>\n",
       "      <td>Orr Zohar,Xiaohan Wang,Yann Dubois,Nikhil Meht...</td>\n",
       "      <td>2024-12-13 18:53:24</td>\n",
       "      <td>2024-12-13 18:53:24</td>\n",
       "      <td>Apollo: An Exploration of Video Understanding ...</td>\n",
       "      <td>Despite the rapid integration of video perce...</td>\n",
       "      <td>cs.CV,cs.AI</td>\n",
       "      <td>https://apollo-lmms.github.io</td>\n",
       "    </tr>\n",
       "    <tr>\n",
       "      <th>4</th>\n",
       "      <td>2412.10354v1</td>\n",
       "      <td>Jean Kossaifi,Nikola Kovachki,Zongyi Li,Davit ...</td>\n",
       "      <td>2024-12-13 18:49:37</td>\n",
       "      <td>2024-12-13 18:49:37</td>\n",
       "      <td>A Library for Learning Neural Operators</td>\n",
       "      <td>We present NeuralOperator, an open-source Py...</td>\n",
       "      <td>cs.LG,cs.AI</td>\n",
       "      <td>Not available</td>\n",
       "    </tr>\n",
       "    <tr>\n",
       "      <th>...</th>\n",
       "      <td>...</td>\n",
       "      <td>...</td>\n",
       "      <td>...</td>\n",
       "      <td>...</td>\n",
       "      <td>...</td>\n",
       "      <td>...</td>\n",
       "      <td>...</td>\n",
       "      <td>...</td>\n",
       "    </tr>\n",
       "    <tr>\n",
       "      <th>354967</th>\n",
       "      <td>2405.16585v1</td>\n",
       "      <td>Yuhang Chen,Wenke Huang,Mang Ye</td>\n",
       "      <td>2024-05-26 14:29:10</td>\n",
       "      <td>2024-05-26 14:29:10</td>\n",
       "      <td>Fair Federated Learning under Domain Skew with...</td>\n",
       "      <td>Federated learning (FL) has emerged as a new...</td>\n",
       "      <td>cs.LG,cs.AI</td>\n",
       "      <td>Accepted by CVPR2024</td>\n",
       "    </tr>\n",
       "    <tr>\n",
       "      <th>354968</th>\n",
       "      <td>2404.14786v2</td>\n",
       "      <td>Peiwen Li,Xin Wang,Zeyang Zhang,Yuan Meng,Fang...</td>\n",
       "      <td>2024-05-26 13:08:00</td>\n",
       "      <td>2024-04-23 06:52:40</td>\n",
       "      <td>RealTCD: Temporal Causal Discovery from Interv...</td>\n",
       "      <td>In the field of Artificial Intelligence for ...</td>\n",
       "      <td>cs.AI,cs.LG,stat.ME</td>\n",
       "      <td>Not available</td>\n",
       "    </tr>\n",
       "    <tr>\n",
       "      <th>354969</th>\n",
       "      <td>2405.16557v1</td>\n",
       "      <td>Chun-Kai Huang,Yi-Hsien Hsieh,Ta-Jung Chien,Li...</td>\n",
       "      <td>2024-05-26 13:06:45</td>\n",
       "      <td>2024-05-26 13:06:45</td>\n",
       "      <td>Scalable Numerical Embeddings for Multivariate...</td>\n",
       "      <td>Multivariate time series (MTS) data, when sa...</td>\n",
       "      <td>cs.LG,cs.AI</td>\n",
       "      <td>Not available</td>\n",
       "    </tr>\n",
       "    <tr>\n",
       "      <th>354970</th>\n",
       "      <td>2304.05749v2</td>\n",
       "      <td>Yuxing Tian,Mingjie Zhu,Jiachi Luo,Song Li</td>\n",
       "      <td>2024-05-26 10:47:29</td>\n",
       "      <td>2023-04-12 10:05:07</td>\n",
       "      <td>Boosting long-term forecasting performance for...</td>\n",
       "      <td>This study focuses on long-term forecasting ...</td>\n",
       "      <td>cs.LG,cs.AI</td>\n",
       "      <td>Recent evidence has emerged that directly cont...</td>\n",
       "    </tr>\n",
       "    <tr>\n",
       "      <th>354971</th>\n",
       "      <td>2405.16511v1</td>\n",
       "      <td>Hongfei Wu,Lijun Wu,Guoqing Liu,Zhirong Liu,Bi...</td>\n",
       "      <td>2024-05-26 10:43:16</td>\n",
       "      <td>2024-05-26 10:43:16</td>\n",
       "      <td>SE3Set: Harnessing equivariant hypergraph neur...</td>\n",
       "      <td>In this paper, we develop SE3Set, an SE(3) e...</td>\n",
       "      <td>cs.LG,cs.AI,physics.comp-ph</td>\n",
       "      <td>Not available</td>\n",
       "    </tr>\n",
       "  </tbody>\n",
       "</table>\n",
       "<p>354972 rows × 8 columns</p>\n",
       "</div>"
      ],
      "text/plain": [
       "            paper_id                                            authors  \\\n",
       "0       2412.10373v1  Sicheng Zuo,Wenzhao Zheng,Yuanhui Huang,Jie Zh...   \n",
       "1       2412.10371v1  Wenzhao Zheng,Junjie Wu,Yao Zheng,Sicheng Zuo,...   \n",
       "2       2402.01886v2                      Mark Beliaev,Ramtin Pedarsani   \n",
       "3       2412.10360v1  Orr Zohar,Xiaohan Wang,Yann Dubois,Nikhil Meht...   \n",
       "4       2412.10354v1  Jean Kossaifi,Nikola Kovachki,Zongyi Li,Davit ...   \n",
       "...              ...                                                ...   \n",
       "354967  2405.16585v1                    Yuhang Chen,Wenke Huang,Mang Ye   \n",
       "354968  2404.14786v2  Peiwen Li,Xin Wang,Zeyang Zhang,Yuan Meng,Fang...   \n",
       "354969  2405.16557v1  Chun-Kai Huang,Yi-Hsien Hsieh,Ta-Jung Chien,Li...   \n",
       "354970  2304.05749v2         Yuxing Tian,Mingjie Zhu,Jiachi Luo,Song Li   \n",
       "354971  2405.16511v1  Hongfei Wu,Lijun Wu,Guoqing Liu,Zhirong Liu,Bi...   \n",
       "\n",
       "                   updated           published  \\\n",
       "0      2024-12-13 18:59:54 2024-12-13 18:59:54   \n",
       "1      2024-12-13 18:59:30 2024-12-13 18:59:30   \n",
       "2      2024-12-13 18:59:14 2024-02-02 20:21:09   \n",
       "3      2024-12-13 18:53:24 2024-12-13 18:53:24   \n",
       "4      2024-12-13 18:49:37 2024-12-13 18:49:37   \n",
       "...                    ...                 ...   \n",
       "354967 2024-05-26 14:29:10 2024-05-26 14:29:10   \n",
       "354968 2024-05-26 13:08:00 2024-04-23 06:52:40   \n",
       "354969 2024-05-26 13:06:45 2024-05-26 13:06:45   \n",
       "354970 2024-05-26 10:47:29 2023-04-12 10:05:07   \n",
       "354971 2024-05-26 10:43:16 2024-05-26 10:43:16   \n",
       "\n",
       "                                                    title  \\\n",
       "0       GaussianWorld: Gaussian World Model for Stream...   \n",
       "1       GaussianAD: Gaussian-Centric End-to-End Autono...   \n",
       "2       Inverse Reinforcement Learning by Estimating E...   \n",
       "3       Apollo: An Exploration of Video Understanding ...   \n",
       "4                 A Library for Learning Neural Operators   \n",
       "...                                                   ...   \n",
       "354967  Fair Federated Learning under Domain Skew with...   \n",
       "354968  RealTCD: Temporal Causal Discovery from Interv...   \n",
       "354969  Scalable Numerical Embeddings for Multivariate...   \n",
       "354970  Boosting long-term forecasting performance for...   \n",
       "354971  SE3Set: Harnessing equivariant hypergraph neur...   \n",
       "\n",
       "                                                 abstract  \\\n",
       "0         3D occupancy prediction is important for aut...   \n",
       "1         Vision-based autonomous driving shows great ...   \n",
       "2         In Imitation Learning (IL), utilizing subopt...   \n",
       "3         Despite the rapid integration of video perce...   \n",
       "4         We present NeuralOperator, an open-source Py...   \n",
       "...                                                   ...   \n",
       "354967    Federated learning (FL) has emerged as a new...   \n",
       "354968    In the field of Artificial Intelligence for ...   \n",
       "354969    Multivariate time series (MTS) data, when sa...   \n",
       "354970    This study focuses on long-term forecasting ...   \n",
       "354971    In this paper, we develop SE3Set, an SE(3) e...   \n",
       "\n",
       "                         categories  \\\n",
       "0                 cs.CV,cs.AI,cs.LG   \n",
       "1           cs.CV,cs.AI,cs.LG,cs.RO   \n",
       "2                       cs.LG,cs.AI   \n",
       "3                       cs.CV,cs.AI   \n",
       "4                       cs.LG,cs.AI   \n",
       "...                             ...   \n",
       "354967                  cs.LG,cs.AI   \n",
       "354968          cs.AI,cs.LG,stat.ME   \n",
       "354969                  cs.LG,cs.AI   \n",
       "354970                  cs.LG,cs.AI   \n",
       "354971  cs.LG,cs.AI,physics.comp-ph   \n",
       "\n",
       "                                                  comment  \n",
       "0       Code is available at: https://github.com/zuosc...  \n",
       "1       Code is available at: https://github.com/wzzhe...  \n",
       "2       11 pages, 4 figures, extended version of AAAI ...  \n",
       "3                           https://apollo-lmms.github.io  \n",
       "4                                           Not available  \n",
       "...                                                   ...  \n",
       "354967                               Accepted by CVPR2024  \n",
       "354968                                      Not available  \n",
       "354969                                      Not available  \n",
       "354970  Recent evidence has emerged that directly cont...  \n",
       "354971                                      Not available  \n",
       "\n",
       "[354972 rows x 8 columns]"
      ]
     },
     "execution_count": 20,
     "metadata": {},
     "output_type": "execute_result"
    }
   ],
   "source": [
    "raw_df[\"paper_id\"] = raw_df[\"paper_id\"].str.split(\"/\").str[-1]\n",
    "raw_df"
   ]
  },
  {
   "cell_type": "markdown",
   "metadata": {
    "id": "st9Uhi29hWL1"
   },
   "source": [
    "## Kham phá dữ liệu"
   ]
  },
  {
   "cell_type": "markdown",
   "metadata": {
    "id": "mRyJy8U0hWL1"
   },
   "source": [
    " ### 1. Số lượng chủ đề trong mỗi bài báo là bao nhiêu?"
   ]
  },
  {
   "cell_type": "code",
   "execution_count": 21,
   "metadata": {
    "id": "eJG2XRHKhWL1"
   },
   "outputs": [
    {
     "data": {
      "text/plain": [
       "2     119311\n",
       "1      95860\n",
       "3      79590\n",
       "4      32026\n",
       "5      14099\n",
       "6       6599\n",
       "7       3288\n",
       "8       1841\n",
       "9        962\n",
       "10       587\n",
       "11       343\n",
       "12       179\n",
       "13        95\n",
       "14        62\n",
       "17        38\n",
       "15        32\n",
       "16        21\n",
       "18        16\n",
       "19        11\n",
       "20         4\n",
       "23         2\n",
       "21         2\n",
       "22         2\n",
       "25         1\n",
       "26         1\n",
       "Name: topic_count, dtype: int64"
      ]
     },
     "execution_count": 21,
     "metadata": {},
     "output_type": "execute_result"
    }
   ],
   "source": [
    "raw_df[\"topic_count\"] = raw_df[\"categories\"].apply(lambda x : len(x.split(',')))\n",
    "raw_df[\"topic_count\"].value_counts()"
   ]
  },
  {
   "cell_type": "code",
   "execution_count": 22,
   "metadata": {
    "id": "9cZrQD_yhWL1"
   },
   "outputs": [
    {
     "name": "stderr",
     "output_type": "stream",
     "text": [
      "/home/sinhtruc/miniconda3/envs/min_ds-env2/lib/python3.10/site-packages/seaborn/_decorators.py:36: FutureWarning: Pass the following variable as a keyword arg: x. From version 0.12, the only valid positional argument will be `data`, and passing other arguments without an explicit keyword will result in an error or misinterpretation.\n",
      "  warnings.warn(\n"
     ]
    },
    {
     "data": {
      "text/plain": [
       "Text(0, 0.5, 'Frequency')"
      ]
     },
     "execution_count": 22,
     "metadata": {},
     "output_type": "execute_result"
    },
    {
     "data": {
      "image/png": "[encoded data removed]",
      "text/plain": [
       "<Figure size 640x480 with 1 Axes>"
      ]
     },
     "metadata": {},
     "output_type": "display_data"
    }
   ],
   "source": [
    "sns.countplot(raw_df[\"topic_count\"])\n",
    "plt.title(\"Number of topic in artcile\")\n",
    "plt.xlabel(\"Number of topic\")\n",
    "plt.ylabel(\"Frequency\")"
   ]
  },
  {
   "cell_type": "markdown",
   "metadata": {
    "id": "_XXBBXs8hWL1"
   },
   "source": [
    "**Nhận xét:**\n",
    "Dựa vào biểu đồ trực quan ở trên ta có thể nhận ra rằng đa phần mỗi bài báo đều có từ 1 đến 5 chủ đề là nhiều. Trong đó loại bài báo có hai chủ đề là nhiều nhất có 119311 bài báo có 2 chủ đề. Và có 1 bài báo có 26 chủ đề."
   ]
  },
  {
   "cell_type": "markdown",
   "metadata": {
    "id": "apdL1d3YhWL2"
   },
   "source": [
    "### 2. Chủ đề công nghệ thông tin có bao phủ hết tập dữ liệu không?"
   ]
  },
  {
   "cell_type": "markdown",
   "metadata": {
    "id": "2aSDUmGXhWL2"
   },
   "source": [
    "Lọc đi những chủ đề không liên quan tới công nghệ thông tin vẫn giữ lại bài báo."
   ]
  },
  {
   "cell_type": "code",
   "execution_count": 23,
   "metadata": {
    "colab": {
     "base_uri": "https://localhost:8080/"
    },
    "id": "lher7HRMhWL2",
    "outputId": "b606ee62-cea8-418b-c30d-5e700ca47423"
   },
   "outputs": [
    {
     "name": "stdout",
     "output_type": "stream",
     "text": [
      "Số ô không trống trong cột 'categories': 354972\n",
      "(354972, 9)\n"
     ]
    }
   ],
   "source": [
    "def filter_cs_categories(category_list):\n",
    "    return [cat.strip() for cat in category_list if cat.strip().startswith('cs.')]\n",
    "\n",
    "raw_df['categories'] = raw_df['categories'].str.split(',').apply(filter_cs_categories)\n",
    "\n",
    "raw_df['categories'] = raw_df['categories'].apply(lambda x: ', '.join(x))\n",
    "\n",
    "empty = raw_df['categories'].apply(lambda x: len(x.strip()) > 0).sum()\n",
    "\n",
    "print(f\"Số ô không trống trong cột 'categories': {empty}\")\n",
    "\n",
    "print(raw_df.shape)"
   ]
  },
  {
   "cell_type": "markdown",
   "metadata": {
    "id": "hAhhl6W4hWL2"
   },
   "source": [
    "Vậy ta thấy số ô không trống ở categories là 354972 bằng với số ô ban đầu chưa xóa chủ đề, điều đó có nghĩa rằng là chủ đề công nghệ thông tin bảo phủ toàn bộ tập dữ liệu."
   ]
  },
  {
   "cell_type": "code",
   "execution_count": 24,
   "metadata": {
    "colab": {
     "base_uri": "https://localhost:8080/",
     "height": 423
    },
    "id": "54-eABXXhWL3",
    "outputId": "4ea4b3e0-15bd-4c7b-d1ff-ff53bcf2166f"
   },
   "outputs": [
    {
     "data": {
      "text/html": [
       "<div>\n",
       "<style scoped>\n",
       "    .dataframe tbody tr th:only-of-type {\n",
       "        vertical-align: middle;\n",
       "    }\n",
       "\n",
       "    .dataframe tbody tr th {\n",
       "        vertical-align: top;\n",
       "    }\n",
       "\n",
       "    .dataframe thead th {\n",
       "        text-align: right;\n",
       "    }\n",
       "</style>\n",
       "<table border=\"1\" class=\"dataframe\">\n",
       "  <thead>\n",
       "    <tr style=\"text-align: right;\">\n",
       "      <th></th>\n",
       "      <th>paper_id</th>\n",
       "      <th>categories</th>\n",
       "    </tr>\n",
       "  </thead>\n",
       "  <tbody>\n",
       "    <tr>\n",
       "      <th>0</th>\n",
       "      <td>2412.10373v1</td>\n",
       "      <td>cs.CV, cs.AI, cs.LG</td>\n",
       "    </tr>\n",
       "    <tr>\n",
       "      <th>1</th>\n",
       "      <td>2412.10371v1</td>\n",
       "      <td>cs.CV, cs.AI, cs.LG, cs.RO</td>\n",
       "    </tr>\n",
       "    <tr>\n",
       "      <th>2</th>\n",
       "      <td>2402.01886v2</td>\n",
       "      <td>cs.LG, cs.AI</td>\n",
       "    </tr>\n",
       "    <tr>\n",
       "      <th>3</th>\n",
       "      <td>2412.10360v1</td>\n",
       "      <td>cs.CV, cs.AI</td>\n",
       "    </tr>\n",
       "    <tr>\n",
       "      <th>4</th>\n",
       "      <td>2412.10354v1</td>\n",
       "      <td>cs.LG, cs.AI</td>\n",
       "    </tr>\n",
       "    <tr>\n",
       "      <th>...</th>\n",
       "      <td>...</td>\n",
       "      <td>...</td>\n",
       "    </tr>\n",
       "    <tr>\n",
       "      <th>354967</th>\n",
       "      <td>2405.16585v1</td>\n",
       "      <td>cs.LG, cs.AI</td>\n",
       "    </tr>\n",
       "    <tr>\n",
       "      <th>354968</th>\n",
       "      <td>2404.14786v2</td>\n",
       "      <td>cs.AI, cs.LG</td>\n",
       "    </tr>\n",
       "    <tr>\n",
       "      <th>354969</th>\n",
       "      <td>2405.16557v1</td>\n",
       "      <td>cs.LG, cs.AI</td>\n",
       "    </tr>\n",
       "    <tr>\n",
       "      <th>354970</th>\n",
       "      <td>2304.05749v2</td>\n",
       "      <td>cs.LG, cs.AI</td>\n",
       "    </tr>\n",
       "    <tr>\n",
       "      <th>354971</th>\n",
       "      <td>2405.16511v1</td>\n",
       "      <td>cs.LG, cs.AI</td>\n",
       "    </tr>\n",
       "  </tbody>\n",
       "</table>\n",
       "<p>354972 rows × 2 columns</p>\n",
       "</div>"
      ],
      "text/plain": [
       "            paper_id                  categories\n",
       "0       2412.10373v1         cs.CV, cs.AI, cs.LG\n",
       "1       2412.10371v1  cs.CV, cs.AI, cs.LG, cs.RO\n",
       "2       2402.01886v2                cs.LG, cs.AI\n",
       "3       2412.10360v1                cs.CV, cs.AI\n",
       "4       2412.10354v1                cs.LG, cs.AI\n",
       "...              ...                         ...\n",
       "354967  2405.16585v1                cs.LG, cs.AI\n",
       "354968  2404.14786v2                cs.AI, cs.LG\n",
       "354969  2405.16557v1                cs.LG, cs.AI\n",
       "354970  2304.05749v2                cs.LG, cs.AI\n",
       "354971  2405.16511v1                cs.LG, cs.AI\n",
       "\n",
       "[354972 rows x 2 columns]"
      ]
     },
     "execution_count": 24,
     "metadata": {},
     "output_type": "execute_result"
    }
   ],
   "source": [
    "raw_df[['paper_id', 'categories']]"
   ]
  },
  {
   "cell_type": "markdown",
   "metadata": {
    "id": "Czc6Qk3lhWL3"
   },
   "source": [
    "Kiểm tra lại số lượng chủ đề tối đa có trong một bài báo và bài báo có bao nhiêu chủ đề là chiếm đa số?"
   ]
  },
  {
   "cell_type": "code",
   "execution_count": 25,
   "metadata": {
    "colab": {
     "base_uri": "https://localhost:8080/",
     "height": 366
    },
    "id": "FFfCthuZhWL3",
    "outputId": "d47942dd-4632-4982-9af5-f9c448261ffc"
   },
   "outputs": [
    {
     "data": {
      "text/plain": [
       "1    186238\n",
       "2    115213\n",
       "3     42121\n",
       "4      9702\n",
       "5      1652\n",
       "6        40\n",
       "7         5\n",
       "8         1\n",
       "Name: topic_count, dtype: int64"
      ]
     },
     "execution_count": 25,
     "metadata": {},
     "output_type": "execute_result"
    }
   ],
   "source": [
    "raw_df[\"topic_count\"] = raw_df[\"categories\"].apply(lambda x : len(x.split(',')))\n",
    "raw_df[\"topic_count\"].value_counts()"
   ]
  },
  {
   "cell_type": "code",
   "execution_count": 26,
   "metadata": {
    "id": "ol14Q0j7hWL3"
   },
   "outputs": [
    {
     "name": "stderr",
     "output_type": "stream",
     "text": [
      "/home/sinhtruc/miniconda3/envs/min_ds-env2/lib/python3.10/site-packages/seaborn/_decorators.py:36: FutureWarning: Pass the following variable as a keyword arg: x. From version 0.12, the only valid positional argument will be `data`, and passing other arguments without an explicit keyword will result in an error or misinterpretation.\n",
      "  warnings.warn(\n"
     ]
    },
    {
     "data": {
      "text/plain": [
       "Text(0, 0.5, 'Frequency')"
      ]
     },
     "execution_count": 26,
     "metadata": {},
     "output_type": "execute_result"
    },
    {
     "data": {
      "image/png": "[encoded data removed]",
      "text/plain": [
       "<Figure size 640x480 with 1 Axes>"
      ]
     },
     "metadata": {},
     "output_type": "display_data"
    }
   ],
   "source": [
    "sns.countplot(raw_df[\"topic_count\"])\n",
    "plt.title(\"Number of topic in artcile\")\n",
    "plt.xlabel(\"Number of topic\")\n",
    "plt.ylabel(\"Frequency\")"
   ]
  },
  {
   "cell_type": "markdown",
   "metadata": {
    "id": "VzMh28SxhWL3"
   },
   "source": [
    "### 3. Xu hướng xuất bản bài viết theo thời gian như thế nào? Có tăng lên theo từng năm hay không?"
   ]
  },
  {
   "cell_type": "code",
   "execution_count": 27,
   "metadata": {
    "id": "G7s-XdERhWL3"
   },
   "outputs": [],
   "source": [
    "raw_df['published_year'] = raw_df['published'].dt.year\n",
    "publication_trend = raw_df['published_year'].value_counts().sort_index()"
   ]
  },
  {
   "cell_type": "code",
   "execution_count": 28,
   "metadata": {
    "colab": {
     "base_uri": "https://localhost:8080/",
     "height": 607
    },
    "id": "l42HS5ychWL3",
    "outputId": "7c816c86-032a-444d-9149-287651790119"
   },
   "outputs": [
    {
     "data": {
      "image/png": "[encoded data removed]",
      "text/plain": [
       "<Figure size 1000x600 with 1 Axes>"
      ]
     },
     "metadata": {},
     "output_type": "display_data"
    }
   ],
   "source": [
    "plt.figure(figsize=(10, 6))\n",
    "plt.plot(publication_trend.index, publication_trend.values, marker='o', linestyle='-')\n",
    "plt.title(\"Xu hướng xuất bản bài viết theo thời gian\", fontsize=16)\n",
    "plt.xlabel(\"Năm\", fontsize=12)\n",
    "plt.ylabel(\"Số lượng bài viết\", fontsize=12)\n",
    "plt.grid(alpha=0.5)\n",
    "plt.xticks(publication_trend.index, rotation=45)\n",
    "plt.tight_layout()\n",
    "plt.show()"
   ]
  },
  {
   "cell_type": "markdown",
   "metadata": {
    "id": "hLmVaxIhhWL3"
   },
   "source": [
    "**Nhận xét về xu hướng xuất bản bài viết theo thời gian:**\n",
    "\n",
    "- Xu hướng tăng trưởng theo thời gian: Số lượng bài viết được xuất bản tăng rất ít và ổn định trong giai đoạn 1994 - 2010. Từ năm 2010 trở đi, số lượng bài viết bắt đầu tăng dần và có dấu hiệu tăng trưởng nhanh hơn. Giai đoạn 2017 - 2024 chứng kiến sự bùng nổ mạnh mẽ về số lượng bài viết, đặc biệt từ năm 2020 trở đi, đường biểu diễn cho thấy tốc độ tăng trưởng gần như theo cấp số nhân.\n",
    "\n",
    "- Bùng nổ trong những năm gần đây (2020 - 2024): Số lượng bài viết tăng đột biến, từ khoảng hơn 20,000 bài viết vào năm 2019 lên hơn 50,000 vào năm 2023. Năm 2024 dự đoán sẽ đạt mức kỷ lục, gần 100,000 bài viết.\n",
    "\n",
    "**Nguyên nhân có thể dẫn đến sự tăng trưởng mạnh:**\n",
    "\n",
    "- Phát triển công nghệ và trí tuệ nhân tạo (AI): Xu hướng nghiên cứu và xuất bản trong các lĩnh vực mới như AI, Machine Learning, và Khoa học dữ liệu thúc đẩy số lượng bài viết tăng mạnh.\n",
    "\n",
    "- Mở rộng các nền tảng xuất bản trực tuyến: Các nền tảng mở như arXiv đã tạo điều kiện thuận lợi cho việc chia sẻ nghiên cứu nhanh chóng và rộng rãi.\n",
    "\n",
    "- Sự gia tăng của các nhà nghiên cứu và tổ chức khoa học: Cộng đồng nghiên cứu khoa học ngày càng lớn mạnh và đóng góp nhiều bài viết hơn.\n",
    "\n",
    "**Giai đoạn ổn định trước năm 2010:** Trước năm 2010, số lượng bài viết tăng rất chậm và ổn định, cho thấy mức độ xuất bản nghiên cứu khoa học còn hạn chế."
   ]
  },
  {
   "cell_type": "markdown",
   "metadata": {
    "id": "V6Z5oWr5hWL3"
   },
   "source": [
    "### 4. Top 10 tác giả có số lượng bài viết cao nhất?"
   ]
  },
  {
   "cell_type": "code",
   "execution_count": 29,
   "metadata": {
    "colab": {
     "base_uri": "https://localhost:8080/"
    },
    "id": "UjNfEfAYhWL4",
    "outputId": "0a7c782a-91eb-4230-c278-701073f99d36"
   },
   "outputs": [
    {
     "name": "stdout",
     "output_type": "stream",
     "text": [
      "Top 10 tác giả có số lượng bài viết cao nhất:\n",
      "Oliver Knill                      68\n",
      "Sabah Al-Fedaghi                  63\n",
      "Yong Wang                         39\n",
      "Giorgi Japaridze                  36\n",
      "Gilles Dowek                      34\n",
      "Jaydip Sen                        33\n",
      "David Eppstein                    33\n",
      "Umakant Mishra                    32\n",
      "Olivier Finkel                    31\n",
      "Vadim E. Levit,Eugen Mandrescu    31\n",
      "Name: authors, dtype: int64\n"
     ]
    }
   ],
   "source": [
    "author_counts = raw_df['authors'].value_counts()\n",
    "top_10_authors = author_counts.head(10)\n",
    "print(\"Top 10 tác giả có số lượng bài viết cao nhất:\")\n",
    "print(top_10_authors)"
   ]
  },
  {
   "cell_type": "code",
   "execution_count": 30,
   "metadata": {
    "colab": {
     "base_uri": "https://localhost:8080/",
     "height": 607
    },
    "id": "icHPZpPihWL4",
    "outputId": "04ff098f-9341-4f7b-f086-e4c37b3e1dd6"
   },
   "outputs": [
    {
     "data": {
      "image/png": "[encoded data removed]",
      "text/plain": [
       "<Figure size 1000x600 with 1 Axes>"
      ]
     },
     "metadata": {},
     "output_type": "display_data"
    }
   ],
   "source": [
    "plt.figure(figsize=(10, 6))\n",
    "top_10_authors.plot(kind='bar', color='skyblue')\n",
    "plt.title('Top 10 tác giả có số lượng bài viết cao nhất', fontsize=16)\n",
    "plt.xlabel('Tác giả', fontsize=12)\n",
    "plt.ylabel('Số lượng bài viết', fontsize=12)\n",
    "plt.xticks(rotation=45, ha='right')\n",
    "plt.tight_layout()\n",
    "plt.show()"
   ]
  },
  {
   "cell_type": "markdown",
   "metadata": {
    "id": "UcYF6V0phWL4"
   },
   "source": [
    "**Nhận xét:**\n",
    "- Phân bố đóng góp của tác giả: Biểu đồ thể hiện rõ mức độ đóng góp của từng tác giả vào số lượng bài viết trong danh sách được thống kê. Tác giả Oliver Knill có sự đóng góp lớn nhất, chiếm tỷ lệ nổi trội so với các tác giả còn lại.\n",
    "\n",
    "- Nổi bật cá nhân: Oliver Knill và Sabah AI-Fedaghi là hai cá nhân nổi bật với số lượng bài viết cao, cho thấy họ có thể là những nhà nghiên cứu hoạt động tích cực và có sức ảnh hưởng lớn trong lĩnh vực được thống kê.\n",
    "\n",
    "- Đóng góp đồng đều ở các tác giả còn lại: Khoảng cách giữa các tác giả xếp từ vị trí thứ 3 đến thứ 10 tương đối nhỏ. Điều này cho thấy trong nhóm các nhà nghiên cứu hàng đầu, mức độ đóng góp khá đồng đều và không có sự chênh lệch lớn.\n",
    "\n",
    "- Vai trò quan trọng của nghiên cứu khoa học: Số lượng bài viết cao có thể phản ánh: Năng suất làm việc cao của các tác giả, Mức độ tham gia của họ trong cộng đồng nghiên cứu và học thuật, Khả năng mở rộng và phát triển các chủ đề nghiên cứu liên quan."
   ]
  },
  {
   "cell_type": "markdown",
   "metadata": {},
   "source": [
    "### 5. Số lượng bài báo có chủ đề công nghệ thông tin? Và từ đó cho thấy các lĩnh vực nghiên cứu nào xuất hiện nhiều nhất trong dữ liệu?"
   ]
  },
  {
   "cell_type": "code",
   "execution_count": 31,
   "metadata": {},
   "outputs": [
    {
     "data": {
      "text/html": [
       "<div>\n",
       "<style scoped>\n",
       "    .dataframe tbody tr th:only-of-type {\n",
       "        vertical-align: middle;\n",
       "    }\n",
       "\n",
       "    .dataframe tbody tr th {\n",
       "        vertical-align: top;\n",
       "    }\n",
       "\n",
       "    .dataframe thead th {\n",
       "        text-align: right;\n",
       "    }\n",
       "</style>\n",
       "<table border=\"1\" class=\"dataframe\">\n",
       "  <thead>\n",
       "    <tr style=\"text-align: right;\">\n",
       "      <th></th>\n",
       "      <th>Category</th>\n",
       "      <th>Count</th>\n",
       "    </tr>\n",
       "  </thead>\n",
       "  <tbody>\n",
       "    <tr>\n",
       "      <th>0</th>\n",
       "      <td>cs.LG</td>\n",
       "      <td>75872</td>\n",
       "    </tr>\n",
       "    <tr>\n",
       "      <th>1</th>\n",
       "      <td>cs.AI</td>\n",
       "      <td>54147</td>\n",
       "    </tr>\n",
       "    <tr>\n",
       "      <th>2</th>\n",
       "      <td>cs.CV</td>\n",
       "      <td>35064</td>\n",
       "    </tr>\n",
       "    <tr>\n",
       "      <th>3</th>\n",
       "      <td>cs.CL</td>\n",
       "      <td>33214</td>\n",
       "    </tr>\n",
       "    <tr>\n",
       "      <th>4</th>\n",
       "      <td>cs.CR</td>\n",
       "      <td>27859</td>\n",
       "    </tr>\n",
       "    <tr>\n",
       "      <th>5</th>\n",
       "      <td>cs.IT</td>\n",
       "      <td>27557</td>\n",
       "    </tr>\n",
       "    <tr>\n",
       "      <th>6</th>\n",
       "      <td>cs.RO</td>\n",
       "      <td>26638</td>\n",
       "    </tr>\n",
       "    <tr>\n",
       "      <th>7</th>\n",
       "      <td>cs.SY</td>\n",
       "      <td>25674</td>\n",
       "    </tr>\n",
       "    <tr>\n",
       "      <th>8</th>\n",
       "      <td>cs.DS</td>\n",
       "      <td>25082</td>\n",
       "    </tr>\n",
       "    <tr>\n",
       "      <th>9</th>\n",
       "      <td>cs.NA</td>\n",
       "      <td>24309</td>\n",
       "    </tr>\n",
       "    <tr>\n",
       "      <th>10</th>\n",
       "      <td>cs.NI</td>\n",
       "      <td>23371</td>\n",
       "    </tr>\n",
       "    <tr>\n",
       "      <th>11</th>\n",
       "      <td>cs.DC</td>\n",
       "      <td>23145</td>\n",
       "    </tr>\n",
       "    <tr>\n",
       "      <th>12</th>\n",
       "      <td>cs.CY</td>\n",
       "      <td>20850</td>\n",
       "    </tr>\n",
       "    <tr>\n",
       "      <th>13</th>\n",
       "      <td>cs.SI</td>\n",
       "      <td>20756</td>\n",
       "    </tr>\n",
       "    <tr>\n",
       "      <th>14</th>\n",
       "      <td>cs.HC</td>\n",
       "      <td>20525</td>\n",
       "    </tr>\n",
       "    <tr>\n",
       "      <th>15</th>\n",
       "      <td>cs.IR</td>\n",
       "      <td>18989</td>\n",
       "    </tr>\n",
       "    <tr>\n",
       "      <th>16</th>\n",
       "      <td>cs.SE</td>\n",
       "      <td>18322</td>\n",
       "    </tr>\n",
       "    <tr>\n",
       "      <th>17</th>\n",
       "      <td>cs.LO</td>\n",
       "      <td>16420</td>\n",
       "    </tr>\n",
       "    <tr>\n",
       "      <th>18</th>\n",
       "      <td>cs.NE</td>\n",
       "      <td>14945</td>\n",
       "    </tr>\n",
       "    <tr>\n",
       "      <th>19</th>\n",
       "      <td>cs.DM</td>\n",
       "      <td>13429</td>\n",
       "    </tr>\n",
       "    <tr>\n",
       "      <th>20</th>\n",
       "      <td>cs.CC</td>\n",
       "      <td>4769</td>\n",
       "    </tr>\n",
       "    <tr>\n",
       "      <th>21</th>\n",
       "      <td>cs.PL</td>\n",
       "      <td>3977</td>\n",
       "    </tr>\n",
       "    <tr>\n",
       "      <th>22</th>\n",
       "      <td>cs.GT</td>\n",
       "      <td>3687</td>\n",
       "    </tr>\n",
       "    <tr>\n",
       "      <th>23</th>\n",
       "      <td>cs.MA</td>\n",
       "      <td>3644</td>\n",
       "    </tr>\n",
       "    <tr>\n",
       "      <th>24</th>\n",
       "      <td>cs.DB</td>\n",
       "      <td>3558</td>\n",
       "    </tr>\n",
       "    <tr>\n",
       "      <th>25</th>\n",
       "      <td>cs.SD</td>\n",
       "      <td>3130</td>\n",
       "    </tr>\n",
       "    <tr>\n",
       "      <th>26</th>\n",
       "      <td>cs.MM</td>\n",
       "      <td>2618</td>\n",
       "    </tr>\n",
       "    <tr>\n",
       "      <th>27</th>\n",
       "      <td>cs.PF</td>\n",
       "      <td>2567</td>\n",
       "    </tr>\n",
       "    <tr>\n",
       "      <th>28</th>\n",
       "      <td>cs.CE</td>\n",
       "      <td>2247</td>\n",
       "    </tr>\n",
       "    <tr>\n",
       "      <th>29</th>\n",
       "      <td>cs.FL</td>\n",
       "      <td>2178</td>\n",
       "    </tr>\n",
       "    <tr>\n",
       "      <th>30</th>\n",
       "      <td>cs.CG</td>\n",
       "      <td>2130</td>\n",
       "    </tr>\n",
       "    <tr>\n",
       "      <th>31</th>\n",
       "      <td>cs.AR</td>\n",
       "      <td>1988</td>\n",
       "    </tr>\n",
       "    <tr>\n",
       "      <th>32</th>\n",
       "      <td>cs.GR</td>\n",
       "      <td>1898</td>\n",
       "    </tr>\n",
       "    <tr>\n",
       "      <th>33</th>\n",
       "      <td>cs.DL</td>\n",
       "      <td>1818</td>\n",
       "    </tr>\n",
       "    <tr>\n",
       "      <th>34</th>\n",
       "      <td>cs.ET</td>\n",
       "      <td>1690</td>\n",
       "    </tr>\n",
       "    <tr>\n",
       "      <th>35</th>\n",
       "      <td>cs.MS</td>\n",
       "      <td>956</td>\n",
       "    </tr>\n",
       "    <tr>\n",
       "      <th>36</th>\n",
       "      <td>cs.SC</td>\n",
       "      <td>682</td>\n",
       "    </tr>\n",
       "    <tr>\n",
       "      <th>37</th>\n",
       "      <td>cs.OS</td>\n",
       "      <td>470</td>\n",
       "    </tr>\n",
       "    <tr>\n",
       "      <th>38</th>\n",
       "      <td>cs.OH</td>\n",
       "      <td>126</td>\n",
       "    </tr>\n",
       "    <tr>\n",
       "      <th>39</th>\n",
       "      <td>cs.GL</td>\n",
       "      <td>76</td>\n",
       "    </tr>\n",
       "    <tr>\n",
       "      <th>40</th>\n",
       "      <td>cs.cc</td>\n",
       "      <td>1</td>\n",
       "    </tr>\n",
       "  </tbody>\n",
       "</table>\n",
       "</div>"
      ],
      "text/plain": [
       "   Category  Count\n",
       "0     cs.LG  75872\n",
       "1     cs.AI  54147\n",
       "2     cs.CV  35064\n",
       "3     cs.CL  33214\n",
       "4     cs.CR  27859\n",
       "5     cs.IT  27557\n",
       "6     cs.RO  26638\n",
       "7     cs.SY  25674\n",
       "8     cs.DS  25082\n",
       "9     cs.NA  24309\n",
       "10    cs.NI  23371\n",
       "11    cs.DC  23145\n",
       "12    cs.CY  20850\n",
       "13    cs.SI  20756\n",
       "14    cs.HC  20525\n",
       "15    cs.IR  18989\n",
       "16    cs.SE  18322\n",
       "17    cs.LO  16420\n",
       "18    cs.NE  14945\n",
       "19    cs.DM  13429\n",
       "20    cs.CC   4769\n",
       "21    cs.PL   3977\n",
       "22    cs.GT   3687\n",
       "23    cs.MA   3644\n",
       "24    cs.DB   3558\n",
       "25    cs.SD   3130\n",
       "26    cs.MM   2618\n",
       "27    cs.PF   2567\n",
       "28    cs.CE   2247\n",
       "29    cs.FL   2178\n",
       "30    cs.CG   2130\n",
       "31    cs.AR   1988\n",
       "32    cs.GR   1898\n",
       "33    cs.DL   1818\n",
       "34    cs.ET   1690\n",
       "35    cs.MS    956\n",
       "36    cs.SC    682\n",
       "37    cs.OS    470\n",
       "38    cs.OH    126\n",
       "39    cs.GL     76\n",
       "40    cs.cc      1"
      ]
     },
     "execution_count": 31,
     "metadata": {},
     "output_type": "execute_result"
    }
   ],
   "source": [
    "# Tách danh mục từ cột 'categories'\n",
    "categories_series = raw_df['categories'].str.split(',')\n",
    "\n",
    "# Làm phẳng danh sách các danh mục và loại bỏ khoảng trắng thừa\n",
    "all_categories = []\n",
    "for sublist in categories_series:\n",
    "    for category in sublist:\n",
    "        all_categories.append(category.strip())\n",
    "\n",
    "# Đếm tần suất xuất hiện của từng danh mục\n",
    "category_counts = Counter(all_categories)\n",
    "\n",
    "# Tạo DataFrame từ kết quả đếm\n",
    "category_counts_df = pd.DataFrame(category_counts.items(), columns=['Category', 'Count']).sort_values(by='Count', ascending=False)\n",
    "\n",
    "# Lọc chỉ các danh mục bắt đầu với \"cs.\"\n",
    "cs_categories = category_counts_df[category_counts_df['Category'].str.startswith('cs.')].reset_index(drop=True)\n",
    "cs_categories"
   ]
  },
  {
   "cell_type": "code",
   "execution_count": 32,
   "metadata": {},
   "outputs": [
    {
     "data": {
      "image/png": "[encoded data removed]",
      "text/plain": [
       "<Figure size 1200x600 with 1 Axes>"
      ]
     },
     "metadata": {},
     "output_type": "display_data"
    }
   ],
   "source": [
    "plt.figure(figsize=(12, 6))\n",
    "plt.bar(cs_categories['Category'], cs_categories['Count'], color='skyblue')\n",
    "plt.title('Topic Starting with \"cs.\"', fontsize=16)\n",
    "plt.xlabel('Topic', fontsize=12)\n",
    "plt.ylabel('Count', fontsize=12)\n",
    "plt.xticks(rotation=45, ha='right')\n",
    "plt.grid(axis='y', linestyle='--', alpha=0.7)\n",
    "plt.tight_layout()\n",
    "plt.show()"
   ]
  },
  {
   "cell_type": "markdown",
   "metadata": {},
   "source": [
    "**Nhận xét:**\n",
    "- Xu hướng nghiên cứu tập trung chủ yếu vào các lĩnh vực Machine Learning (cs.LG), AI (cs.AI), và Computer Vision (cs.CV).\n",
    "- Các chủ đề liên quan đến bảo mật (cs.CR), công nghệ thông tin (cs.IT), thuật toán (cs.DS), và robot (cs.RO) cũng nhận được sự quan tâm đáng kể.\n",
    "- Một số chủ đề truyền thống như Operating Systems (cs.OS) hoặc Computational Complexity (cs.CC) hiện có ít nghiên cứu hơn, phản ánh sự thay đổi ưu tiên trong cộng đồng khoa học máy tính."
   ]
  },
  {
   "cell_type": "markdown",
   "metadata": {},
   "source": [
    "### Với sự khám phá ở câu hỏi số 5. \n",
    "Chúng em nhận thấy rằng các chủ đề ở sau có khá ít bài báo. Dẫn đến khi huấn luyện sẽ ảnh hưởng đến độ chính xác của mô hình. Vậy nên nhóm chúng em chọn ra 20 chủ đề với số lượng bài báo là cao nhất."
   ]
  },
  {
   "cell_type": "code",
   "execution_count": 33,
   "metadata": {},
   "outputs": [
    {
     "data": {
      "text/plain": [
       "(314049, 10)"
      ]
     },
     "execution_count": 33,
     "metadata": {},
     "output_type": "execute_result"
    }
   ],
   "source": [
    "dict_category = {}\n",
    "for id, key in enumerate(cs_categories['Category']):\n",
    "    if id < 20: # 20 chủ đề với số lượng bài báo cao nhất\n",
    "        dict_category[key] = 1\n",
    "    else:\n",
    "        dict_category[key] = 0\n",
    "# Định nghĩa hàm điều kiện\n",
    "def condition_to_delete(x):\n",
    "    for category in x.split(','):\n",
    "        if dict_category[category.strip()] == 0:\n",
    "            return True\n",
    "    return False\n",
    "\n",
    "# Áp dụng hàm để lọc các dòng\n",
    "raw_df = raw_df[~raw_df['categories'].apply(condition_to_delete)]\n",
    "raw_df.shape"
   ]
  },
  {
   "cell_type": "code",
   "execution_count": 34,
   "metadata": {},
   "outputs": [
    {
     "data": {
      "text/html": [
       "<div>\n",
       "<style scoped>\n",
       "    .dataframe tbody tr th:only-of-type {\n",
       "        vertical-align: middle;\n",
       "    }\n",
       "\n",
       "    .dataframe tbody tr th {\n",
       "        vertical-align: top;\n",
       "    }\n",
       "\n",
       "    .dataframe thead th {\n",
       "        text-align: right;\n",
       "    }\n",
       "</style>\n",
       "<table border=\"1\" class=\"dataframe\">\n",
       "  <thead>\n",
       "    <tr style=\"text-align: right;\">\n",
       "      <th></th>\n",
       "      <th>paper_id</th>\n",
       "      <th>authors</th>\n",
       "      <th>updated</th>\n",
       "      <th>published</th>\n",
       "      <th>title</th>\n",
       "      <th>abstract</th>\n",
       "      <th>categories</th>\n",
       "      <th>comment</th>\n",
       "      <th>topic_count</th>\n",
       "      <th>published_year</th>\n",
       "    </tr>\n",
       "  </thead>\n",
       "  <tbody>\n",
       "    <tr>\n",
       "      <th>0</th>\n",
       "      <td>2412.10373v1</td>\n",
       "      <td>Sicheng Zuo,Wenzhao Zheng,Yuanhui Huang,Jie Zh...</td>\n",
       "      <td>2024-12-13 18:59:54</td>\n",
       "      <td>2024-12-13 18:59:54</td>\n",
       "      <td>GaussianWorld: Gaussian World Model for Stream...</td>\n",
       "      <td>3D occupancy prediction is important for aut...</td>\n",
       "      <td>cs.CV, cs.AI, cs.LG</td>\n",
       "      <td>Code is available at: https://github.com/zuosc...</td>\n",
       "      <td>3</td>\n",
       "      <td>2024</td>\n",
       "    </tr>\n",
       "    <tr>\n",
       "      <th>1</th>\n",
       "      <td>2412.10371v1</td>\n",
       "      <td>Wenzhao Zheng,Junjie Wu,Yao Zheng,Sicheng Zuo,...</td>\n",
       "      <td>2024-12-13 18:59:30</td>\n",
       "      <td>2024-12-13 18:59:30</td>\n",
       "      <td>GaussianAD: Gaussian-Centric End-to-End Autono...</td>\n",
       "      <td>Vision-based autonomous driving shows great ...</td>\n",
       "      <td>cs.CV, cs.AI, cs.LG, cs.RO</td>\n",
       "      <td>Code is available at: https://github.com/wzzhe...</td>\n",
       "      <td>4</td>\n",
       "      <td>2024</td>\n",
       "    </tr>\n",
       "    <tr>\n",
       "      <th>2</th>\n",
       "      <td>2402.01886v2</td>\n",
       "      <td>Mark Beliaev,Ramtin Pedarsani</td>\n",
       "      <td>2024-12-13 18:59:14</td>\n",
       "      <td>2024-02-02 20:21:09</td>\n",
       "      <td>Inverse Reinforcement Learning by Estimating E...</td>\n",
       "      <td>In Imitation Learning (IL), utilizing subopt...</td>\n",
       "      <td>cs.LG, cs.AI</td>\n",
       "      <td>11 pages, 4 figures, extended version of AAAI ...</td>\n",
       "      <td>2</td>\n",
       "      <td>2024</td>\n",
       "    </tr>\n",
       "    <tr>\n",
       "      <th>3</th>\n",
       "      <td>2412.10360v1</td>\n",
       "      <td>Orr Zohar,Xiaohan Wang,Yann Dubois,Nikhil Meht...</td>\n",
       "      <td>2024-12-13 18:53:24</td>\n",
       "      <td>2024-12-13 18:53:24</td>\n",
       "      <td>Apollo: An Exploration of Video Understanding ...</td>\n",
       "      <td>Despite the rapid integration of video perce...</td>\n",
       "      <td>cs.CV, cs.AI</td>\n",
       "      <td>https://apollo-lmms.github.io</td>\n",
       "      <td>2</td>\n",
       "      <td>2024</td>\n",
       "    </tr>\n",
       "    <tr>\n",
       "      <th>4</th>\n",
       "      <td>2412.10354v1</td>\n",
       "      <td>Jean Kossaifi,Nikola Kovachki,Zongyi Li,Davit ...</td>\n",
       "      <td>2024-12-13 18:49:37</td>\n",
       "      <td>2024-12-13 18:49:37</td>\n",
       "      <td>A Library for Learning Neural Operators</td>\n",
       "      <td>We present NeuralOperator, an open-source Py...</td>\n",
       "      <td>cs.LG, cs.AI</td>\n",
       "      <td>Not available</td>\n",
       "      <td>2</td>\n",
       "      <td>2024</td>\n",
       "    </tr>\n",
       "    <tr>\n",
       "      <th>...</th>\n",
       "      <td>...</td>\n",
       "      <td>...</td>\n",
       "      <td>...</td>\n",
       "      <td>...</td>\n",
       "      <td>...</td>\n",
       "      <td>...</td>\n",
       "      <td>...</td>\n",
       "      <td>...</td>\n",
       "      <td>...</td>\n",
       "      <td>...</td>\n",
       "    </tr>\n",
       "    <tr>\n",
       "      <th>354967</th>\n",
       "      <td>2405.16585v1</td>\n",
       "      <td>Yuhang Chen,Wenke Huang,Mang Ye</td>\n",
       "      <td>2024-05-26 14:29:10</td>\n",
       "      <td>2024-05-26 14:29:10</td>\n",
       "      <td>Fair Federated Learning under Domain Skew with...</td>\n",
       "      <td>Federated learning (FL) has emerged as a new...</td>\n",
       "      <td>cs.LG, cs.AI</td>\n",
       "      <td>Accepted by CVPR2024</td>\n",
       "      <td>2</td>\n",
       "      <td>2024</td>\n",
       "    </tr>\n",
       "    <tr>\n",
       "      <th>354968</th>\n",
       "      <td>2404.14786v2</td>\n",
       "      <td>Peiwen Li,Xin Wang,Zeyang Zhang,Yuan Meng,Fang...</td>\n",
       "      <td>2024-05-26 13:08:00</td>\n",
       "      <td>2024-04-23 06:52:40</td>\n",
       "      <td>RealTCD: Temporal Causal Discovery from Interv...</td>\n",
       "      <td>In the field of Artificial Intelligence for ...</td>\n",
       "      <td>cs.AI, cs.LG</td>\n",
       "      <td>Not available</td>\n",
       "      <td>2</td>\n",
       "      <td>2024</td>\n",
       "    </tr>\n",
       "    <tr>\n",
       "      <th>354969</th>\n",
       "      <td>2405.16557v1</td>\n",
       "      <td>Chun-Kai Huang,Yi-Hsien Hsieh,Ta-Jung Chien,Li...</td>\n",
       "      <td>2024-05-26 13:06:45</td>\n",
       "      <td>2024-05-26 13:06:45</td>\n",
       "      <td>Scalable Numerical Embeddings for Multivariate...</td>\n",
       "      <td>Multivariate time series (MTS) data, when sa...</td>\n",
       "      <td>cs.LG, cs.AI</td>\n",
       "      <td>Not available</td>\n",
       "      <td>2</td>\n",
       "      <td>2024</td>\n",
       "    </tr>\n",
       "    <tr>\n",
       "      <th>354970</th>\n",
       "      <td>2304.05749v2</td>\n",
       "      <td>Yuxing Tian,Mingjie Zhu,Jiachi Luo,Song Li</td>\n",
       "      <td>2024-05-26 10:47:29</td>\n",
       "      <td>2023-04-12 10:05:07</td>\n",
       "      <td>Boosting long-term forecasting performance for...</td>\n",
       "      <td>This study focuses on long-term forecasting ...</td>\n",
       "      <td>cs.LG, cs.AI</td>\n",
       "      <td>Recent evidence has emerged that directly cont...</td>\n",
       "      <td>2</td>\n",
       "      <td>2023</td>\n",
       "    </tr>\n",
       "    <tr>\n",
       "      <th>354971</th>\n",
       "      <td>2405.16511v1</td>\n",
       "      <td>Hongfei Wu,Lijun Wu,Guoqing Liu,Zhirong Liu,Bi...</td>\n",
       "      <td>2024-05-26 10:43:16</td>\n",
       "      <td>2024-05-26 10:43:16</td>\n",
       "      <td>SE3Set: Harnessing equivariant hypergraph neur...</td>\n",
       "      <td>In this paper, we develop SE3Set, an SE(3) e...</td>\n",
       "      <td>cs.LG, cs.AI</td>\n",
       "      <td>Not available</td>\n",
       "      <td>2</td>\n",
       "      <td>2024</td>\n",
       "    </tr>\n",
       "  </tbody>\n",
       "</table>\n",
       "<p>314049 rows × 10 columns</p>\n",
       "</div>"
      ],
      "text/plain": [
       "            paper_id                                            authors  \\\n",
       "0       2412.10373v1  Sicheng Zuo,Wenzhao Zheng,Yuanhui Huang,Jie Zh...   \n",
       "1       2412.10371v1  Wenzhao Zheng,Junjie Wu,Yao Zheng,Sicheng Zuo,...   \n",
       "2       2402.01886v2                      Mark Beliaev,Ramtin Pedarsani   \n",
       "3       2412.10360v1  Orr Zohar,Xiaohan Wang,Yann Dubois,Nikhil Meht...   \n",
       "4       2412.10354v1  Jean Kossaifi,Nikola Kovachki,Zongyi Li,Davit ...   \n",
       "...              ...                                                ...   \n",
       "354967  2405.16585v1                    Yuhang Chen,Wenke Huang,Mang Ye   \n",
       "354968  2404.14786v2  Peiwen Li,Xin Wang,Zeyang Zhang,Yuan Meng,Fang...   \n",
       "354969  2405.16557v1  Chun-Kai Huang,Yi-Hsien Hsieh,Ta-Jung Chien,Li...   \n",
       "354970  2304.05749v2         Yuxing Tian,Mingjie Zhu,Jiachi Luo,Song Li   \n",
       "354971  2405.16511v1  Hongfei Wu,Lijun Wu,Guoqing Liu,Zhirong Liu,Bi...   \n",
       "\n",
       "                   updated           published  \\\n",
       "0      2024-12-13 18:59:54 2024-12-13 18:59:54   \n",
       "1      2024-12-13 18:59:30 2024-12-13 18:59:30   \n",
       "2      2024-12-13 18:59:14 2024-02-02 20:21:09   \n",
       "3      2024-12-13 18:53:24 2024-12-13 18:53:24   \n",
       "4      2024-12-13 18:49:37 2024-12-13 18:49:37   \n",
       "...                    ...                 ...   \n",
       "354967 2024-05-26 14:29:10 2024-05-26 14:29:10   \n",
       "354968 2024-05-26 13:08:00 2024-04-23 06:52:40   \n",
       "354969 2024-05-26 13:06:45 2024-05-26 13:06:45   \n",
       "354970 2024-05-26 10:47:29 2023-04-12 10:05:07   \n",
       "354971 2024-05-26 10:43:16 2024-05-26 10:43:16   \n",
       "\n",
       "                                                    title  \\\n",
       "0       GaussianWorld: Gaussian World Model for Stream...   \n",
       "1       GaussianAD: Gaussian-Centric End-to-End Autono...   \n",
       "2       Inverse Reinforcement Learning by Estimating E...   \n",
       "3       Apollo: An Exploration of Video Understanding ...   \n",
       "4                 A Library for Learning Neural Operators   \n",
       "...                                                   ...   \n",
       "354967  Fair Federated Learning under Domain Skew with...   \n",
       "354968  RealTCD: Temporal Causal Discovery from Interv...   \n",
       "354969  Scalable Numerical Embeddings for Multivariate...   \n",
       "354970  Boosting long-term forecasting performance for...   \n",
       "354971  SE3Set: Harnessing equivariant hypergraph neur...   \n",
       "\n",
       "                                                 abstract  \\\n",
       "0         3D occupancy prediction is important for aut...   \n",
       "1         Vision-based autonomous driving shows great ...   \n",
       "2         In Imitation Learning (IL), utilizing subopt...   \n",
       "3         Despite the rapid integration of video perce...   \n",
       "4         We present NeuralOperator, an open-source Py...   \n",
       "...                                                   ...   \n",
       "354967    Federated learning (FL) has emerged as a new...   \n",
       "354968    In the field of Artificial Intelligence for ...   \n",
       "354969    Multivariate time series (MTS) data, when sa...   \n",
       "354970    This study focuses on long-term forecasting ...   \n",
       "354971    In this paper, we develop SE3Set, an SE(3) e...   \n",
       "\n",
       "                        categories  \\\n",
       "0              cs.CV, cs.AI, cs.LG   \n",
       "1       cs.CV, cs.AI, cs.LG, cs.RO   \n",
       "2                     cs.LG, cs.AI   \n",
       "3                     cs.CV, cs.AI   \n",
       "4                     cs.LG, cs.AI   \n",
       "...                            ...   \n",
       "354967                cs.LG, cs.AI   \n",
       "354968                cs.AI, cs.LG   \n",
       "354969                cs.LG, cs.AI   \n",
       "354970                cs.LG, cs.AI   \n",
       "354971                cs.LG, cs.AI   \n",
       "\n",
       "                                                  comment  topic_count  \\\n",
       "0       Code is available at: https://github.com/zuosc...            3   \n",
       "1       Code is available at: https://github.com/wzzhe...            4   \n",
       "2       11 pages, 4 figures, extended version of AAAI ...            2   \n",
       "3                           https://apollo-lmms.github.io            2   \n",
       "4                                           Not available            2   \n",
       "...                                                   ...          ...   \n",
       "354967                               Accepted by CVPR2024            2   \n",
       "354968                                      Not available            2   \n",
       "354969                                      Not available            2   \n",
       "354970  Recent evidence has emerged that directly cont...            2   \n",
       "354971                                      Not available            2   \n",
       "\n",
       "        published_year  \n",
       "0                 2024  \n",
       "1                 2024  \n",
       "2                 2024  \n",
       "3                 2024  \n",
       "4                 2024  \n",
       "...                ...  \n",
       "354967            2024  \n",
       "354968            2024  \n",
       "354969            2024  \n",
       "354970            2023  \n",
       "354971            2024  \n",
       "\n",
       "[314049 rows x 10 columns]"
      ]
     },
     "execution_count": 34,
     "metadata": {},
     "output_type": "execute_result"
    }
   ],
   "source": [
    "raw_df"
   ]
  },
  {
   "cell_type": "code",
   "execution_count": 37,
   "metadata": {
    "collapsed": true
   },
   "outputs": [
    {
     "name": "stderr",
     "output_type": "stream",
     "text": [
      "[nltk_data] Downloading package punkt to /home/sinhtruc/nltk_data...\n",
      "[nltk_data]   Package punkt is already up-to-date!\n",
      "[nltk_data] Downloading package stopwords to\n",
      "[nltk_data]     /home/sinhtruc/nltk_data...\n",
      "[nltk_data]   Package stopwords is already up-to-date!\n",
      "[nltk_data] Downloading package wordnet to /home/sinhtruc/nltk_data...\n",
      "[nltk_data]   Package wordnet is already up-to-date!\n",
      "/tmp/ipykernel_512/84286581.py:16: SettingWithCopyWarning: \n",
      "A value is trying to be set on a copy of a slice from a DataFrame.\n",
      "Try using .loc[row_indexer,col_indexer] = value instead\n",
      "\n",
      "See the caveats in the documentation: https://pandas.pydata.org/pandas-docs/stable/user_guide/indexing.html#returning-a-view-versus-a-copy\n",
      "  raw_df['categorieslist'] = raw_df['categories'].apply(lambda x: x.split(', '))\n"
     ]
    },
    {
     "ename": "KeyboardInterrupt",
     "evalue": "",
     "output_type": "error",
     "traceback": [
      "\u001b[0;31m---------------------------------------------------------------------------\u001b[0m",
      "\u001b[0;31mKeyboardInterrupt\u001b[0m                         Traceback (most recent call last)",
      "Cell \u001b[0;32mIn[37], line 25\u001b[0m\n\u001b[1;32m     22\u001b[0m lemmatizer \u001b[38;5;241m=\u001b[39m WordNetLemmatizer()\n\u001b[1;32m     23\u001b[0m stop_words \u001b[38;5;241m=\u001b[39m \u001b[38;5;28mset\u001b[39m(stopwords\u001b[38;5;241m.\u001b[39mwords(\u001b[38;5;124m'\u001b[39m\u001b[38;5;124menglish\u001b[39m\u001b[38;5;124m'\u001b[39m))\n\u001b[0;32m---> 25\u001b[0m raw_df[\u001b[38;5;124m'\u001b[39m\u001b[38;5;124mtext\u001b[39m\u001b[38;5;124m'\u001b[39m] \u001b[38;5;241m=\u001b[39m \u001b[43mraw_df\u001b[49m\u001b[43m[\u001b[49m\u001b[38;5;124;43m'\u001b[39;49m\u001b[38;5;124;43mtitle\u001b[39;49m\u001b[38;5;124;43m'\u001b[39;49m\u001b[43m]\u001b[49m\u001b[43m \u001b[49m\u001b[38;5;241;43m+\u001b[39;49m\u001b[43m \u001b[49m\u001b[38;5;124;43m\"\u001b[39;49m\u001b[38;5;124;43m \u001b[39;49m\u001b[38;5;124;43m\"\u001b[39;49m\u001b[43m \u001b[49m\u001b[38;5;241;43m+\u001b[39;49m\u001b[43m \u001b[49m\u001b[43mraw_df\u001b[49m\u001b[43m[\u001b[49m\u001b[38;5;124;43m'\u001b[39;49m\u001b[38;5;124;43mabstract\u001b[39;49m\u001b[38;5;124;43m'\u001b[39;49m\u001b[43m]\u001b[49m\n\u001b[1;32m     26\u001b[0m raw_df[\u001b[38;5;124m'\u001b[39m\u001b[38;5;124mtext\u001b[39m\u001b[38;5;124m'\u001b[39m] \u001b[38;5;241m=\u001b[39m raw_df[\u001b[38;5;124m'\u001b[39m\u001b[38;5;124mtext\u001b[39m\u001b[38;5;124m'\u001b[39m]\u001b[38;5;241m.\u001b[39mstr\u001b[38;5;241m.\u001b[39mlower()\n\u001b[1;32m     27\u001b[0m raw_df[\u001b[38;5;124m'\u001b[39m\u001b[38;5;124mtext\u001b[39m\u001b[38;5;124m'\u001b[39m] \u001b[38;5;241m=\u001b[39m raw_df[\u001b[38;5;124m'\u001b[39m\u001b[38;5;124mtext\u001b[39m\u001b[38;5;124m'\u001b[39m]\u001b[38;5;241m.\u001b[39mapply(\u001b[38;5;28;01mlambda\u001b[39;00m x: re\u001b[38;5;241m.\u001b[39msub(\u001b[38;5;124mr\u001b[39m\u001b[38;5;124m'\u001b[39m\u001b[38;5;124m[^a-z\u001b[39m\u001b[38;5;124m\\\u001b[39m\u001b[38;5;124ms]\u001b[39m\u001b[38;5;124m'\u001b[39m, \u001b[38;5;124m'\u001b[39m\u001b[38;5;124m'\u001b[39m, x))\n",
      "File \u001b[0;32m~/miniconda3/envs/min_ds-env2/lib/python3.10/site-packages/pandas/core/ops/common.py:70\u001b[0m, in \u001b[0;36m_unpack_zerodim_and_defer.<locals>.new_method\u001b[0;34m(self, other)\u001b[0m\n\u001b[1;32m     66\u001b[0m             \u001b[38;5;28;01mreturn\u001b[39;00m \u001b[38;5;28mNotImplemented\u001b[39m\n\u001b[1;32m     68\u001b[0m other \u001b[38;5;241m=\u001b[39m item_from_zerodim(other)\n\u001b[0;32m---> 70\u001b[0m \u001b[38;5;28;01mreturn\u001b[39;00m \u001b[43mmethod\u001b[49m\u001b[43m(\u001b[49m\u001b[38;5;28;43mself\u001b[39;49m\u001b[43m,\u001b[49m\u001b[43m \u001b[49m\u001b[43mother\u001b[49m\u001b[43m)\u001b[49m\n",
      "File \u001b[0;32m~/miniconda3/envs/min_ds-env2/lib/python3.10/site-packages/pandas/core/arraylike.py:100\u001b[0m, in \u001b[0;36mOpsMixin.__add__\u001b[0;34m(self, other)\u001b[0m\n\u001b[1;32m     98\u001b[0m \u001b[38;5;129m@unpack_zerodim_and_defer\u001b[39m(\u001b[38;5;124m\"\u001b[39m\u001b[38;5;124m__add__\u001b[39m\u001b[38;5;124m\"\u001b[39m)\n\u001b[1;32m     99\u001b[0m \u001b[38;5;28;01mdef\u001b[39;00m \u001b[38;5;21m__add__\u001b[39m(\u001b[38;5;28mself\u001b[39m, other):\n\u001b[0;32m--> 100\u001b[0m     \u001b[38;5;28;01mreturn\u001b[39;00m \u001b[38;5;28;43mself\u001b[39;49m\u001b[38;5;241;43m.\u001b[39;49m\u001b[43m_arith_method\u001b[49m\u001b[43m(\u001b[49m\u001b[43mother\u001b[49m\u001b[43m,\u001b[49m\u001b[43m \u001b[49m\u001b[43moperator\u001b[49m\u001b[38;5;241;43m.\u001b[39;49m\u001b[43madd\u001b[49m\u001b[43m)\u001b[49m\n",
      "File \u001b[0;32m~/miniconda3/envs/min_ds-env2/lib/python3.10/site-packages/pandas/core/series.py:5639\u001b[0m, in \u001b[0;36mSeries._arith_method\u001b[0;34m(self, other, op)\u001b[0m\n\u001b[1;32m   5637\u001b[0m \u001b[38;5;28;01mdef\u001b[39;00m \u001b[38;5;21m_arith_method\u001b[39m(\u001b[38;5;28mself\u001b[39m, other, op):\n\u001b[1;32m   5638\u001b[0m     \u001b[38;5;28mself\u001b[39m, other \u001b[38;5;241m=\u001b[39m ops\u001b[38;5;241m.\u001b[39malign_method_SERIES(\u001b[38;5;28mself\u001b[39m, other)\n\u001b[0;32m-> 5639\u001b[0m     \u001b[38;5;28;01mreturn\u001b[39;00m \u001b[43mbase\u001b[49m\u001b[38;5;241;43m.\u001b[39;49m\u001b[43mIndexOpsMixin\u001b[49m\u001b[38;5;241;43m.\u001b[39;49m\u001b[43m_arith_method\u001b[49m\u001b[43m(\u001b[49m\u001b[38;5;28;43mself\u001b[39;49m\u001b[43m,\u001b[49m\u001b[43m \u001b[49m\u001b[43mother\u001b[49m\u001b[43m,\u001b[49m\u001b[43m \u001b[49m\u001b[43mop\u001b[49m\u001b[43m)\u001b[49m\n",
      "File \u001b[0;32m~/miniconda3/envs/min_ds-env2/lib/python3.10/site-packages/pandas/core/base.py:1295\u001b[0m, in \u001b[0;36mIndexOpsMixin._arith_method\u001b[0;34m(self, other, op)\u001b[0m\n\u001b[1;32m   1292\u001b[0m rvalues \u001b[38;5;241m=\u001b[39m ensure_wrapped_if_datetimelike(rvalues)\n\u001b[1;32m   1294\u001b[0m \u001b[38;5;28;01mwith\u001b[39;00m np\u001b[38;5;241m.\u001b[39merrstate(\u001b[38;5;28mall\u001b[39m\u001b[38;5;241m=\u001b[39m\u001b[38;5;124m\"\u001b[39m\u001b[38;5;124mignore\u001b[39m\u001b[38;5;124m\"\u001b[39m):\n\u001b[0;32m-> 1295\u001b[0m     result \u001b[38;5;241m=\u001b[39m \u001b[43mops\u001b[49m\u001b[38;5;241;43m.\u001b[39;49m\u001b[43marithmetic_op\u001b[49m\u001b[43m(\u001b[49m\u001b[43mlvalues\u001b[49m\u001b[43m,\u001b[49m\u001b[43m \u001b[49m\u001b[43mrvalues\u001b[49m\u001b[43m,\u001b[49m\u001b[43m \u001b[49m\u001b[43mop\u001b[49m\u001b[43m)\u001b[49m\n\u001b[1;32m   1297\u001b[0m \u001b[38;5;28;01mreturn\u001b[39;00m \u001b[38;5;28mself\u001b[39m\u001b[38;5;241m.\u001b[39m_construct_result(result, name\u001b[38;5;241m=\u001b[39mres_name)\n",
      "File \u001b[0;32m~/miniconda3/envs/min_ds-env2/lib/python3.10/site-packages/pandas/core/ops/array_ops.py:222\u001b[0m, in \u001b[0;36marithmetic_op\u001b[0;34m(left, right, op)\u001b[0m\n\u001b[1;32m    217\u001b[0m \u001b[38;5;28;01melse\u001b[39;00m:\n\u001b[1;32m    218\u001b[0m     \u001b[38;5;66;03m# TODO we should handle EAs consistently and move this check before the if/else\u001b[39;00m\n\u001b[1;32m    219\u001b[0m     \u001b[38;5;66;03m# (https://github.com/pandas-dev/pandas/issues/41165)\u001b[39;00m\n\u001b[1;32m    220\u001b[0m     _bool_arith_check(op, left, right)\n\u001b[0;32m--> 222\u001b[0m     res_values \u001b[38;5;241m=\u001b[39m \u001b[43m_na_arithmetic_op\u001b[49m\u001b[43m(\u001b[49m\u001b[43mleft\u001b[49m\u001b[43m,\u001b[49m\u001b[43m \u001b[49m\u001b[43mright\u001b[49m\u001b[43m,\u001b[49m\u001b[43m \u001b[49m\u001b[43mop\u001b[49m\u001b[43m)\u001b[49m\n\u001b[1;32m    224\u001b[0m \u001b[38;5;28;01mreturn\u001b[39;00m res_values\n",
      "File \u001b[0;32m~/miniconda3/envs/min_ds-env2/lib/python3.10/site-packages/pandas/core/ops/array_ops.py:163\u001b[0m, in \u001b[0;36m_na_arithmetic_op\u001b[0;34m(left, right, op, is_cmp)\u001b[0m\n\u001b[1;32m    160\u001b[0m     func \u001b[38;5;241m=\u001b[39m partial(expressions\u001b[38;5;241m.\u001b[39mevaluate, op)\n\u001b[1;32m    162\u001b[0m \u001b[38;5;28;01mtry\u001b[39;00m:\n\u001b[0;32m--> 163\u001b[0m     result \u001b[38;5;241m=\u001b[39m \u001b[43mfunc\u001b[49m\u001b[43m(\u001b[49m\u001b[43mleft\u001b[49m\u001b[43m,\u001b[49m\u001b[43m \u001b[49m\u001b[43mright\u001b[49m\u001b[43m)\u001b[49m\n\u001b[1;32m    164\u001b[0m \u001b[38;5;28;01mexcept\u001b[39;00m \u001b[38;5;167;01mTypeError\u001b[39;00m:\n\u001b[1;32m    165\u001b[0m     \u001b[38;5;28;01mif\u001b[39;00m \u001b[38;5;129;01mnot\u001b[39;00m is_cmp \u001b[38;5;129;01mand\u001b[39;00m (is_object_dtype(left\u001b[38;5;241m.\u001b[39mdtype) \u001b[38;5;129;01mor\u001b[39;00m is_object_dtype(right)):\n\u001b[1;32m    166\u001b[0m         \u001b[38;5;66;03m# For object dtype, fallback to a masked operation (only operating\u001b[39;00m\n\u001b[1;32m    167\u001b[0m         \u001b[38;5;66;03m#  on the non-missing values)\u001b[39;00m\n\u001b[1;32m    168\u001b[0m         \u001b[38;5;66;03m# Don't do this for comparisons, as that will handle complex numbers\u001b[39;00m\n\u001b[1;32m    169\u001b[0m         \u001b[38;5;66;03m#  incorrectly, see GH#32047\u001b[39;00m\n",
      "File \u001b[0;32m~/miniconda3/envs/min_ds-env2/lib/python3.10/site-packages/pandas/core/computation/expressions.py:239\u001b[0m, in \u001b[0;36mevaluate\u001b[0;34m(op, a, b, use_numexpr)\u001b[0m\n\u001b[1;32m    236\u001b[0m \u001b[38;5;28;01mif\u001b[39;00m op_str \u001b[38;5;129;01mis\u001b[39;00m \u001b[38;5;129;01mnot\u001b[39;00m \u001b[38;5;28;01mNone\u001b[39;00m:\n\u001b[1;32m    237\u001b[0m     \u001b[38;5;28;01mif\u001b[39;00m use_numexpr:\n\u001b[1;32m    238\u001b[0m         \u001b[38;5;66;03m# error: \"None\" not callable\u001b[39;00m\n\u001b[0;32m--> 239\u001b[0m         \u001b[38;5;28;01mreturn\u001b[39;00m \u001b[43m_evaluate\u001b[49m\u001b[43m(\u001b[49m\u001b[43mop\u001b[49m\u001b[43m,\u001b[49m\u001b[43m \u001b[49m\u001b[43mop_str\u001b[49m\u001b[43m,\u001b[49m\u001b[43m \u001b[49m\u001b[43ma\u001b[49m\u001b[43m,\u001b[49m\u001b[43m \u001b[49m\u001b[43mb\u001b[49m\u001b[43m)\u001b[49m  \u001b[38;5;66;03m# type: ignore[misc]\u001b[39;00m\n\u001b[1;32m    240\u001b[0m \u001b[38;5;28;01mreturn\u001b[39;00m _evaluate_standard(op, op_str, a, b)\n",
      "File \u001b[0;32m~/miniconda3/envs/min_ds-env2/lib/python3.10/site-packages/pandas/core/computation/expressions.py:69\u001b[0m, in \u001b[0;36m_evaluate_standard\u001b[0;34m(op, op_str, a, b)\u001b[0m\n\u001b[1;32m     67\u001b[0m \u001b[38;5;28;01mif\u001b[39;00m _TEST_MODE:\n\u001b[1;32m     68\u001b[0m     _store_test_result(\u001b[38;5;28;01mFalse\u001b[39;00m)\n\u001b[0;32m---> 69\u001b[0m \u001b[38;5;28;01mreturn\u001b[39;00m \u001b[43mop\u001b[49m\u001b[43m(\u001b[49m\u001b[43ma\u001b[49m\u001b[43m,\u001b[49m\u001b[43m \u001b[49m\u001b[43mb\u001b[49m\u001b[43m)\u001b[49m\n",
      "\u001b[0;31mKeyboardInterrupt\u001b[0m: "
     ]
    }
   ],
   "source": [
    "from sklearn.preprocessing import MultiLabelBinarizer\n",
    "import re\n",
    "from nltk.corpus import stopwords\n",
    "from nltk.stem import WordNetLemmatizer\n",
    "from nltk.tokenize import word_tokenize\n",
    "import nltk\n",
    "\n",
    "#Khởi tạo lại các biến và cài đặt cần thiết\n",
    "nltk.download('punkt')\n",
    "nltk.download('stopwords')\n",
    "nltk.download('wordnet')\n",
    "\n",
    "\n",
    "\n",
    "#Chuyển đổi categories thành danh sách nhãn\n",
    "raw_df['categorieslist'] = raw_df['categories'].apply(lambda x: x.split(', '))\n",
    "mlb = MultiLabelBinarizer()\n",
    "Y = mlb.fit_transform(raw_df['categorieslist'])\n",
    "labels = mlb.classes\n",
    "\n",
    "#Tiền xử lý text\n",
    "lemmatizer = WordNetLemmatizer()\n",
    "stop_words = set(stopwords.words('english'))\n",
    "\n",
    "raw_df['text'] = raw_df['title'] + \" \" + raw_df['abstract']\n",
    "raw_df['text'] = raw_df['text'].str.lower()\n",
    "raw_df['text'] = raw_df['text'].apply(lambda x: re.sub(r'[^a-z\\s]', '', x))\n",
    "raw_df['text'] = raw_df['text'].apply(lambda x: ' '.join([word for word in x.split() if word not in stop_words]))\n",
    "raw_df['text'] = raw_df['text'].apply(lambda x: ' '.join([lemmatizer.lemmatize(word) for word in x.split()]))\n",
    "\n",
    "#Tạo DataFrame kết hợp X và Y\n",
    "X_Y_df = pd.DataFrame({\n",
    "    'text': raw_df['text'],\n",
    "    **{label: Y[:, i] for i, label in enumerate(labels)}\n",
    "})\n",
    "\n",
    "#Lưu vào file CSV\n",
    "output_file = 'processed_arxiv_cs_papers.csv'\n",
    "X_Y_df.to_csv(output_file, index=False)\n",
    "print(f\"File đã được lưu tại: {output_file}\")"
   ]
  }
 ],
 "metadata": {
  "accelerator": "GPU",
  "colab": {
   "gpuType": "T4",
   "provenance": []
  },
  "kernelspec": {
   "display_name": "Python 3 (ipykernel)",
   "language": "python",
   "name": "python3"
  },
  "language_info": {
   "codemirror_mode": {
    "name": "ipython",
    "version": 3
   },
   "file_extension": ".py",
   "mimetype": "text/x-python",
   "name": "python",
   "nbconvert_exporter": "python",
   "pygments_lexer": "ipython3",
   "version": "3.10.15"
  },
  "widgets": {
   "application/vnd.jupyter.widget-state+json": {
    "11d2f96334dc48a6ab0e591eac9d865f": {
     "model_module": "@jupyter-widgets/controls",
     "model_module_version": "1.5.0",
     "model_name": "HTMLModel",
     "state": {
      "_dom_classes": [],
      "_model_module": "@jupyter-widgets/controls",
      "_model_module_version": "1.5.0",
      "_model_name": "HTMLModel",
      "_view_count": null,
      "_view_module": "@jupyter-widgets/controls",
      "_view_module_version": "1.5.0",
      "_view_name": "HTMLView",
      "description": "",
      "description_tooltip": null,
      "layout": "IPY_MODEL_25e1da72c382481ebf1e38920540ec13",
      "placeholder": "​",
      "style": "IPY_MODEL_5c3e5b23e971497bb7568619866d00df",
      "value": " 286M/286M [00:13&lt;00:00, 20.6MB/s]"
     }
    },
    "2520755f33bd4f37a9dd65e394a90278": {
     "model_module": "@jupyter-widgets/base",
     "model_module_version": "1.2.0",
     "model_name": "LayoutModel",
     "state": {
      "_model_module": "@jupyter-widgets/base",
      "_model_module_version": "1.2.0",
      "_model_name": "LayoutModel",
      "_view_count": null,
      "_view_module": "@jupyter-widgets/base",
      "_view_module_version": "1.2.0",
      "_view_name": "LayoutView",
      "align_content": null,
      "align_items": null,
      "align_self": null,
      "border": null,
      "bottom": null,
      "display": null,
      "flex": null,
      "flex_flow": null,
      "grid_area": null,
      "grid_auto_columns": null,
      "grid_auto_flow": null,
      "grid_auto_rows": null,
      "grid_column": null,
      "grid_gap": null,
      "grid_row": null,
      "grid_template_areas": null,
      "grid_template_columns": null,
      "grid_template_rows": null,
      "height": null,
      "justify_content": null,
      "justify_items": null,
      "left": null,
      "margin": null,
      "max_height": null,
      "max_width": null,
      "min_height": null,
      "min_width": null,
      "object_fit": null,
      "object_position": null,
      "order": null,
      "overflow": null,
      "overflow_x": null,
      "overflow_y": null,
      "padding": null,
      "right": null,
      "top": null,
      "visibility": null,
      "width": null
     }
    },
    "25e1da72c382481ebf1e38920540ec13": {
     "model_module": "@jupyter-widgets/base",
     "model_module_version": "1.2.0",
     "model_name": "LayoutModel",
     "state": {
      "_model_module": "@jupyter-widgets/base",
      "_model_module_version": "1.2.0",
      "_model_name": "LayoutModel",
      "_view_count": null,
      "_view_module": "@jupyter-widgets/base",
      "_view_module_version": "1.2.0",
      "_view_name": "LayoutView",
      "align_content": null,
      "align_items": null,
      "align_self": null,
      "border": null,
      "bottom": null,
      "display": null,
      "flex": null,
      "flex_flow": null,
      "grid_area": null,
      "grid_auto_columns": null,
      "grid_auto_flow": null,
      "grid_auto_rows": null,
      "grid_column": null,
      "grid_gap": null,
      "grid_row": null,
      "grid_template_areas": null,
      "grid_template_columns": null,
      "grid_template_rows": null,
      "height": null,
      "justify_content": null,
      "justify_items": null,
      "left": null,
      "margin": null,
      "max_height": null,
      "max_width": null,
      "min_height": null,
      "min_width": null,
      "object_fit": null,
      "object_position": null,
      "order": null,
      "overflow": null,
      "overflow_x": null,
      "overflow_y": null,
      "padding": null,
      "right": null,
      "top": null,
      "visibility": null,
      "width": null
     }
    },
    "25fa65ee50ea41b1892cfc280f37eae0": {
     "model_module": "@jupyter-widgets/base",
     "model_module_version": "1.2.0",
     "model_name": "LayoutModel",
     "state": {
      "_model_module": "@jupyter-widgets/base",
      "_model_module_version": "1.2.0",
      "_model_name": "LayoutModel",
      "_view_count": null,
      "_view_module": "@jupyter-widgets/base",
      "_view_module_version": "1.2.0",
      "_view_name": "LayoutView",
      "align_content": null,
      "align_items": null,
      "align_self": null,
      "border": null,
      "bottom": null,
      "display": null,
      "flex": null,
      "flex_flow": null,
      "grid_area": null,
      "grid_auto_columns": null,
      "grid_auto_flow": null,
      "grid_auto_rows": null,
      "grid_column": null,
      "grid_gap": null,
      "grid_row": null,
      "grid_template_areas": null,
      "grid_template_columns": null,
      "grid_template_rows": null,
      "height": null,
      "justify_content": null,
      "justify_items": null,
      "left": null,
      "margin": null,
      "max_height": null,
      "max_width": null,
      "min_height": null,
      "min_width": null,
      "object_fit": null,
      "object_position": null,
      "order": null,
      "overflow": null,
      "overflow_x": null,
      "overflow_y": null,
      "padding": null,
      "right": null,
      "top": null,
      "visibility": null,
      "width": null
     }
    },
    "5c3e5b23e971497bb7568619866d00df": {
     "model_module": "@jupyter-widgets/controls",
     "model_module_version": "1.5.0",
     "model_name": "DescriptionStyleModel",
     "state": {
      "_model_module": "@jupyter-widgets/controls",
      "_model_module_version": "1.5.0",
      "_model_name": "DescriptionStyleModel",
      "_view_count": null,
      "_view_module": "@jupyter-widgets/base",
      "_view_module_version": "1.2.0",
      "_view_name": "StyleView",
      "description_width": ""
     }
    },
    "5ff0e2c7aa8d4340b23f1cc41ce506d4": {
     "model_module": "@jupyter-widgets/controls",
     "model_module_version": "1.5.0",
     "model_name": "DescriptionStyleModel",
     "state": {
      "_model_module": "@jupyter-widgets/controls",
      "_model_module_version": "1.5.0",
      "_model_name": "DescriptionStyleModel",
      "_view_count": null,
      "_view_module": "@jupyter-widgets/base",
      "_view_module_version": "1.2.0",
      "_view_name": "StyleView",
      "description_width": ""
     }
    },
    "860380934fb347ecb6653dd465c1fea0": {
     "model_module": "@jupyter-widgets/controls",
     "model_module_version": "1.5.0",
     "model_name": "FloatProgressModel",
     "state": {
      "_dom_classes": [],
      "_model_module": "@jupyter-widgets/controls",
      "_model_module_version": "1.5.0",
      "_model_name": "FloatProgressModel",
      "_view_count": null,
      "_view_module": "@jupyter-widgets/controls",
      "_view_module_version": "1.5.0",
      "_view_name": "ProgressView",
      "bar_style": "success",
      "description": "",
      "description_tooltip": null,
      "layout": "IPY_MODEL_bf9ca7f7776848e29eab861d9d72c0c8",
      "max": 286034994,
      "min": 0,
      "orientation": "horizontal",
      "style": "IPY_MODEL_fc1e7b2bd941488bb91877fe3ec081e3",
      "value": 286034994
     }
    },
    "9c3ab994181a4f8c9b05e65f1b3da145": {
     "model_module": "@jupyter-widgets/controls",
     "model_module_version": "1.5.0",
     "model_name": "HBoxModel",
     "state": {
      "_dom_classes": [],
      "_model_module": "@jupyter-widgets/controls",
      "_model_module_version": "1.5.0",
      "_model_name": "HBoxModel",
      "_view_count": null,
      "_view_module": "@jupyter-widgets/controls",
      "_view_module_version": "1.5.0",
      "_view_name": "HBoxView",
      "box_style": "",
      "children": [
       "IPY_MODEL_b16789fa89864f988ca857034b5272ff",
       "IPY_MODEL_860380934fb347ecb6653dd465c1fea0",
       "IPY_MODEL_11d2f96334dc48a6ab0e591eac9d865f"
      ],
      "layout": "IPY_MODEL_25fa65ee50ea41b1892cfc280f37eae0"
     }
    },
    "b16789fa89864f988ca857034b5272ff": {
     "model_module": "@jupyter-widgets/controls",
     "model_module_version": "1.5.0",
     "model_name": "HTMLModel",
     "state": {
      "_dom_classes": [],
      "_model_module": "@jupyter-widgets/controls",
      "_model_module_version": "1.5.0",
      "_model_name": "HTMLModel",
      "_view_count": null,
      "_view_module": "@jupyter-widgets/controls",
      "_view_module_version": "1.5.0",
      "_view_name": "HTMLView",
      "description": "",
      "description_tooltip": null,
      "layout": "IPY_MODEL_2520755f33bd4f37a9dd65e394a90278",
      "placeholder": "​",
      "style": "IPY_MODEL_5ff0e2c7aa8d4340b23f1cc41ce506d4",
      "value": "model.safetensors: 100%"
     }
    },
    "bf9ca7f7776848e29eab861d9d72c0c8": {
     "model_module": "@jupyter-widgets/base",
     "model_module_version": "1.2.0",
     "model_name": "LayoutModel",
     "state": {
      "_model_module": "@jupyter-widgets/base",
      "_model_module_version": "1.2.0",
      "_model_name": "LayoutModel",
      "_view_count": null,
      "_view_module": "@jupyter-widgets/base",
      "_view_module_version": "1.2.0",
      "_view_name": "LayoutView",
      "align_content": null,
      "align_items": null,
      "align_self": null,
      "border": null,
      "bottom": null,
      "display": null,
      "flex": null,
      "flex_flow": null,
      "grid_area": null,
      "grid_auto_columns": null,
      "grid_auto_flow": null,
      "grid_auto_rows": null,
      "grid_column": null,
      "grid_gap": null,
      "grid_row": null,
      "grid_template_areas": null,
      "grid_template_columns": null,
      "grid_template_rows": null,
      "height": null,
      "justify_content": null,
      "justify_items": null,
      "left": null,
      "margin": null,
      "max_height": null,
      "max_width": null,
      "min_height": null,
      "min_width": null,
      "object_fit": null,
      "object_position": null,
      "order": null,
      "overflow": null,
      "overflow_x": null,
      "overflow_y": null,
      "padding": null,
      "right": null,
      "top": null,
      "visibility": null,
      "width": null
     }
    },
    "fc1e7b2bd941488bb91877fe3ec081e3": {
     "model_module": "@jupyter-widgets/controls",
     "model_module_version": "1.5.0",
     "model_name": "ProgressStyleModel",
     "state": {
      "_model_module": "@jupyter-widgets/controls",
      "_model_module_version": "1.5.0",
      "_model_name": "ProgressStyleModel",
      "_view_count": null,
      "_view_module": "@jupyter-widgets/base",
      "_view_module_version": "1.2.0",
      "_view_name": "StyleView",
      "bar_color": null,
      "description_width": ""
     }
    }
   }
  }
 },
 "nbformat": 4,
 "nbformat_minor": 1
}
